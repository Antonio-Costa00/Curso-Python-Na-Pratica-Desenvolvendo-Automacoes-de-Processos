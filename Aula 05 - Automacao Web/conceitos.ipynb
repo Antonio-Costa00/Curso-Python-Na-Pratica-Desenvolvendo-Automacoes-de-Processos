{
 "cells": [
  {
   "cell_type": "markdown",
   "metadata": {},
   "source": [
    "# 🚀 **Aula 05: Parte 01 - Conceitos sobre Automação web como RPA**"
   ]
  },
  {
   "cell_type": "markdown",
   "metadata": {},
   "source": [
    "## Nesta aula iremos estar aprendendo sobre os conceitos por trás dos procedimentos das automações web.\n",
    "---"
   ]
  },
  {
   "cell_type": "markdown",
   "metadata": {},
   "source": [
    "# **1. O que é Automação web?**  ⚡"
   ]
  },
  {
   "cell_type": "markdown",
   "metadata": {},
   "source": [
    "<img src=\"https://i.redd.it/6fg3aicn6if41.png\" alt=\"Drawing\" style=\"width: 600px;\"/>"
   ]
  },
  {
   "cell_type": "markdown",
   "metadata": {},
   "source": [
    "### A automação web é uma maneira de automatizar ações comuns da Web, tais como preencher formulários, clicar em botões, baixar arquivos e entregá-los a bots de software úteis.\n",
    "### **Obs:** Para este curso estamos separando o conceito de automatizar tarefas na web e RPA por conta da forma de se realizar cada um dos processos, no entanto, os dois métodos podem ser entendidos como métodos de automação RPA.\n",
    "---"
   ]
  },
  {
   "cell_type": "markdown",
   "metadata": {},
   "source": [
    "# **2. Tipos de automação web**  ⚡"
   ]
  },
  {
   "cell_type": "markdown",
   "metadata": {},
   "source": [
    "<img src=\"https://encrypted-tbn0.gstatic.com/images?q=tbn:ANd9GcQ80MSAEe7h47ED-_JgFp8oXryga7gi88QTYQ&usqp=CAU\" alt=\"Drawing\" style=\"width: 600px;\"/>"
   ]
  },
  {
   "cell_type": "markdown",
   "metadata": {},
   "source": [
    "### Há varios tipos de automação web. Podemos realizar qualquer tipo de automação na web, como o preenchimento automático de formulários indo até mesmo em criar bots que realizam a compra de um novo produto no momento no qual ele é lançado e é esgotado rapidamente por conta da grande demanda.\n",
    "\n",
    "### **Tenha em mente**: Automação web não comtempla apenas a criação de bots que realizam tarefas manuais. Outro tipo de automação web bem conhecida no ramo de ciencia de dados é o metodo de extração de dados [Web Scraping](https://www.google.com/url?sa=t&rct=j&q=&esrc=s&source=web&cd=&cad=rja&uact=8&ved=2ahUKEwjBjpv30eD5AhW9qZUCHekVDtMQFnoECFEQAQ&url=https%3A%2F%2Fwww.zyte.com%2Flearn%2Fwhat-is-web-scraping%2F&usg=AOvVaw1MeKqraB1BStSZhO6_zDN9), que traduzido para o portugues fica *Raspagem de Dados*. Este método é utilizado para realizar a extração de dados na web, monitoração de preços, analise estatisticas, entre outros.\n",
    "\n",
    "### Nosso curso aborda apenas a automação web como RPA. \n",
    "\n",
    "### Aos interessados pelo processo de raspagem de dados, no curso [Mini Curso Python na prática](https://github.com/Antonio-Costa00/Mini-Curso-Python-Na-Pratica), na aula 02 são abordados conceitos por trás da técnica de web scraping, com exemplos de projetos práticos.\n",
    "---"
   ]
  },
  {
   "cell_type": "markdown",
   "metadata": {},
   "source": [
    "# **3. Como sempre...** ⚡"
   ]
  },
  {
   "cell_type": "markdown",
   "metadata": {},
   "source": [
    "<img src=\"../images/mao-na-massa.jpg\" alt=\"Drawing\" style=\"width: 400px;\"/>\n",
    "\n",
    "---"
   ]
  },
  {
   "cell_type": "markdown",
   "metadata": {},
   "source": [
    "### "
   ]
  }
 ],
 "metadata": {
  "kernelspec": {
   "display_name": "Python 3.10.6 64-bit",
   "language": "python",
   "name": "python3"
  },
  "language_info": {
   "name": "python",
   "version": "3.10.6"
  },
  "orig_nbformat": 4,
  "vscode": {
   "interpreter": {
    "hash": "c9d432971bd129ee71eb1fca121b62dbd92dc54bba4e3c215bc15497eb670e9a"
   }
  }
 },
 "nbformat": 4,
 "nbformat_minor": 2
}
