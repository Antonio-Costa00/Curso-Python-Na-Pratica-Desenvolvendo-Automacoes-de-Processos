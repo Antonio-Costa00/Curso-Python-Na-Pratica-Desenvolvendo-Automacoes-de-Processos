{
 "cells": [
  {
   "cell_type": "markdown",
   "metadata": {},
   "source": [
    "# 🚀 **Aula 05: Parte 02 - Desenvolvendo e trabalhando com bots na web como RPA utilizando Selenium**"
   ]
  },
  {
   "cell_type": "markdown",
   "metadata": {},
   "source": [
    "## Nesta aula iremos estar desenvolvendo alguns bots web que realizam tarefas manuais em sites na web, como por exemplo preenchimento automatico de formularios e login automatico em websites, além de entender sobre entender a principal ferramenta para realizarmos essas tarefas, a ferramenta de testes e automação **Selenium**.\n",
    "---"
   ]
  },
  {
   "cell_type": "markdown",
   "metadata": {},
   "source": [
    "# **1. O que é Selenium?**  ⚡"
   ]
  },
  {
   "cell_type": "markdown",
   "metadata": {},
   "source": [
    "<img src=\"https://www.meme-arsenal.com/memes/bc08a47bc3f8632706cd9e94b2221ce9.jpg\" alt=\"Drawing\" style=\"width: 400px;\"/>"
   ]
  },
  {
   "cell_type": "markdown",
   "metadata": {},
   "source": [
    "### Selenium é uma ferramenta de código aberto que automatiza os navegadores da web. Ele fornece uma interface única que permite escrever scripts de teste em linguagens de programação como Ruby, Java, NodeJS, PHP, Perl, Python e C#, entre outras."
   ]
  },
  {
   "cell_type": "markdown",
   "metadata": {},
   "source": [
    "### Em automação Web podemos considerar que Selenium é um conjunto de bibliotecas que nos ajudam a automatizar e interagir com os navegadores. "
   ]
  },
  {
   "cell_type": "markdown",
   "metadata": {},
   "source": [
    "### No entanto, selenium vai muito além disso. Selenium também é utilizado para realizar testes automatizados de aplicações, muito usado em projetos que incluem criações de API, Integral para Integração/Entrega Contínua (CI/CD), testes de performance, entre outros.\n",
    "\n",
    "### Tambem podemos utilizar selenium para realizar web scraping em paginas na web de conteudio **Dinâmico**."
   ]
  },
  {
   "cell_type": "markdown",
   "metadata": {},
   "source": [
    "## **1.1 Por que selenium?**"
   ]
  },
  {
   "cell_type": "markdown",
   "metadata": {},
   "source": [
    "### Open Source -> GRATUITO\n",
    "- Suporta diferentes tipos de navegadores\n",
    "- Suporta várias linguagens de programação diferentes\n",
    "- Enorme comunidade por trás dele tantas respostas para quaisquer problemas/perguntas\n",
    "- Pode ser executado em diferentes sistemas operacionais, como: Mac, Windows, Linux etc."
   ]
  },
  {
   "cell_type": "markdown",
   "metadata": {},
   "source": [
    "# **2. Instalação**  ⚡"
   ]
  },
  {
   "cell_type": "markdown",
   "metadata": {},
   "source": [
    "## **2.1 Instalando bibliotecas**"
   ]
  },
  {
   "cell_type": "markdown",
   "metadata": {},
   "source": [
    "### Para começarmos, iremos instalar nossa biblioteca utilizando o *pip*"
   ]
  },
  {
   "cell_type": "code",
   "execution_count": null,
   "metadata": {},
   "outputs": [],
   "source": [
    "!python -m pip install selenium"
   ]
  },
  {
   "cell_type": "markdown",
   "metadata": {},
   "source": [
    "## **2.2 Opção 1: Instalando drivers manualmente**"
   ]
  },
  {
   "cell_type": "markdown",
   "metadata": {},
   "source": [
    "### Para utilizarmos o Selenium é necessário um driver para fazer interface com o navegador escolhido. \n",
    "### Para nosso treinamento, iremos utilizar o navegador Google Chrome.\n",
    "### O Firefox, por exemplo, requer o geckodriver, que precisa ser instalado antes que os exemplos abaixo possam ser executados. Certifique-se de que está no seu PATH.\n",
    "### A não observância desta etapa causará o erro selenium.common.exceptions.WebDriverException: Mensagem: o executável 'geckodriver' precisa estar no PATH.\n",
    "### Os navegadores suportados terão seus próprios drivers disponíveis. Seguem links para alguns dos drivers de navegador mais populares.\n",
    "\n",
    "- [Chrome](https://sites.google.com/chromium.org/driver/)\n",
    "- [Edge](https://developer.microsoft.com/en-us/microsoft-edge/tools/webdriver/)\n",
    "- [Firefox](https://github.com/mozilla/geckodriver/releases)\n",
    "- [Safari](https://webkit.org/blog/6900/webdriver-support-in-safari-10/)\n",
    "\n",
    "### **Obs**: Certifique-se de baixar a versão correspondente ao seu navegador no momento de realizar o download do driver."
   ]
  },
  {
   "cell_type": "markdown",
   "metadata": {},
   "source": [
    "<img src=\"../images/drive_version.png\" alt=\"Drawing\" style=\"width: 600px;\"/>"
   ]
  },
  {
   "cell_type": "markdown",
   "metadata": {},
   "source": [
    "### Para obter mais informações sobre a instalação do driver, consulte a documentação oficial, que pode ser encontrada nas referências."
   ]
  },
  {
   "cell_type": "markdown",
   "metadata": {},
   "source": [
    "## **2.3 Opção 2: Instalando drivers de forma automática**"
   ]
  },
  {
   "cell_type": "markdown",
   "metadata": {},
   "source": [
    "### Para o passo anterior, é necessáro verificar a versão do navegador, realizar o download do driver compátivel, salvar-lo em um diretório e indicar o caminho absoluto dentro do script.\n",
    "\n",
    "### Existe outra maneira de utilizarmos os drivers de navegadores de forma automatica com a biblioteca *webdriver-manager*, que automaticamente realiza este trabalho manual, salvando o driver em um diretorio de nossa máquina. "
   ]
  },
  {
   "cell_type": "code",
   "execution_count": null,
   "metadata": {},
   "outputs": [],
   "source": [
    "!python -m pip install webdriver-manager"
   ]
  },
  {
   "cell_type": "markdown",
   "metadata": {},
   "source": [
    "# **3. Exemplo simples**  ⚡"
   ]
  },
  {
   "cell_type": "markdown",
   "metadata": {},
   "source": [
    "## **3.1 Importando os pacotes**"
   ]
  },
  {
   "cell_type": "markdown",
   "metadata": {},
   "source": [
    "### Iniciaremos importando os pacotes necessários"
   ]
  },
  {
   "cell_type": "code",
   "execution_count": null,
   "metadata": {},
   "outputs": [],
   "source": [
    "from selenium import webdriver\n",
    "from selenium.webdriver.common.keys import Keys\n",
    "from selenium.webdriver.common.by import By\n",
    "from selenium.webdriver.chrome.options import Options\n",
    "from selenium.webdriver.support.select import Select\n",
    "from threading import Thread\n",
    "from webdriver_manager.chrome import ChromeDriverManager"
   ]
  },
  {
   "cell_type": "markdown",
   "metadata": {},
   "source": [
    "## **3.2 Abrindo uma pagina na internet**"
   ]
  },
  {
   "cell_type": "markdown",
   "metadata": {},
   "source": [
    "### Vamos abrir o site da Amazon e procurar por algum produto"
   ]
  },
  {
   "cell_type": "code",
   "execution_count": null,
   "metadata": {},
   "outputs": [],
   "source": [
    "# Instala um novo driver do Chrome caso não exista\n",
    "driver = webdriver.Chrome(ChromeDriverManager().install())\n",
    "# Abre o site\n",
    "driver.get(\"https://www.amazon.com\")\n",
    "# Procura o campo de busca\n",
    "produto = \"Tenis\"\n",
    "# Digita o termo de busca\n",
    "busca_box = driver.find_element(By.XPATH, '/html/body/div[1]/header/div/div[1]/div[2]/div/form/div[2]/div[1]/input')\n",
    "# Limpa o campo de busca antes de digitar o produto\n",
    "busca_box.clear()\n",
    "# Envia o produto para o campo de busca\n",
    "busca_box.send_keys(produto)\n",
    "# Aperta enter\n",
    "busca_box.send_keys(Keys.RETURN)"
   ]
  },
  {
   "cell_type": "markdown",
   "metadata": {},
   "source": [
    "## **3.3 Passos para automatizar o navegador**"
   ]
  },
  {
   "cell_type": "markdown",
   "metadata": {},
   "source": [
    "### 1. Entrar no site de destino\n",
    "\n",
    "### 2. Encontrar no site o campo desejado\n",
    "### 3. Clicra com o direito do mouse em cima do campo\n",
    "### 5. Clicar em inspect\n",
    "### 6. Em cima dos tres pontos (...) clique e selecione copy\n",
    "### 7. Copie o XPATH ou procure o id do campo\n",
    "### 8. Use o metodo find_element seguido da palavra By com a forma de coletar o campo\n",
    "   - Ex: find_element(By.ID, \"id do campo\")"
   ]
  },
  {
   "cell_type": "markdown",
   "metadata": {},
   "source": [
    "# **4. Mini projeto 01 - Criando novas contas automaticamentes em site de ecommerce**  ⚡"
   ]
  },
  {
   "cell_type": "markdown",
   "metadata": {},
   "source": [
    "### Para este projeto iremos estar criando novas contas automaticamente em um site de ecommerce, gerando registros aleatorios e salvando os em uma planilha do excel."
   ]
  },
  {
   "cell_type": "markdown",
   "metadata": {},
   "source": [
    "### Para isso, iremos gerar alguns dados falsos com a biblioteca *Faker*, e a biblioteca *pandas* para salvar os registros em uma planilha do excel"
   ]
  },
  {
   "cell_type": "code",
   "execution_count": null,
   "metadata": {},
   "outputs": [],
   "source": [
    "!python -m pip install Faker\n",
    "!python -m pip install pandas"
   ]
  },
  {
   "cell_type": "markdown",
   "metadata": {},
   "source": [
    "## **4.1 Gerando dados aleatorios**"
   ]
  },
  {
   "cell_type": "code",
   "execution_count": null,
   "metadata": {},
   "outputs": [],
   "source": [
    "from faker import Faker"
   ]
  },
  {
   "cell_type": "markdown",
   "metadata": {},
   "source": [
    "### Exemplo simples"
   ]
  },
  {
   "cell_type": "code",
   "execution_count": null,
   "metadata": {},
   "outputs": [],
   "source": [
    "fake = Faker()\n",
    "nome = fake.name()\n",
    "print(nome)\n",
    "nomes = nome.split()\n",
    "primeiro_nome = nomes[0]\n",
    "sobrenome = nomes[1]\n",
    "print(primeiro_nome)\n",
    "print(sobrenome)"
   ]
  },
  {
   "cell_type": "markdown",
   "metadata": {},
   "source": [
    "### Criando funcao que gera dados falsos"
   ]
  },
  {
   "cell_type": "code",
   "execution_count": null,
   "metadata": {},
   "outputs": [],
   "source": [
    "def gera_dados(num_registros: int):\n",
    "    # Instancia a classe Faker\n",
    "    fake = Faker()\n",
    "    registros = []\n",
    "    \n",
    "    for _ in range(num_registros):\n",
    "       \n",
    "       nome = fake.name()\n",
    "       # Separa o nome em dois, primeiro e sobrenome \n",
    "       nomes = nome.split()\n",
    "       # Coleta o primeiro nome\n",
    "       primeiro_nome = nomes[0]\n",
    "       sobrenome = nomes[1]\n",
    "       email = fake.email()\n",
    "       telefone = fake.phone_number()\n",
    "       senha = fake.password()\n",
    "       \n",
    "       # Salvando os dados em uma lista de dicionarios\n",
    "       \n",
    "       registros.append(\n",
    "           {\n",
    "               \"primeiro_nome\": primeiro_nome,\n",
    "               \"sobrenome\": sobrenome,\n",
    "               \"email\": email,\n",
    "               \"telefone\": telefone,\n",
    "               \"senha\": senha,\t\n",
    "           }\n",
    "       )\n",
    "    return registros"
   ]
  },
  {
   "cell_type": "markdown",
   "metadata": {},
   "source": [
    "### Vamos gerar alguns cadastros aleatorios"
   ]
  },
  {
   "cell_type": "code",
   "execution_count": null,
   "metadata": {},
   "outputs": [],
   "source": [
    "print(gera_dados(5))"
   ]
  },
  {
   "cell_type": "markdown",
   "metadata": {},
   "source": [
    "### Vamos printar nosso resultado com mais clareza com ajuda da biblioteca json"
   ]
  },
  {
   "cell_type": "code",
   "execution_count": null,
   "metadata": {},
   "outputs": [],
   "source": [
    "import json\n",
    "\n",
    "registros = gera_dados(40)\n",
    "# json.dumps: metodo responsavel por estilizar um dicitonario em formato json\n",
    "registros_bonitos = json.dumps(registros, indent=4)\n",
    "print(registros_bonitos)"
   ]
  },
  {
   "cell_type": "markdown",
   "metadata": {},
   "source": [
    "## **4.2 Salvando registros em uma planilha excel**"
   ]
  },
  {
   "cell_type": "markdown",
   "metadata": {},
   "source": [
    "### Agora que ja possuimos os registros, iremos salvar os registros em uma planilha do excel"
   ]
  },
  {
   "cell_type": "code",
   "execution_count": null,
   "metadata": {},
   "outputs": [],
   "source": [
    "import pandas as pd\n",
    "\n",
    "def dados_para_planilha(dados):\n",
    "    df = pd.DataFrame(dados)\n",
    "    df.to_excel(\"Dados aleatorios.xlsx\", index=False)\n",
    "    \n",
    "registros = gera_dados(40)\n",
    "dados_para_planilha(dados=registros)"
   ]
  },
  {
   "cell_type": "markdown",
   "metadata": {},
   "source": [
    "### Para gerar os dados para uma planilha, necessitamos da biblioteca *openpyxl* instalada."
   ]
  },
  {
   "cell_type": "code",
   "execution_count": null,
   "metadata": {},
   "outputs": [],
   "source": [
    "!python -m pip install openpyxl"
   ]
  },
  {
   "cell_type": "markdown",
   "metadata": {},
   "source": [
    "### Se executarmos o bloco anterior novamente sera gerada uma planilha com todos os dados gerados"
   ]
  },
  {
   "cell_type": "markdown",
   "metadata": {},
   "source": [
    "## **4.3 Criando nosso bot**"
   ]
  },
  {
   "cell_type": "markdown",
   "metadata": {},
   "source": [
    "### Agora que ja criamos as funções que geram os dados aleatórios e ja temos eles salvos em uma planilha do excel, esta na hora de criarmos nosso bot"
   ]
  },
  {
   "cell_type": "code",
   "execution_count": 33,
   "metadata": {},
   "outputs": [],
   "source": [
    "from selenium import webdriver\n",
    "from selenium.webdriver.common.keys import Keys\n",
    "from selenium.webdriver.common.by import By\n",
    "from selenium.webdriver.chrome.options import Options\n",
    "from selenium.webdriver.support.select import Select\n",
    "from threading import Thread\n",
    "from webdriver_manager.chrome import ChromeDriverManager\n",
    "\n",
    "class EcommerceBot():\n",
    "    def __init__(self, segundo_plano = False):\n",
    "    \n",
    "        options = Options()\n",
    "        if segundo_plano:\n",
    "            options.add_argument(\"--headless\")\n",
    "        website = \"https://ecommerce-playground.lambdatest.io/index.php?route=account/register\"\n",
    "        self.driver = webdriver.Chrome(ChromeDriverManager().install(), options=options)\n",
    "        self.driver.get(website)\n",
    "        \n",
    "    def escreve_nome(self, nome):\n",
    "        \n",
    "        primeiro_nome = self.driver.find_element(By.ID, 'input-firstname')\n",
    "        primeiro_nome.send_keys(nome)\n",
    "        \n",
    "    def escreve_sobrenome(self, sobrenome):\n",
    "        \n",
    "        ultimo_nome = self.driver.find_element(By.ID, 'input-lastname')\n",
    "        ultimo_nome.send_keys(sobrenome)\n",
    "        \n",
    "    def escreve_email(self, email):\n",
    "        \n",
    "        user_email = self.driver.find_element(By.XPATH, '//*[@id=\"input-email\"]')\n",
    "        user_email.send_keys(email)\n",
    "        \n",
    "    def escreve_telefone(self, telefone):\n",
    "        \n",
    "        user_telefone = self.driver.find_element(By.ID, 'input-telephone')\n",
    "        user_telefone.send_keys(telefone)\n",
    "        \n",
    "    def escreve_senha(self, senha):\n",
    "        \n",
    "        user_senha = self.driver.find_element(By.ID, 'input-password')\n",
    "        user_senha.send_keys(senha)\n",
    "        \n",
    "    def confirma_senha(self, senha):\n",
    "        \n",
    "        campo_confirma_senha = self.driver.find_element(By.ID, 'input-confirm')\n",
    "        campo_confirma_senha.send_keys(senha)\n",
    "        \n",
    "    def aceitar_se_inscrever(self):\n",
    "        \n",
    "        campo_se_inscrever = self.driver.find_element(By.XPATH, '//*[@id=\"content\"]/form/fieldset[3]/div/div/div[1]/label')\n",
    "        campo_se_inscrever.click()\n",
    "        \n",
    "    def aceitar_termos_e_condicoes(self):\n",
    "        \n",
    "        campo_condicoes = self.driver.find_element(By.XPATH, '//*[@id=\"content\"]/form/div/div/div/label')\n",
    "        campo_condicoes.click()\n",
    "        \n",
    "    def cadastrar_usuario(self):\n",
    "        \n",
    "        campo_continuar = self.driver.find_element(By.XPATH, '//*[@id=\"content\"]/form/div/div/input')\n",
    "        campo_continuar.click()"
   ]
  },
  {
   "cell_type": "markdown",
   "metadata": {},
   "source": [
    "### Vamos fazer alguns testes com nosso bot"
   ]
  },
  {
   "cell_type": "code",
   "execution_count": null,
   "metadata": {},
   "outputs": [],
   "source": [
    "bot = EcommerceBot()\n",
    "bot.escreve_nome(\"Joao\")\n",
    "bot.escreve_sobrenome(\"Silva\")\n",
    "bot.escreve_email(\"Joao@gmail.com\")\n",
    "bot.escreve_telefone(\"11999999999\")\n",
    "bot.escreve_senha(\"123456\")\n",
    "bot.confirma_senha(\"123456\")\n",
    "bot.aceitar_se_inscrever()\n",
    "bot.aceitar_termos_e_condicoes()\n",
    "bot.cadastrar_usuario()"
   ]
  },
  {
   "cell_type": "markdown",
   "metadata": {},
   "source": [
    "### Agora vamso juntar todas as funcoes de uma so vez"
   ]
  },
  {
   "cell_type": "code",
   "execution_count": 34,
   "metadata": {},
   "outputs": [
    {
     "name": "stderr",
     "output_type": "stream",
     "text": [
      "C:\\Users\\antonio.costa\\AppData\\Local\\Temp\\ipykernel_12888\\1943344637.py:16: DeprecationWarning: executable_path has been deprecated, please pass in a Service object\n",
      "  self.driver = webdriver.Chrome(ChromeDriverManager().install(), options=options)\n"
     ]
    },
    {
     "name": "stdout",
     "output_type": "stream",
     "text": [
      "Usuario Kenneth cadastrado com sucesso!\n",
      "Usuario Nicholas cadastrado com sucesso!\n",
      "Usuario Darren cadastrado com sucesso!\n",
      "Usuario Robin cadastrado com sucesso!\n",
      "Usuario Mary cadastrado com sucesso!\n"
     ]
    }
   ],
   "source": [
    "registros = gera_dados(5)\n",
    "# Transformar dados em uma planilha\n",
    "dados_para_planilha(registros)\n",
    "for registro in registros:\n",
    "    \n",
    "    bot = EcommerceBot()\n",
    "    nome = registro[\"primeiro_nome\"]\n",
    "    sobrenome = registro[\"sobrenome\"]\n",
    "    email = registro[\"email\"]\n",
    "    telefone = registro[\"telefone\"]\n",
    "    senha = registro[\"senha\"]\n",
    "    \n",
    "    bot.escreve_nome(nome)\n",
    "    bot.escreve_sobrenome(sobrenome)\n",
    "    bot.escreve_email(email)\n",
    "    bot.escreve_telefone(telefone)\n",
    "    bot.escreve_senha(senha)\n",
    "    bot.confirma_senha(senha)\n",
    "    bot.aceitar_se_inscrever()\n",
    "    bot.aceitar_termos_e_condicoes()\n",
    "    bot.cadastrar_usuario()\n",
    "    \n",
    "    print(f\"Usuario {nome} cadastrado com sucesso!\")"
   ]
  },
  {
   "cell_type": "markdown",
   "metadata": {},
   "source": [
    "# **Referências** "
   ]
  },
  {
   "cell_type": "markdown",
   "metadata": {},
   "source": [
    "## [Selenium](https://www.browserstack.com/selenium#:~:text=Selenium%20is%20an%20open%2Dsource,%2C%20and%20C%23%2C%20among%20others.)\n",
    "## [Installation](https://selenium-python.readthedocs.io/installation.html#installing-python-bindings-for-selenium)\n",
    "## [official documentation](https://www.selenium.dev/documentation/en/webdriver/driver_requirements/)\n",
    "## [How To Automate Filling In Web Forms With Python Using Selenium](https://www.lambdatest.com/blog/how-to-automate-filling-in-web-forms-with-python-using-selenium/)\n",
    "---"
   ]
  }
 ],
 "metadata": {
  "kernelspec": {
   "display_name": "Python 3.10.6 64-bit",
   "language": "python",
   "name": "python3"
  },
  "language_info": {
   "codemirror_mode": {
    "name": "ipython",
    "version": 3
   },
   "file_extension": ".py",
   "mimetype": "text/x-python",
   "name": "python",
   "nbconvert_exporter": "python",
   "pygments_lexer": "ipython3",
   "version": "3.10.6"
  },
  "orig_nbformat": 4,
  "vscode": {
   "interpreter": {
    "hash": "c9d432971bd129ee71eb1fca121b62dbd92dc54bba4e3c215bc15497eb670e9a"
   }
  }
 },
 "nbformat": 4,
 "nbformat_minor": 2
}
