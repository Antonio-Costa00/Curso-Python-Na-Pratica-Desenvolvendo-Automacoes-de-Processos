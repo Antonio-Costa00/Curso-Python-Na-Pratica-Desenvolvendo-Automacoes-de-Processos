{
 "cells": [
  {
   "cell_type": "markdown",
   "metadata": {},
   "source": [
    "# 🚀 **Aula 05: Parte 02 - Desenvolvendo e trabalhando com bots na web como RPA utilizando Selenium**"
   ]
  },
  {
   "cell_type": "markdown",
   "metadata": {},
   "source": [
    "## Nesta aula iremos estar desenvolvendo alguns bots web que realizam tarefas manuais em sites na web, como por exemplo preenchimento automatico de formularios e login automatico em websites, além de entender sobre entender a principal ferramenta para realizarmos essas tarefas, a ferramenta de testes e automação **Selenium**.\n",
    "---"
   ]
  },
  {
   "cell_type": "markdown",
   "metadata": {},
   "source": [
    "# **1. O que é Selenium?**  ⚡"
   ]
  },
  {
   "cell_type": "markdown",
   "metadata": {},
   "source": [
    "<img src=\"https://www.meme-arsenal.com/memes/bc08a47bc3f8632706cd9e94b2221ce9.jpg\" alt=\"Drawing\" style=\"width: 400px;\"/>"
   ]
  },
  {
   "cell_type": "markdown",
   "metadata": {},
   "source": [
    "### Selenium é uma ferramenta de código aberto que automatiza os navegadores da web. Ele fornece uma interface única que permite escrever scripts de teste em linguagens de programação como Ruby, Java, NodeJS, PHP, Perl, Python e C#, entre outras."
   ]
  },
  {
   "cell_type": "markdown",
   "metadata": {},
   "source": [
    "### Em automação Web podemos considerar que Selenium é um conjunto de bibliotecas que nos ajudam a automatizar e interagir com os navegadores. "
   ]
  },
  {
   "cell_type": "markdown",
   "metadata": {},
   "source": [
    "### No entanto, selenium vai muito além disso. Selenium também é utilizado para realizar testes automatizados de aplicações, muito usado em projetos que incluem criações de API, Integral para Integração/Entrega Contínua (CI/CD), testes de performance, entre outros.\n",
    "\n",
    "### Tambem podemos utilizar selenium para realizar web scraping em paginas na web de conteudio **Dinâmico**."
   ]
  },
  {
   "cell_type": "markdown",
   "metadata": {},
   "source": [
    "## **1.1 Por que selenium?**"
   ]
  },
  {
   "cell_type": "markdown",
   "metadata": {},
   "source": [
    "### Open Source -> GRATUITO\n",
    "- Suporta diferentes tipos de navegadores\n",
    "- Suporta várias linguagens de programação diferentes\n",
    "- Enorme comunidade por trás dele tantas respostas para quaisquer problemas/perguntas\n",
    "- Pode ser executado em diferentes sistemas operacionais, como: Mac, Windows, Linux etc."
   ]
  },
  {
   "cell_type": "markdown",
   "metadata": {},
   "source": [
    "# **2. Instalação**  ⚡"
   ]
  },
  {
   "cell_type": "markdown",
   "metadata": {},
   "source": [
    "## **2.1 Instalando bibliotecas**"
   ]
  },
  {
   "cell_type": "markdown",
   "metadata": {},
   "source": [
    "### Para começarmos, iremos instalar nossa biblioteca utilizando o *pip*"
   ]
  },
  {
   "cell_type": "code",
   "execution_count": null,
   "metadata": {},
   "outputs": [],
   "source": [
    "! pip3 install selenium"
   ]
  },
  {
   "cell_type": "markdown",
   "metadata": {},
   "source": [
    "## **2.2 Opção 1: Instalando drivers manualmente**"
   ]
  },
  {
   "cell_type": "markdown",
   "metadata": {},
   "source": [
    "### Para utilizarmos o Selenium é necessário um driver para fazer interface com o navegador escolhido. \n",
    "### Para nosso treinamento, iremos utilizar o navegador Google Chrome.\n",
    "### O Firefox, por exemplo, requer o geckodriver, que precisa ser instalado antes que os exemplos abaixo possam ser executados. Certifique-se de que está no seu PATH.\n",
    "### A não observância desta etapa causará o erro selenium.common.exceptions.WebDriverException: Mensagem: o executável 'geckodriver' precisa estar no PATH.\n",
    "### Os navegadores suportados terão seus próprios drivers disponíveis. Seguem links para alguns dos drivers de navegador mais populares.\n",
    "\n",
    "- [Chrome](https://sites.google.com/chromium.org/driver/)\n",
    "- [Edge](https://developer.microsoft.com/en-us/microsoft-edge/tools/webdriver/)\n",
    "- [Firefox](https://github.com/mozilla/geckodriver/releases)\n",
    "- [Safari](https://webkit.org/blog/6900/webdriver-support-in-safari-10/)\n",
    "\n",
    "### **Obs**: Certifique-se de baixar a versão correspondente ao seu navegador no momento de realizar o download do driver."
   ]
  },
  {
   "cell_type": "markdown",
   "metadata": {},
   "source": [
    "<img src=\"../images/drive_version.png\" alt=\"Drawing\" style=\"width: 600px;\"/>"
   ]
  },
  {
   "cell_type": "markdown",
   "metadata": {},
   "source": [
    "### Para obter mais informações sobre a instalação do driver, consulte a documentação oficial, que pode ser encontrada nas referências."
   ]
  },
  {
   "cell_type": "markdown",
   "metadata": {},
   "source": [
    "## **2.3 Opção 2: Instalando drivers de forma automática**"
   ]
  },
  {
   "cell_type": "markdown",
   "metadata": {},
   "source": [
    "### Para o passo anterior, é necessáro verificar a versão do navegador, realizar o download do driver compátivel, salvar-lo em um diretório e indicar o caminho absoluto dentro do script.\n",
    "\n",
    "### Existe outra maneira de utilizarmos os drivers de navegadores de forma automatica com a biblioteca *webdriver-manager*, que automaticamente realiza este trabalho manual, salvando o driver em um diretorio de nossa máquina. "
   ]
  },
  {
   "cell_type": "code",
   "execution_count": null,
   "metadata": {},
   "outputs": [],
   "source": [
    "! pip install webdriver-manager"
   ]
  },
  {
   "cell_type": "markdown",
   "metadata": {},
   "source": [
    "# **3. Exemplo simples**  ⚡"
   ]
  },
  {
   "cell_type": "markdown",
   "metadata": {},
   "source": [
    "## **3.1 Importando os pacotes**"
   ]
  },
  {
   "cell_type": "markdown",
   "metadata": {},
   "source": [
    "### Iniciaremos importando os pacotes necessários"
   ]
  },
  {
   "cell_type": "code",
   "execution_count": null,
   "metadata": {},
   "outputs": [],
   "source": [
    "from selenium import webdriver\n",
    "from selenium.webdriver.common.keys import Keys\n",
    "from selenium.webdriver.common.by import By\n",
    "from webdriver_manager.chrome import ChromeDriverManager\n",
    "from time import sleep"
   ]
  },
  {
   "cell_type": "markdown",
   "metadata": {},
   "source": [
    "## **3.2 Abrindo uma pagina na internet**"
   ]
  },
  {
   "cell_type": "markdown",
   "metadata": {},
   "source": [
    "### Vamos abrir o site da Amazon e procurar por algum produto"
   ]
  },
  {
   "cell_type": "code",
   "execution_count": null,
   "metadata": {},
   "outputs": [],
   "source": [
    "# Instala um novo driver do Chrome caso não exista\n",
    "driver = webdriver.Chrome(ChromeDriverManager().install())\n",
    "# Abre o site\n",
    "driver.get(\"https://www.amazon.com\")\n",
    "# Procura o campo de busca\n",
    "busca_box = driver.find_element_by_xpath('//*[@id=\"twotabsearchtextbox\"]')\n",
    "# Digita o termo de busca\n",
    "produto = input(\"Digite o produto que deseja buscar: \")\n",
    "# Limpa o campo de busca antes de digitar o produto\n",
    "busca_box.clear()\n",
    "# Envia o produto para o campo de busca\n",
    "busca_box.send_keys(produto)\n",
    "# Aperta enter\n",
    "busca_box.send_keys(Keys.RETURN)"
   ]
  },
  {
   "cell_type": "markdown",
   "metadata": {},
   "source": [
    "# **4. Mini projeto 01 - Preenchendo formulário automaticamente na internet**  ⚡"
   ]
  },
  {
   "cell_type": "markdown",
   "metadata": {},
   "source": [
    "### Para este mini projeto iremos preencher um formulário na internet de forma prática usando Python e Selenium."
   ]
  },
  {
   "cell_type": "code",
   "execution_count": null,
   "metadata": {},
   "outputs": [],
   "source": [
    "from selenium import webdriver\n",
    "from selenium.webdriver.common.keys import Keys\n",
    "from selenium.webdriver.common.by import By\n",
    "from selenium.webdriver.chrome.options import Options\n",
    "from selenium.webdriver.support.select import Select\n",
    "from threading import Thread\n",
    "from webdriver_manager.chrome import ChromeDriverManager\n",
    "\n",
    "class AutoFormBot():\n",
    "    def __init__(self):\n",
    "        # Todo o bloco sera executado quando o objeto for criado\n",
    "        options = Options()\n",
    "        # Caso queira que o driver abra o site em modo headless\n",
    "        # options.add_argument(\"--headless\")\n",
    "        website = \"https://iqssdss2020.pythonanywhere.com/tutorial/form/search\"\n",
    "        self.driver = webdriver.Chrome(ChromeDriverManager().install(), options=options)\n",
    "        self.driver.get(website)\n",
    "        self.driver.maximize_window()\n",
    "        ################################################################\n",
    "        \n",
    "    def fill_field_name(self, name) -> None:\n",
    "        field_name = self.driver.find_element_by_xpath('//*[@id=\"search_name\"]')\n",
    "        field_name.send_keys(name)\n",
    "        \n",
    "    def select_field_grade(self) -> None:\n",
    "        # Usaremos o módulo Select para selecionar o campo de grade\n",
    "        field_grade = Select(self.driver.find_element_by_xpath('//*[@id=\"search_grade\"]'))\n",
    "        # Espera 10 segundos até que o campo apareça\n",
    "        self.driver.implicitly_wait(10)\n",
    "        # Como usamos o método Select, podemos selecionar o valor desejado pelo texto do campo \n",
    "        field_grade.select_by_visible_text(\"5\")\n",
    "        \n",
    "    def select_page_size(self, page_size=10) -> None:\n",
    "        # Como os campos variam de 5, 10 e 15 podemos atribuir uma lista de valores exata para o campo\n",
    "        page_size_list = [5, 10, 15]\n",
    "        if page_size not in page_size_list:\n",
    "            print(\"O valor passado não é válido\")\n",
    "            return None\n",
    "        field_page_size = self.driver.find_element_by_xpath(f'//*[@id=\"p{page_size}\"]')\n",
    "        field_page_size.click()\n",
    "        \n",
    "    def accept_privacy_policy(self) -> None:\n",
    "        field_privacy_policy = self.driver.find_element_by_xpath('//*[@id=\"privacypolicy\"]')\n",
    "        field_privacy_policy.click()\n",
    "        \n",
    "    def accept_terms_and_conditions(self) -> None:\n",
    "        field_terms_and_conditions = self.driver.find_element_by_xpath('//*[@id=\"termsconditions\"]')\n",
    "        field_terms_and_conditions.click()\n",
    "        \n",
    "    def select_search_button(self) -> None:\n",
    "        field_search_button = self.driver.find_element_by_xpath('//*[@id=\"search\"]')\n",
    "        self.driver.implicitly_wait(10)\n",
    "        field_search_button.click()\n",
    "        \n",
    "    def run_all(self) -> None:\n",
    "        \"\"\"\n",
    "        Function to run all the functions in parallel\n",
    "        \n",
    "        \"\"\"\n",
    "        if __name__ == \"__main__\":\n",
    "            Thread(target=self.fill_field_name, args=(\"Teste\",)).start()\n",
    "            Thread(target=self.select_field_grade).start()\n",
    "            Thread(target=self.select_page_size, args=(10,)).start()\n",
    "            Thread(target=self.accept_privacy_policy).start()\n",
    "            Thread(target=self.accept_terms_and_conditions).start()\n",
    "            self.driver.implicitly_wait(10)\n",
    "            self.select_search_button()\n",
    "\n",
    "bot = AutoFormBot()\n",
    "# bot.fill_field_name(\"Lucas\")\n",
    "# bot.select_field_grade()\n",
    "# bot.select_page_size(15)\n",
    "# bot.accept_privacy_policy()\n",
    "# bot.accept_terms_and_conditions()\n",
    "# bot.select_search_button()\n",
    "bot.run_all()"
   ]
  },
  {
   "cell_type": "markdown",
   "metadata": {},
   "source": [
    "### No exemplo acima preenchemos o formulario automaticamente, campo a campo. E se quisessemos preencher todos os campos de uma só vez? "
   ]
  },
  {
   "cell_type": "markdown",
   "metadata": {},
   "source": [
    "### Threads! Podemos acrescentar um novo método em nossa classe que preenche todos os campos de uma só vez."
   ]
  },
  {
   "cell_type": "markdown",
   "metadata": {},
   "source": [
    "# **5. Mini projeto 02 - Criando novas contas automaticamentes em site de ecommerce**  ⚡"
   ]
  },
  {
   "cell_type": "markdown",
   "metadata": {},
   "source": [
    "### Para este projeto iremos estar criando uma nova conta automaticamente em um site de ecommerce"
   ]
  },
  {
   "cell_type": "markdown",
   "metadata": {},
   "source": [
    "### Para isso, iremos gerar alguns dados falsos com a biblioteca *Faker*"
   ]
  },
  {
   "cell_type": "code",
   "execution_count": null,
   "metadata": {},
   "outputs": [],
   "source": [
    "!pip3 install Faker"
   ]
  },
  {
   "cell_type": "code",
   "execution_count": 57,
   "metadata": {},
   "outputs": [
    {
     "name": "stdout",
     "output_type": "stream",
     "text": [
      "\n"
     ]
    },
    {
     "name": "stderr",
     "output_type": "stream",
     "text": [
      "[WDM] - ====== WebDriver manager ======\n",
      "[WDM] - Current google-chrome version is 104.0.5112\n",
      "[WDM] - Get LATEST chromedriver version for 104.0.5112 google-chrome\n",
      "[WDM] - Driver [C:\\Users\\antonio.costa\\.wdm\\drivers\\chromedriver\\win32\\104.0.5112.79\\chromedriver.exe] found in cache\n"
     ]
    }
   ],
   "source": [
    "from faker import Faker\n",
    "from selenium import webdriver\n",
    "from selenium.webdriver.chrome.options import Options\n",
    "from selenium.webdriver.support.select import Select\n",
    "from selenium.webdriver.common.by import By\n",
    "from threading import Thread\n",
    "from time import sleep\n",
    "from webdriver_manager.chrome import ChromeDriverManager\n",
    "\n",
    "\n",
    "\n",
    "class EcomerceBot():\n",
    "    def __init__(self) -> None:\n",
    "        options = Options()\n",
    "        # Caso queira que o driver abra o site em modo headless\n",
    "        # options.add_argument(\"--headless\")\n",
    "        website = 'https://ecommerce-playground.lambdatest.io/index.php?route=account/register'\n",
    "        self.driver = webdriver.Chrome(ChromeDriverManager().install(), options=options)\n",
    "        self.driver.get(website)\n",
    "        \n",
    "    def fill_field_name(self, name) -> None:\n",
    "        first_name = self.driver.find_element(By.ID, \"input-firstname\")\n",
    "        first_name.send_keys(name)\n",
    "        \n",
    "    def fill_field_last_name(self, name) -> None:\n",
    "        last_name = self.driver.find_element(By.ID, \"input-lastname\")\n",
    "        last_name.send_keys(name)\n",
    "        \n",
    "    def fill_field_email(self, email) -> None:\n",
    "        email_field = self.driver.find_element(By.ID, \"input-email\")\n",
    "        email_field.send_keys(email)\n",
    "        \n",
    "    def fill_field_telephone(self, telephone) -> None:\n",
    "        telephone_field = self.driver.find_element(By.ID, \"input-telephone\")\n",
    "        telephone_field.send_keys(telephone)\n",
    "        \n",
    "    def fill_field_password(self, password) -> None:\n",
    "        password_field = self.driver.find_element(By.ID, \"input-password\")\n",
    "        password_field.send_keys(password)\n",
    "        \n",
    "    def fill_field_confirm_password(self, password) -> None:\n",
    "        password_field = self.driver.find_element(By.ID, \"input-confirm\")\n",
    "        password_field.send_keys(password)\n",
    "        \n",
    "    def select_newsletter(self) -> None:\n",
    "        newsletter_field = self.driver.find_element(By.XPATH, '//*[@id=\"content\"]/form/fieldset[3]/div/div/div[1]/label')\n",
    "        newsletter_field.click()\n",
    "        \n",
    "    def select_terms(self) -> None:\n",
    "        terms_field = self.driver.find_element(By.XPATH, '//*[@id=\"content\"]/form/div/div/div/label')\n",
    "        terms_field.click()\n",
    "        \n",
    "    def select_continue_button(self) -> None:\n",
    "        continue_field = self.driver.find_element(By.XPATH, '//*[@id=\"content\"]/form/div/div/input')\n",
    "        continue_field.click()\n",
    "\n",
    "        \n",
    "    def run_all(self, first_name, second_name, email, telephone, password,) -> None:\n",
    "        if __name__ == \"__main__\":\n",
    "            Thread(target=self.fill_field_name, args=(first_name,)).start()\n",
    "            Thread(target=self.fill_field_last_name, args=(second_name,)).start()\n",
    "            Thread(target=self.fill_field_email, args=(email,)).start()\n",
    "            Thread(target=self.fill_field_telephone, args=(telephone,)).start()\n",
    "            Thread(target=self.fill_field_password, args=(password,)).start()\n",
    "            Thread(target=self.fill_field_confirm_password, args=(password,)).start()\n",
    "            Thread(target=self.select_newsletter).start()\n",
    "            Thread(target=self.select_terms).start()\n",
    "            sleep(2)\n",
    "            self.select_continue_button()\n",
    "\n",
    "\n",
    "fake = Faker()\n",
    "name = fake.name()\n",
    "first_name = name.split()[0]\n",
    "second_name = name.split()[1]\n",
    "email = fake.email()\n",
    "telephone = fake.phone_number()\n",
    "password = fake.password()\n",
    "            \n",
    "bot = EcomerceBot()\n",
    "bot.run_all(first_name, second_name, email, telephone, password)"
   ]
  },
  {
   "cell_type": "markdown",
   "metadata": {},
   "source": [
    "# **Referências** "
   ]
  },
  {
   "cell_type": "markdown",
   "metadata": {},
   "source": [
    "## [Selenium](https://www.browserstack.com/selenium#:~:text=Selenium%20is%20an%20open%2Dsource,%2C%20and%20C%23%2C%20among%20others.)\n",
    "## [Installation](https://selenium-python.readthedocs.io/installation.html#installing-python-bindings-for-selenium)\n",
    "## [official documentation](https://www.selenium.dev/documentation/en/webdriver/driver_requirements/)\n",
    "## [How To Automate Filling In Web Forms With Python Using Selenium](https://www.lambdatest.com/blog/how-to-automate-filling-in-web-forms-with-python-using-selenium/)\n",
    "---"
   ]
  }
 ],
 "metadata": {
  "kernelspec": {
   "display_name": "Python 3.6.8 64-bit",
   "language": "python",
   "name": "python3"
  },
  "language_info": {
   "codemirror_mode": {
    "name": "ipython",
    "version": 3
   },
   "file_extension": ".py",
   "mimetype": "text/x-python",
   "name": "python",
   "nbconvert_exporter": "python",
   "pygments_lexer": "ipython3",
   "version": "3.6.8"
  },
  "orig_nbformat": 4,
  "vscode": {
   "interpreter": {
    "hash": "17b2627dcfb824b9f7a7add95bee64858b1a42975d8cb4d8cb026fda02086e87"
   }
  }
 },
 "nbformat": 4,
 "nbformat_minor": 2
}
