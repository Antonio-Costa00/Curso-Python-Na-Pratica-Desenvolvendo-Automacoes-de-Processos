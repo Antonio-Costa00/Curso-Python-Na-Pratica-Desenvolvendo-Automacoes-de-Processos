{
 "cells": [
  {
   "cell_type": "markdown",
   "metadata": {},
   "source": [
    "# **Presentes 🎁**"
   ]
  },
  {
   "cell_type": "markdown",
   "metadata": {},
   "source": [
    "### Muito obrigado a todos pela atenção e por termos chegado até aqui.\n",
    "### Como forma de agradecimento, gostaria de compartilhar com voces algumas extensões que fazem toda diferença no dia a dia como programador.\n",
    "---"
   ]
  },
  {
   "cell_type": "markdown",
   "metadata": {},
   "source": [
    "# **1. Extensões para o VsCode**"
   ]
  },
  {
   "cell_type": "markdown",
   "metadata": {},
   "source": [
    "## **1.1 GitHub Copilot**\n",
    "\n",
    "### Esta extensão usa de inteligencia artificial para propor sugestoes para seu código."
   ]
  },
  {
   "cell_type": "markdown",
   "metadata": {},
   "source": [
    "## **1.2 indent-rainbow**\n",
    "\n",
    "### Essa extensão colore o recuo na frente do seu texto, alternando quatro cores diferentes em cada identação."
   ]
  },
  {
   "cell_type": "markdown",
   "metadata": {},
   "source": [
    "## **1.3 Error Lens**\n",
    "\n",
    "### O ErrorLens turbina os recursos de diagnóstico da linguagem, tornando os diagnósticos mais proeminentes, destacando toda a linha onde quer que um diagnóstico seja gerado pela linguafen e também imprime a mensagem diretamente na linha."
   ]
  },
  {
   "cell_type": "markdown",
   "metadata": {},
   "source": [
    "## **1.4. Excel Viewer**\n",
    "\n",
    "### Edite planilhas do Excel e arquivos CSV no Visual Studio Code e VS Code para a Web."
   ]
  },
  {
   "cell_type": "markdown",
   "metadata": {},
   "source": [
    "## **1.5. GitHub Copilot Labs**\n",
    "\n",
    "### Com o GitHub Copilot Labs é possivel selecionar uma parte de seu código e perguntar ao Copilot a expicação do que aquele bloco de código faz.\n",
    "### Tambem é possivel traduzir um trecho de código para outra linguagem."
   ]
  },
  {
   "cell_type": "markdown",
   "metadata": {},
   "source": [
    "## **1.6 image preview**\n",
    "\n",
    "### Mostra a vizualização da imagem ao passar o mouse por cima ou no inicio da linha."
   ]
  },
  {
   "cell_type": "markdown",
   "metadata": {},
   "source": [
    "## **1.7 Rainbow Brackets**\n",
    "\n",
    "### Torna os pares de colchetes, chaves, e parenteses coloridos"
   ]
  },
  {
   "cell_type": "markdown",
   "metadata": {},
   "source": [
    "# **2. Formatação automatica de código ([black]((https://github.com/psf/black)))**"
   ]
  },
  {
   "cell_type": "markdown",
   "metadata": {},
   "source": [
    "### Black é um formatador de código automático para Python. \n",
    "### Black formata seu código seguindo os padrões [PEP8](https://peps.python.org/pep-0008/) da linguagem.\n",
    "\n",
    "----"
   ]
  },
  {
   "cell_type": "markdown",
   "metadata": {},
   "source": [
    "# **3. Extensões para navegador**"
   ]
  },
  {
   "cell_type": "markdown",
   "metadata": {},
   "source": [
    "## **3.1 [Dark Reader](https://github.com/darkreader/darkreader)** \n",
    "\n",
    "### Dark Reader é uma extensão que reduz o contraste das paginas web, tornando de forma forçada o tema escuro em quase todas paginas web."
   ]
  },
  {
   "cell_type": "markdown",
   "metadata": {},
   "source": [
    "## **3.2 [Daily dev](https://chrome.google.com/webstore/detail/dailydev-the-homepage-dev/jlmpjdjjbgclbocgajdjefcidcncaied)** \n",
    "\n",
    "### Uma de minhas extensões preferidas.\n",
    "### Com esta extensão, é possivel configurar sua area pagina inicial do navegador com varios artigos sobre varios assuntos de desenvolvimento de software e computação.\n",
    "### Tambem é possivel gerar um cartão personalizado mostrando quantos artigos voce ja leu, e colocar-lo no GitHub. Cheque meu [README.md](https://github.com/Antonio-Costa00/Antonio-Costa00#readme) no github para ver um exemplo."
   ]
  },
  {
   "cell_type": "markdown",
   "metadata": {},
   "source": [
    "## **3.3 [Grepper](https://chrome.google.com/webstore/detail/grepper/amaaokahonnfjjemodnpmeenfpnnbkco)**"
   ]
  },
  {
   "cell_type": "markdown",
   "metadata": {},
   "source": [
    "### Com esta extensão é possivel realizar uma pesquisa no google sobre determinado assunto e a resposta aparecer na primeira busca. \n",
    "### A resposta pode ser dada por qualquer usuario comum com a extensão instalada.\n",
    "### Se voce digitar no google *copy to clipboard powershell* aparecera uma resposta dada por SonicXD, que no caso, sou e mesmo."
   ]
  },
  {
   "cell_type": "markdown",
   "metadata": {},
   "source": [
    "# **4 Canais para estudar Python**"
   ]
  },
  {
   "cell_type": "markdown",
   "metadata": {},
   "source": [
    "### Abaixo, segue alguns canais no qual recomendo para aprender a linguagem Python"
   ]
  },
  {
   "cell_type": "markdown",
   "metadata": {},
   "source": [
    "- Thales Veloso: https://www.youtube.com/user/tthhal01/about\n",
    "- "
   ]
  }
 ],
 "metadata": {
  "kernelspec": {
   "display_name": "Python 3.10.6 64-bit",
   "language": "python",
   "name": "python3"
  },
  "language_info": {
   "name": "python",
   "version": "3.10.6"
  },
  "orig_nbformat": 4,
  "vscode": {
   "interpreter": {
    "hash": "c9d432971bd129ee71eb1fca121b62dbd92dc54bba4e3c215bc15497eb670e9a"
   }
  }
 },
 "nbformat": 4,
 "nbformat_minor": 2
}
