{
 "cells": [
  {
   "cell_type": "markdown",
   "metadata": {},
   "source": [
    "# 🚀 **Aula 03: Parte 02 - Tratativa de erros e exceções**\n",
    "## Nesta aula estaremos explorando os conceitos de como lidar com erros e exceções em nossos códigos Python.\n",
    "---"
   ]
  },
  {
   "cell_type": "markdown",
   "metadata": {},
   "source": [
    "# **1. Erros em Python**  ⚡"
   ]
  },
  {
   "cell_type": "markdown",
   "metadata": {},
   "source": [
    "<img src=\"https://miro.medium.com/max/720/0*Nd0LqhiI8afZ8apN\" alt=\"Drawing\" style=\"width: 400px;\"/>"
   ]
  },
  {
   "cell_type": "markdown",
   "metadata": {},
   "source": [
    "### Os erros em Python ou em qualquer outra linguagem de programação existem e vão na verdade te dar uma informação do motivo daquele erro.\n",
    "### Dessa forma você pode fazer o seu tratamento ou modificar o seu código para que esse erro não aconteça novamente."
   ]
  },
  {
   "cell_type": "code",
   "execution_count": null,
   "metadata": {},
   "outputs": [],
   "source": [
    "# 'r' - Para realizar a leitura do arquivo\n",
    "with open(\"aquivo.txt\", \"r\") as arquivo:\n",
    "    print(arquivo.read())\n",
    "print(\"Resto do código...\")"
   ]
  },
  {
   "cell_type": "markdown",
   "metadata": {},
   "source": [
    "### Nesse caso nós estamos tentando ler arquivo no Python, só que aqui nós temos o erro **FileNotFoundError**, ou seja, erro de arquivo não encontrado."
   ]
  },
  {
   "cell_type": "markdown",
   "metadata": {},
   "source": [
    "### Isso quer dizer que por algum motivo não foi possível encontrar esse arquivo. Neste caso é porque colocamos o nome diferente, então de fato não existe.\n",
    "### A ideia é tratar esse erro para que o usuário não tenha a visualização desse erro, pois algumas vezes a mensagem de erro não é muito intuitiva.\n",
    "### Por esse motivo é que nós vamos utilizar o Try e Except para “tratar” esse erro e fazer com que o usuário não visualize esse erro."
   ]
  },
  {
   "cell_type": "markdown",
   "metadata": {},
   "source": [
    "# **2. Bloco Try Catch (Try Except)**  ⚡"
   ]
  },
  {
   "cell_type": "markdown",
   "metadata": {},
   "source": [
    "<img src=\"https://www.meme-arsenal.com/memes/319f180edec308cce130484459b96e21.jpg\" alt=\"Drawing\" style=\"width: 400px;\"/>"
   ]
  },
  {
   "cell_type": "markdown",
   "metadata": {},
   "source": [
    "## **2.1 Definição**"
   ]
  },
  {
   "cell_type": "markdown",
   "metadata": {},
   "source": [
    "### Em outras linguagens é normal que o nome seja try catch, no entanto, em python o bloco catch é substituido pela palavra except.\n",
    "### O Bloco try/except serve para tratamento de exceções, tratamento de códigos que podem não ser totalmente atendidos e gerarem alguma exceção/erro.\n",
    "### O try consegue recuperar erros que possam ocorrer no código fornecido em seu bloco.\n",
    "### O except por sua vez faz o tratamento dos erros que aconteceram."
   ]
  },
  {
   "cell_type": "markdown",
   "metadata": {},
   "source": [
    "## **2.2 Exemplo de utilização**"
   ]
  },
  {
   "cell_type": "markdown",
   "metadata": {},
   "source": [
    "### Vamos executar o mesmo código do tópico 1, no entanto, com o bloco try except"
   ]
  },
  {
   "cell_type": "code",
   "execution_count": null,
   "metadata": {},
   "outputs": [],
   "source": [
    "try:\n",
    "    with open(\"aquivo.txt\", \"r\") as f:\n",
    "        print(f.read())\n",
    "except:\n",
    "    print(\"Erro: Erro ao abrir o arquivo\")\n",
    "print(\"Resto do código...\")"
   ]
  },
  {
   "cell_type": "markdown",
   "metadata": {},
   "source": [
    "### Nesse caso o try é para que o Python tente executar aquele código e caso não consiga executar por conta de um erro ele vai retornar o que temos dentro do except."
   ]
  },
  {
   "cell_type": "markdown",
   "metadata": {},
   "source": [
    "### Dessa maneira você pode tratar o erro e continuar o resto de seu código, ao invés de apenas parar a sua execução. "
   ]
  },
  {
   "cell_type": "markdown",
   "metadata": {},
   "source": [
    "# **3. Diferentes formas de se tratar exceções**  ⚡"
   ]
  },
  {
   "cell_type": "markdown",
   "metadata": {},
   "source": [
    "<img src=\"https://i.pinimg.com/564x/e4/bb/f6/e4bbf6d987196ca49097a7604d734d89.jpg\" alt=\"Drawing\" style=\"width: 400px;\"/>"
   ]
  },
  {
   "cell_type": "markdown",
   "metadata": {},
   "source": [
    "### Em Python tambem é possivel tratar erros especificos, para que o programador tome uma tratativa diferente para cada tipo de erro"
   ]
  },
  {
   "cell_type": "markdown",
   "metadata": {},
   "source": [
    "## **3.1 Exemplo de tratativa de erros gerais**"
   ]
  },
  {
   "cell_type": "markdown",
   "metadata": {},
   "source": [
    "### Para erros gerais, podemos utilizar o bloco try except de forma direta"
   ]
  },
  {
   "cell_type": "code",
   "execution_count": null,
   "metadata": {},
   "outputs": [],
   "source": [
    "lista_aleatoria = ['a', 0, 2, 'batata', 4, 7.3, 'cachorro', 9, 10, 11]\n",
    "for valor in lista_aleatoria:\n",
    "    try:\n",
    "        print(\"Valor:\", valor)\n",
    "        divisao = 1/int(valor)\n",
    "        print(\"O resultado é:\", divisao, \"\\n\")\n",
    "    except:\n",
    "        print(f\"Ocorreu um erro: Impossivel dividir por {valor}\")\n",
    "        print(\"Proximo valor\\n\")"
   ]
  },
  {
   "cell_type": "markdown",
   "metadata": {},
   "source": [
    "## **3.2 Tratativa de erros especificos**"
   ]
  },
  {
   "cell_type": "markdown",
   "metadata": {},
   "source": [
    "### Tambem é possivel gerar uma tratativa diferente para cada tipo de erro"
   ]
  },
  {
   "cell_type": "code",
   "execution_count": null,
   "metadata": {},
   "outputs": [],
   "source": [
    "def divisao(num1, num2):\n",
    "    try:\n",
    "        # Floor Division: Retorna apenas a parte inteira do resultado da divisão\n",
    "        resultado = num1 / num2\n",
    "        print(\"Otimo! Resultado de sua divisao:\", resultado)\n",
    "    except ZeroDivisionError:\n",
    "        print(\"Desculpe, nao e possivel dividir por zero\")\n",
    "    except TypeError:\n",
    "        print(\"Desculpe, nao e possivel dividir um numero por uma string\")\n",
    "# divisao(10, 3)\n",
    "# divisao(10, 0)\n",
    "divisao(10, \"6\")\n",
    "print(\"resto do codigo\")"
   ]
  },
  {
   "cell_type": "markdown",
   "metadata": {},
   "source": [
    "## **3.3 Clausula *finally***"
   ]
  },
  {
   "cell_type": "markdown",
   "metadata": {},
   "source": [
    "### Em python e algumas outras linguagens, possuimos a clausula *finally*\n",
    "### Esta clausula **sempre sera executada**, mesmo que durante a execução ocorra erros."
   ]
  },
  {
   "cell_type": "markdown",
   "metadata": {},
   "source": [
    "### Vejamos um exemplo a seguir"
   ]
  },
  {
   "cell_type": "code",
   "execution_count": null,
   "metadata": {},
   "outputs": [],
   "source": [
    "def cadastro_cliente(nome, idade):\n",
    "    try:\n",
    "        # Checa se o tamanho do nome é maior que 5 caracteres\n",
    "        if len(nome) < 5:\n",
    "            raise Exception(\"Nome precisa ter mais de 5 caracteres\")\n",
    "        if idade < 18:\n",
    "            raise Exception(\"Idade precisa ser maior que 18 anos\")\n",
    "    except Exception as error:\n",
    "        print(error)\n",
    "    # Sempre sera executado, mesmo que ocorra um erro\n",
    "    finally:\n",
    "        print(\"Fim da execucao\\n\")\n",
    "\n",
    "# cliente1 = cadastro_cliente(\"Joao\", 20)\n",
    "# cliente2 = cadastro_cliente(\"Maria\", 15)\n",
    "# cliente3 = cadastro_cliente(1234, 18)\n",
    "# cliente4 = cadastro_cliente(\"Luana\", 20)"
   ]
  },
  {
   "cell_type": "markdown",
   "metadata": {},
   "source": [
    "# **4. Forçando exceções**  ⚡"
   ]
  },
  {
   "cell_type": "markdown",
   "metadata": {},
   "source": [
    "<img src=\"https://www.memecreator.org/static/images/memes/5171568.jpg\" style=\"width: 400px;\"/>"
   ]
  },
  {
   "cell_type": "markdown",
   "metadata": {},
   "source": [
    "### Assim como podemos tratar exceções, tambem podemos forçar exceções em nosso código.\n",
    "### Isso é util para quando desejamos acionar uma chamada de erro em determinada parte de nosso código."
   ]
  },
  {
   "cell_type": "code",
   "execution_count": null,
   "metadata": {},
   "outputs": [],
   "source": [
    "# O simbolo * antes do nome da variavel indica que ela pode receber um numero indefinido de parametros\n",
    "def calcula_media(*notas):\n",
    "    media = sum(notas) / len(notas)\n",
    "    print(\"Media:\", media)\n",
    "    if media < 3.5:\n",
    "        raise Exception(\"Reprovado\")\n",
    "    if media >= 3.5 and media < 7:\n",
    "        raise Exception(\"Recuperacao\")\n",
    "    return \"Aprovado\"\n",
    "    \n",
    "media_final = calcula_media(2, 1, 4, 6)\n",
    "print(media_final)"
   ]
  },
  {
   "cell_type": "markdown",
   "metadata": {},
   "source": [
    "### É importante ressaltar que após uma exceção ser acionada sem um devido tratamento em um bloco try except, o programa não continuara a ser executado após a exceção."
   ]
  },
  {
   "cell_type": "markdown",
   "metadata": {},
   "source": [
    "## **4.1 A palavra chave *raise***"
   ]
  },
  {
   "cell_type": "markdown",
   "metadata": {},
   "source": [
    "### Para acionarmos um erro em nosso código, podemos utilizar da palavra reservada ***raise***, seguida da exceção a ser chamada"
   ]
  },
  {
   "cell_type": "code",
   "execution_count": 33,
   "metadata": {},
   "outputs": [
    {
     "ename": "Exception",
     "evalue": "Salario nao pode ser maior que 3000!",
     "output_type": "error",
     "traceback": [
      "\u001b[1;31m---------------------------------------------------------------------------\u001b[0m",
      "\u001b[1;31mException\u001b[0m                                 Traceback (most recent call last)",
      "Cell \u001b[1;32mIn [33], line 35\u001b[0m\n\u001b[0;32m     30\u001b[0m \u001b[39m# funcionario1 = Salario(1000)\u001b[39;00m\n\u001b[0;32m     31\u001b[0m \u001b[39m# print(funcionario1)\u001b[39;00m\n\u001b[0;32m     32\u001b[0m \u001b[39m# funcionario2 = Salario(2000)\u001b[39;00m\n\u001b[0;32m     33\u001b[0m \u001b[39m# print(funcionario2)\u001b[39;00m\n\u001b[0;32m     34\u001b[0m funcionario3 \u001b[39m=\u001b[39m Salario(\u001b[39m3000\u001b[39m)\n\u001b[1;32m---> 35\u001b[0m \u001b[39mprint\u001b[39;49m(funcionario3)\n",
      "Cell \u001b[1;32mIn [33], line 28\u001b[0m, in \u001b[0;36mSalario.__str__\u001b[1;34m(self)\u001b[0m\n\u001b[0;32m     27\u001b[0m \u001b[39mdef\u001b[39;00m \u001b[39m__str__\u001b[39m(\u001b[39mself\u001b[39m):\n\u001b[1;32m---> 28\u001b[0m     \u001b[39mreturn\u001b[39;00m \u001b[39mf\u001b[39m\u001b[39m\"\u001b[39m\u001b[39mSalario a receber: \u001b[39m\u001b[39m{\u001b[39;00m\u001b[39mself\u001b[39m\u001b[39m.\u001b[39mcalcula_salario()\u001b[39m}\u001b[39;00m\u001b[39m\"\u001b[39m\n",
      "Cell \u001b[1;32mIn [33], line 23\u001b[0m, in \u001b[0;36mSalario.calcula_salario\u001b[1;34m(self)\u001b[0m\n\u001b[0;32m     21\u001b[0m     \u001b[39mreturn\u001b[39;00m \u001b[39mself\u001b[39m\u001b[39m.\u001b[39msalario_base \u001b[39m*\u001b[39m \u001b[39m1.05\u001b[39m\n\u001b[0;32m     22\u001b[0m \u001b[39mif\u001b[39;00m \u001b[39mself\u001b[39m\u001b[39m.\u001b[39msalario_base \u001b[39m>\u001b[39m\u001b[39m=\u001b[39m \u001b[39m3000\u001b[39m:\n\u001b[1;32m---> 23\u001b[0m     \u001b[39mraise\u001b[39;00m \u001b[39mException\u001b[39;00m(\u001b[39m\"\u001b[39m\u001b[39mSalario nao pode ser maior que 3000!\u001b[39m\u001b[39m\"\u001b[39m)            \n\u001b[0;32m     24\u001b[0m \u001b[39mreturn\u001b[39;00m \u001b[39mself\u001b[39m\u001b[39m.\u001b[39msalario_base\n",
      "\u001b[1;31mException\u001b[0m: Salario nao pode ser maior que 3000!"
     ]
    }
   ],
   "source": [
    "# Formas de se criar uma classe\n",
    "# class Salario(object):\n",
    "# class Salario:\n",
    "\n",
    "class Salario():\n",
    "    \n",
    "    def __init__(self, salario_base):\n",
    "        self.salario_base = salario_base\n",
    "        \n",
    "    def calcula_salario(self):\n",
    "        \n",
    "            salario_minimo = 1300\n",
    "\n",
    "            if self.salario_base < 0:\n",
    "                raise Exception(\"Salario nao pode ser negativo!\")\n",
    "            if self.salario_base < salario_minimo:\n",
    "                raise Exception(\"Salario nao pode ser menor que um salario minimo!\")\n",
    "            if self.salario_base >= 1000 and self.salario_base < 2000:\n",
    "                return self.salario_base * 1.10\n",
    "            if self.salario_base >= 2000 and self.salario_base < 3000:\n",
    "                return self.salario_base * 1.05\n",
    "            if self.salario_base >= 3000:\n",
    "                raise Exception(\"Salario nao pode ser maior que 3000!\")            \n",
    "            return self.salario_base\n",
    "    \n",
    "    # Método que retorna uma string quando o objeto é printado\n",
    "    def __str__(self):\n",
    "        return f\"Salario a receber: {self.calcula_salario()}\"\n",
    "            \n",
    "# funcionario1 = Salario(1000)\n",
    "# print(funcionario1)\n",
    "# funcionario2 = Salario(2000)\n",
    "# print(funcionario2)\n",
    "funcionario3 = Salario(3000)\n",
    "print(funcionario3)"
   ]
  },
  {
   "cell_type": "markdown",
   "metadata": {},
   "source": [
    "## **4.2 Acionando erros especificos**"
   ]
  },
  {
   "cell_type": "markdown",
   "metadata": {},
   "source": [
    "### Assim como podemos controlar nosso codigo tomando alguma medida para cada erro especifico, tambem podemos acionar erros especificos em nosso codigo"
   ]
  },
  {
   "cell_type": "code",
   "execution_count": 45,
   "metadata": {},
   "outputs": [
    {
     "name": "stdout",
     "output_type": "stream",
     "text": [
      "0.55\n"
     ]
    }
   ],
   "source": [
    "def item(produto, preco):\n",
    "    \n",
    "    \n",
    "\n",
    "    if type(produto) != str:\n",
    "        raise TypeError(\"Nome precisa ser uma string\")\n",
    "    if type(preco) != int and type(preco) != float:\n",
    "        raise TypeError(\"Preco precisa ser um numero\")\n",
    "    if preco < 0:\n",
    "        raise ValueError(\"Preco nao pode ser negativo\")\n",
    "    if preco > 1000:\n",
    "        raise ValueError(\"Preco nao pode ser maior que 1000\")\n",
    "    if preco >= 0 and preco < 100:\n",
    "        return preco * 1.10\n",
    "    if preco >= 100 and preco < 500:\n",
    "        return preco * 1.05\n",
    "    if preco >= 500:\n",
    "        return preco * 1.02\n",
    "        \n",
    "nome_produto= input(\"Digite o nome do produto: \")\n",
    "valor = float(input(\"Digite o preco do produto: \"))\n",
    "\n",
    "novo_item = item(produto=nome_produto, preco=valor)\n",
    "print(novo_item)"
   ]
  },
  {
   "cell_type": "markdown",
   "metadata": {},
   "source": [
    "### Podemos notar a diferença entre as mensagens de erro entre o topico 4.1 e 4.2.\n",
    "### Enquanto no topico 4.1 apenas a palavra *Exception* seguida do erro é mostrada, no topico 4.2 é mostrada exatamente a exceção na qual ocorreu, seguida da mensagem."
   ]
  },
  {
   "cell_type": "markdown",
   "metadata": {},
   "source": [
    "# **5. Criando exceções personalizadas**  ⚡"
   ]
  },
  {
   "cell_type": "markdown",
   "metadata": {},
   "source": [
    "<img src=\"https://pics.me.me/thumb_no-exceptions-72491923.png\" alt=\"Drawing\" style=\"width: 400px;\"/>"
   ]
  },
  {
   "cell_type": "markdown",
   "metadata": {},
   "source": [
    "### Além da lista de erros já existentes em Python, podemos criar nossas próprias exceções, customizando cada exceção de acordo com o erro a ser mostrado."
   ]
  },
  {
   "cell_type": "markdown",
   "metadata": {},
   "source": [
    "### Vejamos um exemplo abaixo onde o usuario nao deve digitar um numero negativo"
   ]
  },
  {
   "cell_type": "code",
   "execution_count": 49,
   "metadata": {},
   "outputs": [
    {
     "name": "stdout",
     "output_type": "stream",
     "text": [
      "10\n",
      "Numero negativo!\n",
      "-10\n"
     ]
    }
   ],
   "source": [
    "def numero_positivo(num):\n",
    "    if num < 0:\n",
    "        print(\"Numero negativo!\")\n",
    "    return num\n",
    "\n",
    "numero1 = numero_positivo(10)\n",
    "print(numero1)\n",
    "numero2 = numero_positivo(-10)\n",
    "print(numero2)"
   ]
  },
  {
   "cell_type": "markdown",
   "metadata": {},
   "source": [
    "### Com o que ja aprendemos, poderiamos facilmente trocar o print da linha 7 por uma exceção."
   ]
  },
  {
   "cell_type": "code",
   "execution_count": 50,
   "metadata": {},
   "outputs": [
    {
     "name": "stdout",
     "output_type": "stream",
     "text": [
      "10\n"
     ]
    },
    {
     "ename": "Exception",
     "evalue": "Numero negativo!",
     "output_type": "error",
     "traceback": [
      "\u001b[1;31m---------------------------------------------------------------------------\u001b[0m",
      "\u001b[1;31mException\u001b[0m                                 Traceback (most recent call last)",
      "Cell \u001b[1;32mIn [50], line 8\u001b[0m\n\u001b[0;32m      6\u001b[0m numero1 \u001b[39m=\u001b[39m numero_positivo(\u001b[39m10\u001b[39m)\n\u001b[0;32m      7\u001b[0m \u001b[39mprint\u001b[39m(numero1)\n\u001b[1;32m----> 8\u001b[0m numero2 \u001b[39m=\u001b[39m numero_positivo(\u001b[39m-\u001b[39;49m\u001b[39m10\u001b[39;49m)\n\u001b[0;32m      9\u001b[0m \u001b[39mprint\u001b[39m(numero2)\n",
      "Cell \u001b[1;32mIn [50], line 3\u001b[0m, in \u001b[0;36mnumero_positivo\u001b[1;34m(num)\u001b[0m\n\u001b[0;32m      1\u001b[0m \u001b[39mdef\u001b[39;00m \u001b[39mnumero_positivo\u001b[39m(num):\n\u001b[0;32m      2\u001b[0m     \u001b[39mif\u001b[39;00m num \u001b[39m<\u001b[39m \u001b[39m0\u001b[39m:\n\u001b[1;32m----> 3\u001b[0m         \u001b[39mraise\u001b[39;00m \u001b[39mException\u001b[39;00m(\u001b[39m\"\u001b[39m\u001b[39mNumero negativo!\u001b[39m\u001b[39m\"\u001b[39m)\n\u001b[0;32m      4\u001b[0m     \u001b[39mreturn\u001b[39;00m num\n",
      "\u001b[1;31mException\u001b[0m: Numero negativo!"
     ]
    }
   ],
   "source": [
    "def numero_positivo(num):\n",
    "    if num < 0:\n",
    "        raise Exception(\"Numero negativo!\")\n",
    "    return num\n",
    "\n",
    "numero1 = numero_positivo(10)\n",
    "print(numero1)\n",
    "numero2 = numero_positivo(-10)\n",
    "print(numero2)"
   ]
  },
  {
   "cell_type": "markdown",
   "metadata": {},
   "source": [
    "### Isso funciona muito bem. \n",
    "### Mas e se em vez de uma exceção comum no momento em que o usuario digitar um numero negativo ser chamada uma exceção apenas para numeros negativos?\n",
    "### É o que faremos agora."
   ]
  },
  {
   "cell_type": "code",
   "execution_count": 54,
   "metadata": {},
   "outputs": [
    {
     "name": "stdout",
     "output_type": "stream",
     "text": [
      "10\n"
     ]
    },
    {
     "ename": "NumeroNegativo",
     "evalue": "Foi passado um numero negativo como parametro!",
     "output_type": "error",
     "traceback": [
      "\u001b[1;31m---------------------------------------------------------------------------\u001b[0m",
      "\u001b[1;31mNumeroNegativo\u001b[0m                            Traceback (most recent call last)",
      "Cell \u001b[1;32mIn [54], line 14\u001b[0m\n\u001b[0;32m     12\u001b[0m numero1 \u001b[39m=\u001b[39m numero_positivo(\u001b[39m10\u001b[39m)\n\u001b[0;32m     13\u001b[0m \u001b[39mprint\u001b[39m(numero1)\n\u001b[1;32m---> 14\u001b[0m numero2 \u001b[39m=\u001b[39m numero_positivo(\u001b[39m-\u001b[39;49m\u001b[39m10\u001b[39;49m)\n\u001b[0;32m     15\u001b[0m \u001b[39mprint\u001b[39m(numero2)\n",
      "Cell \u001b[1;32mIn [54], line 9\u001b[0m, in \u001b[0;36mnumero_positivo\u001b[1;34m(num)\u001b[0m\n\u001b[0;32m      6\u001b[0m \u001b[39mdef\u001b[39;00m \u001b[39mnumero_positivo\u001b[39m(num):\n\u001b[0;32m      7\u001b[0m     \u001b[39mif\u001b[39;00m num \u001b[39m<\u001b[39m \u001b[39m0\u001b[39m:\n\u001b[0;32m      8\u001b[0m         \u001b[39m# Lanca a excecao criada\u001b[39;00m\n\u001b[1;32m----> 9\u001b[0m         \u001b[39mraise\u001b[39;00m NumeroNegativo(\u001b[39m\"\u001b[39m\u001b[39mFoi passado um numero negativo como parametro!\u001b[39m\u001b[39m\"\u001b[39m)\n\u001b[0;32m     10\u001b[0m     \u001b[39mreturn\u001b[39;00m num\n",
      "\u001b[1;31mNumeroNegativo\u001b[0m: Foi passado um numero negativo como parametro!"
     ]
    }
   ],
   "source": [
    "# Sintaxe para criar uma excecao personalizada\n",
    "class NumeroNegativo(Exception):\n",
    "    # pass: Nao faz nada\n",
    "    pass\n",
    "\n",
    "def numero_positivo(num):\n",
    "    if num < 0:\n",
    "        # Lanca a excecao criada\n",
    "        raise NumeroNegativo(\"Foi passado um numero negativo como parametro!\")\n",
    "    return num\n",
    "\n",
    "numero1 = numero_positivo(10)\n",
    "print(numero1)\n",
    "numero2 = numero_positivo(-10)\n",
    "print(numero2)"
   ]
  },
  {
   "cell_type": "markdown",
   "metadata": {},
   "source": [
    "### Podemos criar mais uma exceção para quando o numero for igual a 0"
   ]
  },
  {
   "cell_type": "code",
   "execution_count": 57,
   "metadata": {},
   "outputs": [
    {
     "name": "stdout",
     "output_type": "stream",
     "text": [
      "10\n"
     ]
    },
    {
     "ename": "NumeroZero",
     "evalue": "Foi passado o numero zero como parametro!",
     "output_type": "error",
     "traceback": [
      "\u001b[1;31m---------------------------------------------------------------------------\u001b[0m",
      "\u001b[1;31mNumeroZero\u001b[0m                                Traceback (most recent call last)",
      "Cell \u001b[1;32mIn [57], line 21\u001b[0m\n\u001b[0;32m     18\u001b[0m \u001b[39mprint\u001b[39m(numero1)\n\u001b[0;32m     19\u001b[0m \u001b[39m# numero2 = numero_positivo(-10)\u001b[39;00m\n\u001b[0;32m     20\u001b[0m \u001b[39m# print(numero2)\u001b[39;00m\n\u001b[1;32m---> 21\u001b[0m numero3 \u001b[39m=\u001b[39m numero_positivo(\u001b[39m0\u001b[39;49m)\n\u001b[0;32m     22\u001b[0m \u001b[39mprint\u001b[39m(numero3)\n",
      "Cell \u001b[1;32mIn [57], line 14\u001b[0m, in \u001b[0;36mnumero_positivo\u001b[1;34m(num)\u001b[0m\n\u001b[0;32m     12\u001b[0m     \u001b[39mraise\u001b[39;00m NumeroNegativo(\u001b[39m\"\u001b[39m\u001b[39mFoi passado um numero negativo como parametro!\u001b[39m\u001b[39m\"\u001b[39m)\n\u001b[0;32m     13\u001b[0m \u001b[39mif\u001b[39;00m num \u001b[39m==\u001b[39m \u001b[39m0\u001b[39m:\n\u001b[1;32m---> 14\u001b[0m     \u001b[39mraise\u001b[39;00m NumeroZero(\u001b[39m\"\u001b[39m\u001b[39mFoi passado o numero zero como parametro!\u001b[39m\u001b[39m\"\u001b[39m)\n\u001b[0;32m     15\u001b[0m \u001b[39mreturn\u001b[39;00m num\n",
      "\u001b[1;31mNumeroZero\u001b[0m: Foi passado o numero zero como parametro!"
     ]
    }
   ],
   "source": [
    "# Sintaxe para criar uma excecao personalizada\n",
    "class NumeroNegativo(Exception):\n",
    "    pass\n",
    "\n",
    "# Cria uma excecao para quando o numero for 0\n",
    "class NumeroZero(Exception):\n",
    "    pass\n",
    "\n",
    "def numero_positivo(num):\n",
    "    if num < 0:\n",
    "        # Lanca a excecao criada\n",
    "        raise NumeroNegativo(\"Foi passado um numero negativo como parametro!\")\n",
    "    if num == 0:\n",
    "        raise NumeroZero(\"Foi passado o numero zero como parametro!\")\n",
    "    return num\n",
    "\n",
    "numero1 = numero_positivo(10)\n",
    "print(numero1)\n",
    "# numero2 = numero_positivo(-10)\n",
    "# print(numero2)\n",
    "numero3 = numero_positivo(0)\n",
    "print(numero3)"
   ]
  },
  {
   "cell_type": "code",
   "execution_count": null,
   "metadata": {},
   "outputs": [],
   "source": []
  },
  {
   "cell_type": "markdown",
   "metadata": {},
   "source": [
    "# **Referências** \n",
    "\n",
    "## [Python Exceptions](https://www.programiz.com/python-programming/exceptions)\n",
    "---"
   ]
  }
 ],
 "metadata": {
  "kernelspec": {
   "display_name": "Python 3.10.6 64-bit",
   "language": "python",
   "name": "python3"
  },
  "language_info": {
   "codemirror_mode": {
    "name": "ipython",
    "version": 3
   },
   "file_extension": ".py",
   "mimetype": "text/x-python",
   "name": "python",
   "nbconvert_exporter": "python",
   "pygments_lexer": "ipython3",
   "version": "3.10.6"
  },
  "orig_nbformat": 4,
  "vscode": {
   "interpreter": {
    "hash": "c9d432971bd129ee71eb1fca121b62dbd92dc54bba4e3c215bc15497eb670e9a"
   }
  }
 },
 "nbformat": 4,
 "nbformat_minor": 2
}
