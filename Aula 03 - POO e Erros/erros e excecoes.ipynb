{
 "cells": [
  {
   "cell_type": "markdown",
   "metadata": {},
   "source": [
    "# 🚀 **Aula 03: Parte 02 - Tratativa de erros e exceções**\n",
    "## Nesta aula estaremos explorando os conceitos de como lidar com erros e exceções em nossos códigos Python.\n",
    "---"
   ]
  },
  {
   "cell_type": "markdown",
   "metadata": {},
   "source": [
    "# **1. Erros em Python**  ⚡"
   ]
  },
  {
   "cell_type": "markdown",
   "metadata": {},
   "source": [
    "<img src=\"https://miro.medium.com/max/720/0*Nd0LqhiI8afZ8apN\" alt=\"Drawing\" style=\"width: 400px;\"/>"
   ]
  },
  {
   "cell_type": "markdown",
   "metadata": {},
   "source": [
    "### Os erros em Python ou em qualquer outra linguagem de programação existem e vão na verdade te dar uma informação do motivo daquele erro.\n",
    "### Dessa forma você pode fazer o seu tratamento ou modificar o seu código para que esse erro não aconteça novamente."
   ]
  },
  {
   "cell_type": "code",
   "execution_count": null,
   "metadata": {},
   "outputs": [],
   "source": [
    "with open(\"aquivo.txt\", \"r\") as f:\n",
    "    print(f.read())\n",
    "print(\"Resto do código...\")"
   ]
  },
  {
   "cell_type": "markdown",
   "metadata": {},
   "source": [
    "### Nesse caso nós estamos tentando ler arquivo no Python, só que aqui nós temos o erro **FileNotFoundError**, ou seja, erro de arquivo não encontrado."
   ]
  },
  {
   "cell_type": "markdown",
   "metadata": {},
   "source": [
    "### Isso quer dizer que por algum motivo não foi possível encontrar esse arquivo. Neste caso é porque colocamos o nome diferente, então de fato não existe.\n",
    "### A ideia é tratar esse erro para que o usuário não tenha a visualização desse erro, pois algumas vezes a mensagem de erro não é muito intuitiva.\n",
    "### Por esse motivo é que nós vamos utilizar o Try e Except para “tratar” esse erro e fazer com que o usuário não visualize esse erro."
   ]
  },
  {
   "cell_type": "markdown",
   "metadata": {},
   "source": [
    "# **2. Bloco Try Catch (Try Except)**  ⚡"
   ]
  },
  {
   "cell_type": "markdown",
   "metadata": {},
   "source": [
    "<img src=\"https://www.meme-arsenal.com/memes/319f180edec308cce130484459b96e21.jpg\" alt=\"Drawing\" style=\"width: 400px;\"/>"
   ]
  },
  {
   "cell_type": "markdown",
   "metadata": {},
   "source": [
    "## **2.1 Definição**"
   ]
  },
  {
   "cell_type": "markdown",
   "metadata": {},
   "source": [
    "### Em outras linguagens é normal que o nome seja try catch, no entanto, em python o bloco catch é substituido pela palavra except.\n",
    "### O Bloco try/except serve para tratamento de exceções, tratamento de códigos que podem não ser totalmente atendidos e gerarem alguma exceção/erro.\n",
    "### O try consegue recuperar erros que possam ocorrer no código fornecido em seu bloco.\n",
    "### O except por sua vez faz o tratamento dos erros que aconteceram."
   ]
  },
  {
   "cell_type": "markdown",
   "metadata": {},
   "source": [
    "## **2.2 Exemplo de utilização**"
   ]
  },
  {
   "cell_type": "markdown",
   "metadata": {},
   "source": [
    "### Vamos executar o mesmo código do tópico 1, no entanto, com o bloco try except"
   ]
  },
  {
   "cell_type": "code",
   "execution_count": null,
   "metadata": {},
   "outputs": [],
   "source": [
    "try:\n",
    "    with open(\"aquivo.txt\", \"r\") as f:\n",
    "        print(f.read())\n",
    "except:\n",
    "    print(\"Erro: Erro ao abrir o arquivo\")\n",
    "print(\"Resto do código...\")"
   ]
  },
  {
   "cell_type": "markdown",
   "metadata": {},
   "source": [
    "### Nesse caso o try é para que o Python tente executar aquele código e caso não consiga executar por conta de um erro ele vai retornar o que temos dentro do except."
   ]
  },
  {
   "cell_type": "markdown",
   "metadata": {},
   "source": [
    "### Dessa maneira você pode tratar o erro e continuar o resto de seu código, ao invés de apenas parar a sua execução. "
   ]
  },
  {
   "cell_type": "markdown",
   "metadata": {},
   "source": [
    "# **3. Diferentes formas de se tratar exceções**  ⚡"
   ]
  },
  {
   "cell_type": "markdown",
   "metadata": {},
   "source": [
    "<img src=\"https://i.pinimg.com/564x/e4/bb/f6/e4bbf6d987196ca49097a7604d734d89.jpg\" alt=\"Drawing\" style=\"width: 400px;\"/>"
   ]
  },
  {
   "cell_type": "markdown",
   "metadata": {},
   "source": [
    "### Em Python tambem é possivel tratar erros especificos, para que o programador tome uma tratativa diferente para cada tipo de erro"
   ]
  },
  {
   "cell_type": "markdown",
   "metadata": {},
   "source": [
    "## **3.1 Exemplo de tratativa de erros gerais**"
   ]
  },
  {
   "cell_type": "markdown",
   "metadata": {},
   "source": [
    "### Para erros gerais, podemos utilizar o bloco try except de forma direta"
   ]
  },
  {
   "cell_type": "code",
   "execution_count": null,
   "metadata": {},
   "outputs": [],
   "source": [
    "lista_aleatoria = ['a', 0, 2, 'batata', 4, 7.3, 'cachorro', 9, 10, 11]\n",
    "for valor in lista_aleatoria:\n",
    "    try:\n",
    "        print(\"Valor:\", valor)\n",
    "        divisao = 1/int(valor)\n",
    "        print(\"O resultado é:\", divisao, \"\\n\")\n",
    "    except:\n",
    "        print(f\"Ocorreu um erro: Impossivel dividir por {valor}\")\n",
    "        print(\"Proximo valor\\n\")"
   ]
  },
  {
   "cell_type": "markdown",
   "metadata": {},
   "source": [
    "## **3.2 Tratativa de erros especificos**"
   ]
  },
  {
   "cell_type": "markdown",
   "metadata": {},
   "source": [
    "### Tambem é possivel gerar uma tratativa diferente para cada tipo de erro"
   ]
  },
  {
   "cell_type": "code",
   "execution_count": null,
   "metadata": {},
   "outputs": [],
   "source": [
    "def divisao(num1, num2):\n",
    "    try:\n",
    "        # Floor Division : Retorna apenas a parte inteira do resultado da divisão\n",
    "        resultado = num1 // num2\n",
    "        print(\"Otimo! Resultado de sua divisao:\", resultado)\n",
    "    except ZeroDivisionError:\n",
    "        print(\"Desculpe, nao e possivel dividir por zero\")\n",
    "    except TypeError:\n",
    "        print(\"Desculpe, nao e possivel dividir um numero por uma string\")\n",
    "divisao(10, 3)\n",
    "divisao(10, 0)\n",
    "divisao(10, \"6\")"
   ]
  },
  {
   "cell_type": "markdown",
   "metadata": {},
   "source": [
    "## **3.3 Clausula *finally***"
   ]
  },
  {
   "cell_type": "markdown",
   "metadata": {},
   "source": [
    "### Em python e algumas outras linguagens, possuimos a clausula *finally*\n",
    "### Esta clausula **sempre sera executada**, mesmo que durante a execução ocorra erros."
   ]
  },
  {
   "cell_type": "markdown",
   "metadata": {},
   "source": [
    "### Vejamos um exemplo a seguir"
   ]
  },
  {
   "cell_type": "code",
   "execution_count": null,
   "metadata": {},
   "outputs": [],
   "source": [
    "def cadastro_cliente(nome, idade):\n",
    "    try:\n",
    "        # Checa se o tamanho do nome é maior que 5 caracteres\n",
    "        if len(nome) < 5:\n",
    "            raise Exception(\"Nome precisa ter mais de 5 caracteres\")\n",
    "        if idade < 18:\n",
    "            raise Exception(\"Idade precisa ser maior que 18 anos\")\n",
    "    except Exception as error:\n",
    "        print(error)\n",
    "    # Sempre sera executado, mesmo que ocorra um erro\n",
    "    finally:\n",
    "        print(\"Fim da execucao\\n\")\n",
    "\n",
    "cliente1 = cadastro_cliente(\"Joao\", 20)\n",
    "cliente2 = cadastro_cliente(\"Maria\", 15)\n",
    "cliente3 = cadastro_cliente(1234, 18)\n",
    "cliente4 = cadastro_cliente(\"Luana\", 20)"
   ]
  },
  {
   "cell_type": "markdown",
   "metadata": {},
   "source": [
    "# **4. Forçando exceções**  ⚡"
   ]
  },
  {
   "cell_type": "markdown",
   "metadata": {},
   "source": [
    "<img src=\"https://www.memecreator.org/static/images/memes/5171568.jpg\" style=\"width: 400px;\"/>"
   ]
  },
  {
   "cell_type": "markdown",
   "metadata": {},
   "source": [
    "### Assim como podemos tratar exceções, tambem podemos forçar exceções em nosso código.\n",
    "### Isso é util para quando desejamos acionar uma chamada de erro em determinada parte de nosso código."
   ]
  },
  {
   "cell_type": "code",
   "execution_count": null,
   "metadata": {},
   "outputs": [],
   "source": [
    "# O simbolo * antes do nome da variavel indica que ela pode receber um numero indefinido de parametros\n",
    "def calcula_media(*notas):\n",
    "    media = sum(notas) / len(notas)\n",
    "    print(\"Media:\", media)\n",
    "    if media < 3.5:\n",
    "        raise Exception(\"Reprovado\")\n",
    "    if media >= 3.5 and media < 7:\n",
    "        raise Exception(\"Recuperacao\")\n",
    "    return \"Aprovado\"\n",
    "    \n",
    "media_final = calcula_media(7, 8, 4)\n",
    "print(media_final)"
   ]
  },
  {
   "cell_type": "markdown",
   "metadata": {},
   "source": [
    "### É importante ressaltar que após uma exceção ser acionada sem um devido tratamento em um bloco try except, o programa não continuara a ser executado após a exceção."
   ]
  },
  {
   "cell_type": "markdown",
   "metadata": {},
   "source": [
    "## **4.1 A palavra chave *raise***"
   ]
  },
  {
   "cell_type": "markdown",
   "metadata": {},
   "source": [
    "### Para acionarmos um erro em nosso código, podemos utilizar da palavra reservada ***raise***, seguida da exceção a ser chamada**"
   ]
  },
  {
   "cell_type": "code",
   "execution_count": null,
   "metadata": {},
   "outputs": [],
   "source": [
    "class Salario():\n",
    "    \n",
    "    def __init__(self, salario_base):\n",
    "        self.salario_base = salario_base\n",
    "        \n",
    "    def calcula_salario(self):\n",
    "\n",
    "            if self.salario_base < 0:\n",
    "                raise Exception(\"Salario nao pode ser negativo!\")\n",
    "            if self.salario_base < 1000:\n",
    "                raise Exception(\"Salario nao pode ser menor que 1000!\")\n",
    "            if self.salario_base >= 1000 and self.salario_base < 2000:\n",
    "                return self.salario_base * 1.10\n",
    "            if self.salario_base >= 2000 and self.salario_base < 3000:\n",
    "                return self.salario_base * 1.05\n",
    "            if self.salario_base >= 3000:\n",
    "                raise Exception(\"Salario nao pode ser maior que 3000!\")            \n",
    "            return self.salario_base\n",
    "    \n",
    "    # Método que retorna uma string quando o objeto é printado\n",
    "    def __str__(self):\n",
    "        return f\"Salario a receber: {self.calcula_salario()}\"\n",
    "            \n",
    "funcionario1 = Salario(1000)\n",
    "print(funcionario1)\n",
    "funcionario2 = Salario(2000)\n",
    "print(funcionario2)\n",
    "funcionario3 = Salario(3000)\n",
    "print(funcionario3)"
   ]
  },
  {
   "cell_type": "markdown",
   "metadata": {},
   "source": [
    "## **4.2 Acionando erros especificos**"
   ]
  },
  {
   "cell_type": "markdown",
   "metadata": {},
   "source": [
    "### Assim como podemos controlar nosso codigo tomando alguma medida para cada erro especifico, tambem podemos acionar erros especificos em nosso codigo"
   ]
  },
  {
   "cell_type": "code",
   "execution_count": null,
   "metadata": {},
   "outputs": [],
   "source": [
    "def item(produto, preco):\n",
    "\n",
    "    if type(produto) != str:\n",
    "        raise TypeError(\"Nome precisa ser uma string\")\n",
    "    if type(preco) != int and type(preco) != float:\n",
    "        raise TypeError(\"Preco precisa ser um numero\")\n",
    "    if preco < 0:\n",
    "        raise ValueError(\"Preco nao pode ser negativo\")\n",
    "    if preco > 1000:\n",
    "        raise ValueError(\"Preco nao pode ser maior que 1000\")\n",
    "    if preco >= 0 and preco < 100:\n",
    "        return preco * 1.10\n",
    "    if preco >= 100 and preco < 500:\n",
    "        return preco * 1.05\n",
    "    if preco >= 500:\n",
    "        return preco * 1.02\n",
    "        \n",
    "item1 = item(\"Arroz\", 10)\n",
    "print(item1)\n",
    "item2 = item(\"Feijao\", 100)\n",
    "print(item2)\n",
    "item3 = item(\"Macarrao\", 500)\n",
    "print(item3)\n",
    "    "
   ]
  },
  {
   "cell_type": "markdown",
   "metadata": {},
   "source": [
    "### Podemos notar a diferença entre as mensagens de erro entre o topico 4.1 e 4.2.\n",
    "### Enquanto no topico 4.1 apenas a palavra *Exception* seguida do erro é mostrada, no topico 4.2 é mostrada exatamente a exceção na qual ocorreu, seguida da mensagem."
   ]
  },
  {
   "cell_type": "markdown",
   "metadata": {},
   "source": [
    "# **5. Criando exceções personalizadas**  ⚡"
   ]
  },
  {
   "cell_type": "markdown",
   "metadata": {},
   "source": [
    "<img src=\"https://pics.me.me/thumb_no-exceptions-72491923.png\" alt=\"Drawing\" style=\"width: 400px;\"/>"
   ]
  },
  {
   "cell_type": "markdown",
   "metadata": {},
   "source": [
    "### Além da lista de erros já existentes em Python, podemos criar nossas próprias exceções, customizando cada exceção de acordo com o erro a ser mostrado."
   ]
  },
  {
   "cell_type": "markdown",
   "metadata": {},
   "source": [
    "### Vejamos um exemplo abaixo onde o usuario nao deve digitar um numero negativo"
   ]
  },
  {
   "cell_type": "code",
   "execution_count": null,
   "metadata": {},
   "outputs": [],
   "source": [
    "def numero_positivo(num):\n",
    "    if num < 0:\n",
    "        print(\"Numero negativo!\")\n",
    "    return num\n",
    "\n",
    "numero1 = numero_positivo(10)\n",
    "print(numero1)\n",
    "numero2 = numero_positivo(-10)\n",
    "print(numero2)"
   ]
  },
  {
   "cell_type": "markdown",
   "metadata": {},
   "source": [
    "### Com o que ja aprendemos, poderiamos facilmente trocar o print da linha 7 por uma exceção."
   ]
  },
  {
   "cell_type": "code",
   "execution_count": null,
   "metadata": {},
   "outputs": [],
   "source": [
    "def numero_positivo(num):\n",
    "    if num < 0:\n",
    "        raise Exception(\"Numero negativo!\")\n",
    "    return num\n",
    "\n",
    "numero1 = numero_positivo(10)\n",
    "print(numero1)\n",
    "numero2 = numero_positivo(-10)\n",
    "print(numero2)"
   ]
  },
  {
   "cell_type": "markdown",
   "metadata": {},
   "source": [
    "### Isso funciona muito bem. \n",
    "### Mas e se em vez de uma exceção comum no momento em que o usuario digitar um numero negativo ser chamada uma exceção apenas para numeros negativos?\n",
    "### É o que faremos agora."
   ]
  },
  {
   "cell_type": "code",
   "execution_count": null,
   "metadata": {},
   "outputs": [],
   "source": [
    "# Sintaxe para criar uma excecao personalizada\n",
    "class NumeroNegativo(Exception):\n",
    "    pass\n",
    "\n",
    "def numero_positivo(num):\n",
    "    if num < 0:\n",
    "        # Lanca a excecao criada\n",
    "        raise NumeroNegativo(\"Foi passado um numero negativo como parametro!\")\n",
    "    return num\n",
    "\n",
    "numero1 = numero_positivo(10)\n",
    "print(numero1)\n",
    "numero2 = numero_positivo(-10)\n",
    "print(numero2)"
   ]
  },
  {
   "cell_type": "markdown",
   "metadata": {},
   "source": [
    "### Podemos criar mais uma exceção para quando o numero for igual a 0"
   ]
  },
  {
   "cell_type": "code",
   "execution_count": null,
   "metadata": {},
   "outputs": [],
   "source": [
    "# Sintaxe para criar uma excecao personalizada\n",
    "class NumeroNegativo(Exception):\n",
    "    pass\n",
    "\n",
    "# Cria uma excecao para quando o numero for 0\n",
    "class NumeroZero(Exception):\n",
    "    pass\n",
    "\n",
    "def numero_positivo(num):\n",
    "    if num < 0:\n",
    "        # Lanca a excecao criada\n",
    "        raise NumeroNegativo(\"Foi passado um numero negativo como parametro!\")\n",
    "    if num == 0:\n",
    "        raise NumeroZero(\"Foi passado o numero zero como parametro!\")\n",
    "    return num\n",
    "\n",
    "numero1 = numero_positivo(10)\n",
    "print(numero1)\n",
    "numero2 = numero_positivo(-10)\n",
    "print(numero2)\n",
    "numero3 = numero_positivo(-10)\n",
    "print(numero3)"
   ]
  },
  {
   "cell_type": "markdown",
   "metadata": {},
   "source": [
    "# **Referências** \n",
    "\n",
    "## [Python Exceptions](https://www.programiz.com/python-programming/exceptions)\n",
    "---"
   ]
  }
 ],
 "metadata": {
  "kernelspec": {
   "display_name": "Python 3.10.8 64-bit",
   "language": "python",
   "name": "python3"
  },
  "language_info": {
   "codemirror_mode": {
    "name": "ipython",
    "version": 3
   },
   "file_extension": ".py",
   "mimetype": "text/x-python",
   "name": "python",
   "nbconvert_exporter": "python",
   "pygments_lexer": "ipython3",
   "version": "3.10.8"
  },
  "orig_nbformat": 4,
  "vscode": {
   "interpreter": {
    "hash": "e7370f93d1d0cde622a1f8e1c04877d8463912d04d973331ad4851f04de6915a"
   }
  }
 },
 "nbformat": 4,
 "nbformat_minor": 2
}
