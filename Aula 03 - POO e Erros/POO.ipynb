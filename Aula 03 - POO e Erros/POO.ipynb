{
 "cells": [
  {
   "cell_type": "markdown",
   "metadata": {},
   "source": [
    "# 🚀 **Aula 03: Parte 01 - Conceitos basicos sobre POO (Programação orientada a objetos)**\n",
    "## Nesta aula iremos estar entendendo conceitos basicos sobre **POO**.\n",
    "---"
   ]
  },
  {
   "cell_type": "markdown",
   "metadata": {},
   "source": [
    "# **1. O que é OOP?**  ⚡"
   ]
  },
  {
   "cell_type": "markdown",
   "metadata": {},
   "source": [
    "<img src=\"https://miro.medium.com/max/1000/1*-dmHYcAiphpWe6m0pcd-AA.png\" alt=\"Drawing\" style=\"width: 400px;\"/>"
   ]
  },
  {
   "cell_type": "markdown",
   "metadata": {},
   "source": [
    "### Em Python, (OOPs) traduzido do inglês programação orientada a objetos (POO) é um paradigma de programação que usa objetos e classes na programação. Ele visa implementar entidades do mundo real como herança, polimorfismos, encapsulamento, etc. na programação. O conceito principal de OOPs é vincular os dados e as funções que trabalham juntos como uma única unidade, para que nenhuma outra parte do código possa acessar esses dados.\n",
    "\n",
    "---"
   ]
  },
  {
   "cell_type": "markdown",
   "metadata": {},
   "source": [
    "# **2. Classes com Python - Conceitos**  ⚡"
   ]
  },
  {
   "cell_type": "markdown",
   "metadata": {},
   "source": [
    "<img src=\"https://external-preview.redd.it/E64e7Kwm4GTTw-Jtn-flAxHstLjb1uWkYOfSV6__Sv4.jpg?auto=webp&s=ee4555136d87c27898314a91356db85db65853e1\" alt=\"Drawing\" style=\"width: 400px;\"/>"
   ]
  },
  {
   "cell_type": "markdown",
   "metadata": {},
   "source": [
    "## **2.1 Definição**"
   ]
  },
  {
   "cell_type": "markdown",
   "metadata": {},
   "source": [
    "### Uma classe é um projeto ou protótipo definido pelo usuário a partir do qual os objetos são criados. As classes fornecem um meio de agrupar dados e funcionalidades. \n",
    "\n",
    "### <font color='red'>**A criação de uma nova classe cria um novo tipo de objeto**</font>, permitindo que novas instâncias desse tipo sejam feitas. Cada instância de classe pode ter atributos anexados a ela para manter seu estado. As instâncias de classe também podem ter métodos (definidos por sua classe) para modificar seu estado."
   ]
  },
  {
   "cell_type": "markdown",
   "metadata": {},
   "source": [
    "## **2.2 Necessidade de se utilizar classes**"
   ]
  },
  {
   "cell_type": "markdown",
   "metadata": {},
   "source": [
    "### Para entender a necessidade de criar uma classe em Python vamos considerar um exemplo:\n",
    "\n",
    "### Digamos que você queira rastrear o número de cães que podem ter atributos diferentes como idade, raça, sexo. \n",
    "\n",
    "### Se uma lista for usada, o primeiro elemento pode ser a raça do cão, enquanto o segundo elemento pode representar sua idade e assim por diante... \n",
    "\n",
    "### Vamos supor que existam 100 cães diferentes, então como você saberia qual elemento deveria ser qual? E se você quisesse adicionar outras propriedades a esses cães? Isso carece de organização e é a exata necessidade para utilizar classes."
   ]
  },
  {
   "cell_type": "markdown",
   "metadata": {},
   "source": [
    "## **2.3 Criação de uma classe**"
   ]
  },
  {
   "cell_type": "markdown",
   "metadata": {},
   "source": [
    "### **Sintaxe**"
   ]
  },
  {
   "cell_type": "code",
   "execution_count": null,
   "metadata": {},
   "outputs": [],
   "source": [
    "class ClassName:\n",
    "    # Declaração\n",
    "    pass\n",
    "    \n",
    "# Sintaxe para definir objeto: \n",
    "objeto = ClassName()\n",
    "print(objeto.atrr)"
   ]
  },
  {
   "cell_type": "markdown",
   "metadata": {},
   "source": [
    "### A classe cria uma estrutura de dados definida pelo usuário, que contém seus próprios membros de dados e funções de membro, que podem ser acessados ​​e usados ​​criando uma instância dessa classe. Uma classe é como um <font color='red'>**projeto**</font> para um objeto."
   ]
  },
  {
   "cell_type": "markdown",
   "metadata": {},
   "source": [
    "## **2.4 Alguns pontos sobre classes em Python**"
   ]
  },
  {
   "cell_type": "markdown",
   "metadata": {},
   "source": [
    "- As classes são criadas pela palavra-chave ***classe***.\n",
    "- Atributos são as variáveis ​​que pertencem a uma classe.\n",
    "- Os atributos são sempre *públicos* e podem ser acessados ​​usando o operador ponto (.) \n",
    "- Ex: Minhaclasse.Meuatributo"
   ]
  },
  {
   "cell_type": "markdown",
   "metadata": {},
   "source": [
    "## **2.5 Objetos da classe**"
   ]
  },
  {
   "cell_type": "markdown",
   "metadata": {},
   "source": [
    "### Um objeto é uma instância de uma classe. \n",
    "\n",
    "### Uma classe é como uma planta de projeto enquanto uma instância é uma cópia da classe com valores reais. Não é mais uma ideia, é um cachorro de verdade, como um cachorro de raça pug de sete anos. \n",
    "\n",
    "### Você pode ter muitos cães para criar muitas instâncias diferentes, mas sem a classe como guia, você estaria perdido, sem saber quais informações são necessárias."
   ]
  },
  {
   "cell_type": "markdown",
   "metadata": {},
   "source": [
    "### Um objeto consiste das seguintes caracteristicas:\n",
    "\n",
    "- **Estado**: É representado pelos atributos de um objeto. Também reflete as propriedades de um objeto.\n",
    "- **Comportamento**: É representado pelos métodos de um objeto. Também reflete a resposta de um objeto a outros objetos.\n",
    "- **Identidade**: Dá um nome exclusivo a um objeto e permite que um objeto interaja com outros objetos."
   ]
  },
  {
   "cell_type": "markdown",
   "metadata": {},
   "source": [
    "# **3. Classes com Python - Codificando**  ⚡"
   ]
  },
  {
   "cell_type": "markdown",
   "metadata": {},
   "source": [
    "<img src=\"https://i.gifer.com/2MgJ.gif\" alt=\"Drawing\" style=\"width: 400px;\"/>"
   ]
  },
  {
   "cell_type": "markdown",
   "metadata": {},
   "source": [
    "## **3.1 Declarando Objetos (Também chamado de instanciar uma classe)**"
   ]
  },
  {
   "cell_type": "markdown",
   "metadata": {},
   "source": [
    "### Quando um objeto de uma classe é criado, diz-se que a <font color='red'>**classe foi instanciada**</font>.\n",
    "### Todas as instâncias compartilham os atributos e o comportamento da classe.\n",
    "### Mas os valores desses atributos, ou seja, o estado são únicos para cada objeto. Uma única classe pode ter qualquer número de instâncias.\n",
    "\n",
    "### **Exemplo de como declarar um objeto**:"
   ]
  },
  {
   "cell_type": "code",
   "execution_count": null,
   "metadata": {},
   "outputs": [],
   "source": [
    "class Cachorro:\n",
    " \n",
    "    # Uma classe simples\n",
    "    # atributos\n",
    "    cor = \"Preto\"\n",
    "    sexo = \"Masculino\"\n",
    "    idade = 3\n",
    " \n",
    "    # Um simples método \n",
    "    def mostra_atributos(self):\n",
    "        print(f\"A cor de meu cachorro é: {self.cor}\")\n",
    "        print(f\"O sexo de meu cachorro é: {self.sexo}\")\n",
    "        print(f\"A idade de meu cachorro é de: {self.idade} anos\")\n",
    " \n",
    " \n",
    "# Nova instancia de Objeto\n",
    "marley = Cachorro()\n",
    " \n",
    "# Acessando atributos da classe\n",
    "print(marley.idade)\n",
    "# Acessando método da classe\n",
    "marley.mostra_atributos()"
   ]
  },
  {
   "cell_type": "markdown",
   "metadata": {},
   "source": [
    "### No exemplo acima, é criado um objeto que é basicamente um cachorro chamado *marley*. \n",
    "\n",
    "### Esta classe tem apenas tres atributos de classe que nos dizem que *marley* possui a cor preta, sexo masculino e a idade de 3 anos.\n",
    "---"
   ]
  },
  {
   "cell_type": "markdown",
   "metadata": {},
   "source": [
    "# **4. Classes com Python - Self  ⚡**"
   ]
  },
  {
   "cell_type": "markdown",
   "metadata": {},
   "source": [
    "<img src=\"https://64.media.tumblr.com/d63bca89e7d7105a51c66eb394c4e95d/4d851140af190957-4e/s540x810/3fa02dcdffb74e3d2b3984147cf3c4d77779de02.pnj\" alt=\"Drawing\" style=\"width: 400px;\"/>"
   ]
  },
  {
   "cell_type": "markdown",
   "metadata": {},
   "source": [
    "### Os métodos de classe devem ter um primeiro parâmetro extra na definição do método. Não damos um valor para este parâmetro quando chamamos o método, o Python o fornece.\n",
    "### Se tivermos um método que não aceita argumentos, ainda teremos que ter um argumento (self).\n",
    "- No exemplo 3.1, para o método *mostra_atributos* o método não aceita nenhum argumento, no entanto, o parametro self foi passado.\n",
    "### Isso é semelhante a ponteiros em C++ e referências em Java.\n",
    "### Exemplo da utilização do self"
   ]
  },
  {
   "cell_type": "code",
   "execution_count": null,
   "metadata": {},
   "outputs": [],
   "source": [
    "class Carro():\n",
    " \n",
    "    # atributos\n",
    "    cor = \"Preto\"\n",
    "    ano = 2020\n",
    "    marca = \"Fiat\"\n",
    " \n",
    "    # Um simples método \n",
    "    def mostra_cor(self):\n",
    "        print(f\"A cor de meu carro é: {self.cor}\")\n",
    "\n",
    "    def mostra_cor_marca(self):\n",
    "        print(f\"A cor de meu carro é: {self.cor}\")\n",
    "        print(f\"A marca de meu carro é: {self.marca}\")\n",
    "\n",
    "    def mostra_cor_marca_ano(self):\n",
    "        print(f\"A cor de meu carro é: {self.cor}\")\n",
    "        print(f\"A marca de meu carro é: {self.marca}\")\n",
    "        print(f\"O ano de meu carro é: {self.ano}\")\n",
    " \n",
    "# Nova instancia de Objeto\n",
    "strada = Carro()\n",
    " \n",
    "# Acessando método da classe\n",
    "strada."
   ]
  },
  {
   "cell_type": "markdown",
   "metadata": {},
   "source": [
    "### Podemos entender o parametro self como uma \"variavel global\" dentro da classe, onde pode ser acessada por todos os métodos."
   ]
  },
  {
   "cell_type": "markdown",
   "metadata": {},
   "source": [
    "---"
   ]
  },
  {
   "cell_type": "markdown",
   "metadata": {},
   "source": [
    "# **5. Classes com Python - O método \\_\\_init\\_\\_  ⚡**"
   ]
  },
  {
   "cell_type": "markdown",
   "metadata": {},
   "source": [
    "<img src=\"https://www.meme-arsenal.com/memes/384d2d0757c2db6d9a08cee642cf802b.jpg\" alt=\"Drawing\" style=\"width: 400px;\"/>"
   ]
  },
  {
   "cell_type": "markdown",
   "metadata": {},
   "source": [
    "### O método \\_\\_init\\_\\_, tambem chamado de método construtor é semelhante aos construtores em C++ e Java. \n",
    "\n",
    "### Construtores são usados ​​para inicializar o estado do objeto. \n",
    "\n",
    "### Assim como os métodos, um construtor também contém uma coleção de instruções que são <font color='red'>**executadas no momento da criação do objeto**</font>. Ele é executado assim que um objeto de uma classe é instanciado. \n",
    "\n",
    "### O método é útil para fazer qualquer inicialização que você queira fazer com seu objeto.\n",
    "\n",
    "### **Exemplo:**"
   ]
  },
  {
   "cell_type": "code",
   "execution_count": null,
   "metadata": {},
   "outputs": [],
   "source": [
    "# Simples classe com o método construtor __init__ \n",
    "class Pessoa():\n",
    " \n",
    "    # método construtor ou __init__\n",
    "    def __init__(self, nome, idade):\n",
    "        self.nome = nome\n",
    "        self.idade = idade\n",
    " \n",
    "    # Métodos exemplo\n",
    "    def diga_oi(self):\n",
    "        print('Oi, meu nome é', self.nome)\n",
    "\n",
    "    def mostra_idade(self):\n",
    "        print(f\"Tenho {self.idade} anos\")\n",
    "        \n",
    "# Primeira instancia\n",
    "michael = Pessoa('Michael', 20)\n",
    "michael.diga_oi()\n",
    "michael.mostra_idade()\n",
    "\n",
    "# Segunda instancia\n",
    "michelle = Pessoa('Michele', 23)\n",
    "michelle.diga_oi()\n",
    "michelle.mostra_idade()"
   ]
  },
  {
   "cell_type": "markdown",
   "metadata": {},
   "source": [
    "### No exemplo acima fica claro a utilização do método construtor. \n",
    "\n",
    "### O parametro nome foi preenchido com o valor *Michael* no inicio da instanciação da classe, e utilizamos o valor *Michael* para os métodos dentro da classe. "
   ]
  },
  {
   "cell_type": "markdown",
   "metadata": {},
   "source": [
    "# **6. Classes com Python - Variáveis ​​de classe e instância  ⚡**"
   ]
  },
  {
   "cell_type": "markdown",
   "metadata": {},
   "source": [
    "### Variáveis ​​de classe\n",
    "- São variáveis ​​cujo valor é atribuído na classe\n",
    "- São para atributos e métodos compartilhados por todas as instâncias da classe."
   ]
  },
  {
   "cell_type": "markdown",
   "metadata": {},
   "source": [
    "### Variáveis ​​de instância \n",
    "- O valor é atribuído dentro de um metodo construtor ou método com self\n",
    "- São para dados\n",
    "- Exclusivas para cada instância"
   ]
  },
  {
   "cell_type": "markdown",
   "metadata": {},
   "source": [
    "### Exemplo definindo variaveis usando o método construtor"
   ]
  },
  {
   "cell_type": "code",
   "execution_count": null,
   "metadata": {},
   "outputs": [],
   "source": [
    "# Exemplo para mostrar que as variáveis ​​com um valor atribuído \n",
    "# na declaração de classe, são variáveis ​​de classe e variáveis \n",
    "# ​​dentro de métodos e construtores são variáveis de instância.\n",
    "\n",
    "class Cachorro:\n",
    "\n",
    "\t# Variavel da classe\n",
    "\tanimal = 'cachorro'\n",
    "\n",
    "\t# Método construtor ou __init__\n",
    "\tdef __init__(self, raca, cor):\n",
    "\n",
    "\t\t# Variavel de instancia\n",
    "\t\tself.raca = raca\n",
    "\t\tself.cor = cor\n",
    "\n",
    "# Objetos da classe Cachorro\n",
    "Beethoven = Cachorro(\"Sao-bernardo\", \"Vermelho e branco\")\n",
    "Jack = Cachorro(\"Bulldog\", \"Preto\")\n",
    "\n",
    "print('Detalhes de Beethoven:')\n",
    "print('Beethoven é um', Beethoven.animal)\n",
    "print('Raca: ', Beethoven.raca)\n",
    "print('Cor: ', Beethoven.cor)\n",
    "\n",
    "print('\\nDetalhes de Jack:')\n",
    "print('Jack é um', Jack.animal)\n",
    "print('Raca: ', Jack.raca)\n",
    "print('Cor: ', Jack.cor)\n",
    "\n",
    "# Variaveis de classe tambem podem ser acessadas utilizando o nome da classe\n",
    "print(\"\\nAcessando a variável de classe usando o nome da classe\")\n",
    "print(Cachorro.animal)"
   ]
  },
  {
   "cell_type": "markdown",
   "metadata": {},
   "source": [
    "### Definindo variáveis ​​de instância usando o método normal."
   ]
  },
  {
   "cell_type": "code",
   "execution_count": null,
   "metadata": {},
   "outputs": [],
   "source": [
    "# Exemplo mostrando que é possivel criar\n",
    "# variaveis de instancia dentro dos métodos\n",
    "\n",
    "\n",
    "class Cachorro:\n",
    "\n",
    "\t# Variavel da classe\n",
    "\tanimal = 'cachorro'\n",
    "\n",
    "\t# Método construtor ou __init__\n",
    "\tdef __init__(self, raca):\n",
    "\n",
    "\t\t# Variavel de instancia\n",
    "\t\tself.raca = raca\n",
    "\n",
    "\t# Adiciona uma variavel de instancia\n",
    "\tdef seta_cor(self, color):\n",
    "\t\tself.color = color\n",
    "\n",
    "\t# Recupera variavel de instancia\n",
    "\tdef retorna_cor(self):\n",
    "\t\treturn self.color\n",
    "\n",
    "Bolinha = Cachorro(\"pug\")\n",
    "Bolinha.seta_cor(\"Marrom\")\n",
    "cor = Bolinha.retorna_cor()\n",
    "print(\"A cor do Bolinha é:\", cor)"
   ]
  },
  {
   "cell_type": "markdown",
   "metadata": {},
   "source": [
    "---"
   ]
  },
  {
   "cell_type": "markdown",
   "metadata": {},
   "source": [
    "# **Referências** \n",
    "\n",
    "## [Python Classes and Objects](https://www.geeksforgeeks.org/python-classes-and-objects/)\n",
    "---"
   ]
  }
 ],
 "metadata": {
  "kernelspec": {
   "display_name": "Python 3.10.6 64-bit",
   "language": "python",
   "name": "python3"
  },
  "language_info": {
   "codemirror_mode": {
    "name": "ipython",
    "version": 3
   },
   "file_extension": ".py",
   "mimetype": "text/x-python",
   "name": "python",
   "nbconvert_exporter": "python",
   "pygments_lexer": "ipython3",
   "version": "3.10.6"
  },
  "orig_nbformat": 4,
  "vscode": {
   "interpreter": {
    "hash": "c9d432971bd129ee71eb1fca121b62dbd92dc54bba4e3c215bc15497eb670e9a"
   }
  }
 },
 "nbformat": 4,
 "nbformat_minor": 2
}
