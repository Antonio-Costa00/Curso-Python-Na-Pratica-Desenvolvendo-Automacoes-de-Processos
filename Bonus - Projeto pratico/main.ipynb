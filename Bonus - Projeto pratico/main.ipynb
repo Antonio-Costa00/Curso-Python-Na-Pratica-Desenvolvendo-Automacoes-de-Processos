{
 "cells": [
  {
   "cell_type": "markdown",
   "metadata": {},
   "source": [
    "# 🚀 **Bonus: Criando um projeto pratico a partir da sugestão dos alunos**"
   ]
  },
  {
   "cell_type": "markdown",
   "metadata": {},
   "source": [
    "## Nesta aula iremos desenvolver um projeto do zero, apartir da sugestão dos alunos do curso.\n",
    "---"
   ]
  },
  {
   "cell_type": "markdown",
   "metadata": {},
   "source": [
    "# **1. Projeto escolhido: Download de imagens e enviando as imagens coletadas para uma lista de emails  ⚡**"
   ]
  },
  {
   "cell_type": "markdown",
   "metadata": {},
   "source": [
    "# **2. Download das bibliotecas  ⚡**"
   ]
  },
  {
   "cell_type": "markdown",
   "metadata": {},
   "source": [
    "### Abaixo seguem as bibliotecas necessarias para realizar o projeto"
   ]
  },
  {
   "cell_type": "code",
   "execution_count": null,
   "metadata": {},
   "outputs": [],
   "source": [
    "!pip install secure-smtplib\n",
    "!pip install python-dotenv\n",
    "!pip install beautifulsoup4"
   ]
  },
  {
   "cell_type": "markdown",
   "metadata": {},
   "source": [
    "### Em caso de erro"
   ]
  },
  {
   "cell_type": "code",
   "execution_count": null,
   "metadata": {},
   "outputs": [],
   "source": [
    "!python -m pip install secure-smtplib\n",
    "!python -m pip install python-dotenv\n",
    "!python -m pip install beautifulsoup4"
   ]
  },
  {
   "cell_type": "markdown",
   "metadata": {},
   "source": [
    "# **3. Criando função para baixar imagens automaticamente  ⚡** "
   ]
  },
  {
   "cell_type": "code",
   "execution_count": null,
   "metadata": {},
   "outputs": [],
   "source": [
    "import requests\n",
    "from bs4 import BeautifulSoup as bs\n",
    "\n",
    "def download_imagens(nome_imagem, qtd_imagens):\n",
    "\n",
    "\t# URL da página que contém as imagens\n",
    "\t\n",
    "\turl_download = requests.get(f\"https://www.google.com/search?q={nome_imagem.replace(' ','+')}&source=lnms&tbm=isch&sa=X&ved=2ahUKEwiPgJC-zcb0AhUI7nMBHalSDmYQ_AUoAXoECAEQAw&biw=681&bih=647#imgrc=pJJcUO755dby7M\")\n",
    "\tsouped = bs(url_download.content, \"html.parser\")\n",
    "\timagens = souped.find_all(\"img\")\n",
    "\timagens = imagens[3:-1]\n",
    "\tlista_imagens = []\n",
    " \n",
    "\tfor img, img_num in zip(imagens, range(qtd_imagens)):\n",
    "\t\timglink = img.attrs.get(\"src\")\n",
    "\t\timagem_content = requests.get(imglink).content\n",
    "\t\tfilename = f\"{nome_imagem}_{img_num}.png\"\n",
    "\t\twith open(filename, \"wb\") as file:\n",
    "\t\t\tfile.write(imagem_content)\n",
    "\t\tlista_imagens.append(filename)\n",
    "\treturn lista_imagens"
   ]
  },
  {
   "cell_type": "markdown",
   "metadata": {},
   "source": [
    "### Agora vamos realizar a chamada de nossa função"
   ]
  },
  {
   "cell_type": "code",
   "execution_count": null,
   "metadata": {},
   "outputs": [],
   "source": [
    "imagem = input(\"Digite o nome da imagem que deseja realizar download: \")\n",
    "qtd_downloads = int(input(\"Digite a quantidade de imagens que deseja realizar download: \"))\n",
    "\n",
    "download_imagens(imagem, qtd_downloads)"
   ]
  },
  {
   "cell_type": "markdown",
   "metadata": {},
   "source": [
    "# **4. Trabalhando com credenciais  ⚡**"
   ]
  },
  {
   "cell_type": "markdown",
   "metadata": {},
   "source": [
    "## **4.1 Guardando credenciais em arquivo de ambiente**"
   ]
  },
  {
   "cell_type": "markdown",
   "metadata": {},
   "source": [
    "### Para guardarmos nossas credenciais em um arquivo de ambiente, podemos realizar os seguintes passos\n",
    "- ### Crie um arquivo .env na pasta Bonus de nosso projeto\n",
    "- ### Copie o conteudo do arquivo .env.example para o arquivo .env\n",
    "- ### Coloque o valor de email e senha nas respectivas variaveis\n",
    "- ### Caso esteja versionando seu código, crie um arquivo chamado .gitignore e escreve o arquivo .env dentro."
   ]
  },
  {
   "cell_type": "markdown",
   "metadata": {},
   "source": [
    "## **4.2 Coletando dados das variaveis de ambiente**"
   ]
  },
  {
   "cell_type": "markdown",
   "metadata": {},
   "source": [
    "### Para coletar so dados das variaveis podemos utilizar o código abaixo."
   ]
  },
  {
   "cell_type": "code",
   "execution_count": null,
   "metadata": {},
   "outputs": [],
   "source": [
    "import os\n",
    "from dotenv import load_dotenv\n",
    "\n",
    "load_dotenv()\n",
    "\n",
    "EMAIL = str(os.getenv(\"EMAIL\"))\n",
    "SENHA = str(os.getenv(\"SENHA\"))\n",
    "\n",
    "print(EMAIL)\n",
    "print(SENHA)"
   ]
  },
  {
   "cell_type": "markdown",
   "metadata": {},
   "source": [
    "# **5. Criando função que envia e-mails para lista de destinatarios  ⚡**"
   ]
  },
  {
   "cell_type": "code",
   "execution_count": 12,
   "metadata": {},
   "outputs": [],
   "source": [
    "import smtplib\n",
    "from email.message import EmailMessage\n",
    "\n",
    "def envia_email_com_anexo(email, senha, destinatarios, assunto, corpo, lista_arquivos: list):\n",
    "    \n",
    "    msg = EmailMessage()\n",
    "    msg['Subject'] = assunto\n",
    "    msg['From'] = email\n",
    "    msg['To'] = destinatarios\n",
    "    msg.set_content(corpo)\n",
    "\n",
    "    for arquivo in lista_arquivos:\n",
    "            \n",
    "        with open(arquivo, 'rb') as f:\n",
    "            file_data = f.read()\n",
    "        msg.add_attachment(file_data, maintype=\"application\",  subtype=\"octet-stream\", filename=arquivo)\n",
    "\n",
    "    with smtplib.SMTP_SSL('smtp.gmail.com', 465) as smtp:\n",
    "        smtp.login(email, senha)\n",
    "        smtp.send_message(msg)"
   ]
  },
  {
   "cell_type": "markdown",
   "metadata": {},
   "source": [
    "### Agora vamos chamar nossa função com as credenciais de e-mail, enviando um arquivo de texto por e-mail como anexo"
   ]
  },
  {
   "cell_type": "code",
   "execution_count": 10,
   "metadata": {},
   "outputs": [],
   "source": [
    "import os\n",
    "from dotenv import load_dotenv\n",
    "\n",
    "load_dotenv()\n",
    "\n",
    "EMAIL = str(os.getenv(\"EMAIL\"))\n",
    "SENHA = str(os.getenv(\"SENHA\"))\n",
    "# Coloque a lista de recipientes aqui\n",
    "lista_de_emails = ['']\n",
    "assunto = \"Teste de envio de email com anexo\"\n",
    "corpo = \"Teste simples para verificar o envio de email com anexo\"\n",
    "# É necessario passar o arquivo como uma lista\n",
    "arquivo = ['arquivo_teste.txt']\n",
    "\n",
    "envia_email_com_anexo(EMAIL, SENHA, lista_de_emails, assunto, corpo, arquivo)"
   ]
  },
  {
   "cell_type": "markdown",
   "metadata": {},
   "source": [
    "# **6. Criando a solução final  ⚡**"
   ]
  },
  {
   "cell_type": "markdown",
   "metadata": {},
   "source": [
    "### Agora que criamos as funções, vamos chamar todas as funções para realizar o download das imagens e enviar o email com anexo"
   ]
  },
  {
   "cell_type": "code",
   "execution_count": 17,
   "metadata": {},
   "outputs": [],
   "source": [
    "import os\n",
    "from dotenv import load_dotenv\n",
    "\n",
    "load_dotenv()\n",
    "\n",
    "imagem = input(\"Digite o nome da imagem que deseja enviar como anexo no e-mail: \")\n",
    "qtd_downloads = int(input(\"Digite a quantidade de imagens que deseja enviar no e-mail: \"))\n",
    "\n",
    "lista_de_imagens = download_imagens(imagem, qtd_downloads)\n",
    "\n",
    "EMAIL = str(os.getenv(\"EMAIL\"))\n",
    "SENHA = str(os.getenv(\"SENHA\"))\n",
    "\n",
    "# Coloque a lista de recipientes aqui\n",
    "lista_de_emails = ['']\n",
    "assunto = \"Digite o assunto aqui\"\t\n",
    "corpo = \"Sua mensagem aqui\" \n",
    "envia_email_com_anexo(EMAIL, SENHA, lista_de_emails, assunto, corpo, lista_de_imagens)"
   ]
  }
 ],
 "metadata": {
  "kernelspec": {
   "display_name": "Python 3.10.6 64-bit",
   "language": "python",
   "name": "python3"
  },
  "language_info": {
   "codemirror_mode": {
    "name": "ipython",
    "version": 3
   },
   "file_extension": ".py",
   "mimetype": "text/x-python",
   "name": "python",
   "nbconvert_exporter": "python",
   "pygments_lexer": "ipython3",
   "version": "3.10.6"
  },
  "orig_nbformat": 4,
  "vscode": {
   "interpreter": {
    "hash": "c9d432971bd129ee71eb1fca121b62dbd92dc54bba4e3c215bc15497eb670e9a"
   }
  }
 },
 "nbformat": 4,
 "nbformat_minor": 2
}
