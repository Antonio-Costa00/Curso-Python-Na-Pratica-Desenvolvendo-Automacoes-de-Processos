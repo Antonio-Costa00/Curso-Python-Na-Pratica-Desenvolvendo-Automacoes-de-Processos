{
 "cells": [
  {
   "cell_type": "markdown",
   "metadata": {},
   "source": [
    "# 🚀 **Aula 03: Parte 03 - Projeto prático: Desenvolvendo novos fornecedores no site do Alibaba**"
   ]
  },
  {
   "cell_type": "markdown",
   "metadata": {},
   "source": [
    "### Como projeto pratico desta aula, estaremos realizando a criação de um programa para desenvolver novos fornecedores de determinado produto no site do alibaba, utilizando interface gráfica, coleta de dados, automacao de processos (RPA) e web scraping.\n",
    "---"
   ]
  },
  {
   "cell_type": "markdown",
   "metadata": {},
   "source": [
    "# **1. Descrição do projeto**  ⚡\n",
    "### Criar um programa com interface gráfica para o usuário final, que recebe um input de um produto e seja capaz de\n",
    "- ### Coletar o website, nome da empresa e os principis produtos de cada fornecedor\n",
    "- ### Dar ao usuario final o controle de quantos fornecedores se deseja contatar\n",
    "- ### Retornar um arquivo do tipo excel, com os dados coletados de cada fornecedor\n",
    "- ### Contatar os fornecedores automaticamente, com uma mensagem escolhida pelo usuário\n",
    "- ### Criar uma opção onde o usuário possa escolher se quer apenas os dados de cada fornecedor (1) ou contatar-los automaticamente (2)\n",
    "- ### Retornar o tempo total da operacao (1) ou (2)\n",
    "---"
   ]
  },
  {
   "cell_type": "markdown",
   "metadata": {},
   "source": [
    "# **Link para o projeto desenvolvido:** [Automatizando o processo de cotação de produtos com novos fornedores no E-commerce Alibaba](https://github.com/Antonio-Costa00/Alibaba-Auto-Quote-Request)"
   ]
  }
 ],
 "metadata": {
  "kernelspec": {
   "display_name": "Python 3.6.8 64-bit",
   "language": "python",
   "name": "python3"
  },
  "language_info": {
   "name": "python",
   "version": "3.6.8"
  },
  "orig_nbformat": 4,
  "vscode": {
   "interpreter": {
    "hash": "17b2627dcfb824b9f7a7add95bee64858b1a42975d8cb4d8cb026fda02086e87"
   }
  }
 },
 "nbformat": 4,
 "nbformat_minor": 2
}
