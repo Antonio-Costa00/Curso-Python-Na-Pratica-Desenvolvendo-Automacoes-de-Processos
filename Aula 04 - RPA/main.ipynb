{
 "cells": [
  {
   "cell_type": "markdown",
   "metadata": {},
   "source": [
    "# 🚀 **Aula 04: Parte 02 - Desenvolvendo e trabalhando com bots - RPA**"
   ]
  },
  {
   "cell_type": "markdown",
   "metadata": {},
   "source": [
    "## Nesta aula iremos estar aprendendo a desenvolver e trabalhar com automações utilizando **RPA**, entendendo como desenvolver e automatizar tarefas repetitivas do dia a dia.\n",
    "---"
   ]
  },
  {
   "cell_type": "markdown",
   "metadata": {},
   "source": [
    "# **1. A Biblioteca PyAutoGUI** ⚡"
   ]
  },
  {
   "cell_type": "markdown",
   "metadata": {},
   "source": [
    "<img src=\"https://i.gifer.com/Btm.gif\" alt=\"Drawing\" style=\"width: 200px;\"/>"
   ]
  },
  {
   "cell_type": "markdown",
   "metadata": {},
   "source": [
    "### “Pyautogui pode fazer qualquer coisa que um usuário humano sentado na frente do computador pode fazer, exceto derramar café no teclado”, palavras do proprio criador da biblioteca. <br>\n",
    "### A biblioteca PyAutoGUI é uma das bibliotecas criadas para desenvolvermos bots com facilidade, com varios módulos pré prontos para agilizar o desenvolvimento de nossas automações. <br>\n",
    "### Com a ajuda dessa biblioteca, podemos criar verdadeiras soluções de  RPA com bastante facilidade e toda flexibilidade da linguagem Python, podendo realizar inumeras combinações possiveis de projetos. O céu é o limite!\n",
    "---"
   ]
  },
  {
   "cell_type": "markdown",
   "metadata": {},
   "source": [
    "# **2. Instalando bibliotecas** ⚡"
   ]
  },
  {
   "cell_type": "markdown",
   "metadata": {},
   "source": [
    "### A biblioteca PyAutoGUI faz parte de um conjunto de módulos externos, por tanto, é necessario realizar a instalação diretamente do repósitório oficial de bibliotecas Python, https://pypi.org <br>\n",
    "### Assim como o NodeJs possui o NPM e yarn para realizar a instalação de novos pacotes, Python conta com o ***pip*** para essa tarefa. <br>\n",
    "### OBS: No ambiente Jupyter as células funcionam como \"*mini terminais*\", e podemos realizar comandos de terminal diretamente pelas células, apenas colocando uma *!* no inicio da instrução."
   ]
  },
  {
   "cell_type": "code",
   "execution_count": 1,
   "metadata": {},
   "outputs": [
    {
     "name": "stdout",
     "output_type": "stream",
     "text": [
      "Hello World\n",
      "antonio_costa\n"
     ]
    }
   ],
   "source": [
    "# Exemplo de código em Bash\n",
    "! echo \"Hello World\"\n",
    "# Verificando usuario logado\n",
    "! whoami"
   ]
  },
  {
   "cell_type": "markdown",
   "metadata": {},
   "source": [
    "### Agora vamos ao que interessa: vamos instalar o pacote PyAutoGUI em nossa maquina."
   ]
  },
  {
   "cell_type": "code",
   "execution_count": 2,
   "metadata": {},
   "outputs": [
    {
     "name": "stdout",
     "output_type": "stream",
     "text": [
      "Defaulting to user installation because normal site-packages is not writeable\n",
      "Requirement already satisfied: pyautogui in /home/antonio_costa/.local/lib/python3.10/site-packages (0.9.53)\n",
      "Requirement already satisfied: pymsgbox in /home/antonio_costa/.local/lib/python3.10/site-packages (from pyautogui) (1.0.9)\n",
      "Requirement already satisfied: PyTweening>=1.0.1 in /home/antonio_costa/.local/lib/python3.10/site-packages (from pyautogui) (1.0.4)\n",
      "Requirement already satisfied: pyscreeze>=0.1.21 in /home/antonio_costa/.local/lib/python3.10/site-packages (from pyautogui) (0.1.28)\n",
      "Requirement already satisfied: pygetwindow>=0.0.5 in /home/antonio_costa/.local/lib/python3.10/site-packages (from pyautogui) (0.0.9)\n",
      "Requirement already satisfied: mouseinfo in /home/antonio_costa/.local/lib/python3.10/site-packages (from pyautogui) (0.1.3)\n",
      "Requirement already satisfied: python3-Xlib in /home/antonio_costa/.local/lib/python3.10/site-packages (from pyautogui) (0.15)\n",
      "Requirement already satisfied: pyrect in /home/antonio_costa/.local/lib/python3.10/site-packages (from pygetwindow>=0.0.5->pyautogui) (0.2.0)\n",
      "Requirement already satisfied: pyperclip in /home/antonio_costa/.local/lib/python3.10/site-packages (from mouseinfo->pyautogui) (1.8.2)\n",
      "^C\n"
     ]
    }
   ],
   "source": [
    "!pip3 install pyautogui"
   ]
  },
  {
   "cell_type": "markdown",
   "metadata": {},
   "source": [
    "---"
   ]
  },
  {
   "cell_type": "markdown",
   "metadata": {},
   "source": [
    "# **3. Explorando funcionalidades da biblioteca** ⚡"
   ]
  },
  {
   "cell_type": "markdown",
   "metadata": {},
   "source": [
    "## **3.1 Importando nossa biblioteca**"
   ]
  },
  {
   "cell_type": "markdown",
   "metadata": {},
   "source": [
    "### Antes de começarmos, iremos importar as bibliotecas que iremos utilizar para nossos exemplos "
   ]
  },
  {
   "cell_type": "code",
   "execution_count": 5,
   "metadata": {},
   "outputs": [
    {
     "ename": "XauthError",
     "evalue": "~/.Xauthority: [Errno 2] No such file or directory: '/home/antonio_costa/.Xauthority'",
     "output_type": "error",
     "traceback": [
      "\u001b[0;31m---------------------------------------------------------------------------\u001b[0m",
      "\u001b[0;31mFileNotFoundError\u001b[0m                         Traceback (most recent call last)",
      "File \u001b[0;32m~/.local/lib/python3.10/site-packages/Xlib/xauth.py:43\u001b[0m, in \u001b[0;36mXauthority.__init__\u001b[0;34m(self, filename)\u001b[0m\n\u001b[1;32m     42\u001b[0m \u001b[39mtry\u001b[39;00m:\n\u001b[0;32m---> 43\u001b[0m     raw \u001b[39m=\u001b[39m \u001b[39mopen\u001b[39;49m(filename, \u001b[39m'\u001b[39;49m\u001b[39mrb\u001b[39;49m\u001b[39m'\u001b[39;49m)\u001b[39m.\u001b[39mread()\n\u001b[1;32m     44\u001b[0m \u001b[39mexcept\u001b[39;00m \u001b[39mOSError\u001b[39;00m \u001b[39mas\u001b[39;00m err:\n",
      "\u001b[0;31mFileNotFoundError\u001b[0m: [Errno 2] No such file or directory: '/home/antonio_costa/.Xauthority'",
      "\nDuring handling of the above exception, another exception occurred:\n",
      "\u001b[0;31mXauthError\u001b[0m                                Traceback (most recent call last)",
      "\u001b[1;32m/home/antonio_costa/Courses/cip/Treinamento-Python/Aula 04 - RPA/main.ipynb Cell 15\u001b[0m in \u001b[0;36m<cell line: 1>\u001b[0;34m()\u001b[0m\n\u001b[0;32m----> <a href='vscode-notebook-cell://wsl%2Barch/home/antonio_costa/Courses/cip/Treinamento-Python/Aula%2004%20-%20RPA/main.ipynb#X20sdnNjb2RlLXJlbW90ZQ%3D%3D?line=0'>1</a>\u001b[0m \u001b[39mimport\u001b[39;00m \u001b[39mpyautogui\u001b[39;00m \u001b[39mas\u001b[39;00m \u001b[39mpg\u001b[39;00m\n\u001b[1;32m      <a href='vscode-notebook-cell://wsl%2Barch/home/antonio_costa/Courses/cip/Treinamento-Python/Aula%2004%20-%20RPA/main.ipynb#X20sdnNjb2RlLXJlbW90ZQ%3D%3D?line=1'>2</a>\u001b[0m \u001b[39mfrom\u001b[39;00m \u001b[39mtime\u001b[39;00m \u001b[39mimport\u001b[39;00m sleep\n",
      "File \u001b[0;32m~/.local/lib/python3.10/site-packages/pyautogui/__init__.py:249\u001b[0m, in \u001b[0;36m<module>\u001b[0;34m\u001b[0m\n\u001b[1;32m    245\u001b[0m     screenshot \u001b[39m=\u001b[39m _couldNotImportPyScreeze\n\u001b[1;32m    248\u001b[0m \u001b[39mtry\u001b[39;00m:\n\u001b[0;32m--> 249\u001b[0m     \u001b[39mimport\u001b[39;00m \u001b[39mmouseinfo\u001b[39;00m\n\u001b[1;32m    251\u001b[0m     \u001b[39mdef\u001b[39;00m \u001b[39mmouseInfo\u001b[39m():\n\u001b[1;32m    252\u001b[0m         \u001b[39m\"\"\"\u001b[39;00m\n\u001b[1;32m    253\u001b[0m \u001b[39m        Launches the MouseInfo app. This application provides mouse coordinate information which can be useful when\u001b[39;00m\n\u001b[1;32m    254\u001b[0m \u001b[39m        planning GUI automation tasks. This function blocks until the application is closed.\u001b[39;00m\n\u001b[1;32m    255\u001b[0m \u001b[39m        \"\"\"\u001b[39;00m\n",
      "File \u001b[0;32m~/.local/lib/python3.10/site-packages/mouseinfo/__init__.py:223\u001b[0m, in \u001b[0;36m<module>\u001b[0;34m\u001b[0m\n\u001b[1;32m    220\u001b[0m     \u001b[39melse\u001b[39;00m:\n\u001b[1;32m    221\u001b[0m         \u001b[39mraise\u001b[39;00m\n\u001b[0;32m--> 223\u001b[0m _display \u001b[39m=\u001b[39m Display(os\u001b[39m.\u001b[39;49menviron[\u001b[39m'\u001b[39;49m\u001b[39mDISPLAY\u001b[39;49m\u001b[39m'\u001b[39;49m])\n\u001b[1;32m    225\u001b[0m \u001b[39mdef\u001b[39;00m \u001b[39m_linuxPosition\u001b[39m():\n\u001b[1;32m    226\u001b[0m     coord \u001b[39m=\u001b[39m _display\u001b[39m.\u001b[39mscreen()\u001b[39m.\u001b[39mroot\u001b[39m.\u001b[39mquery_pointer()\u001b[39m.\u001b[39m_data\n",
      "File \u001b[0;32m~/.local/lib/python3.10/site-packages/Xlib/display.py:80\u001b[0m, in \u001b[0;36mDisplay.__init__\u001b[0;34m(self, display)\u001b[0m\n\u001b[1;32m     79\u001b[0m \u001b[39mdef\u001b[39;00m \u001b[39m__init__\u001b[39m(\u001b[39mself\u001b[39m, display \u001b[39m=\u001b[39m \u001b[39mNone\u001b[39;00m):\n\u001b[0;32m---> 80\u001b[0m     \u001b[39mself\u001b[39m\u001b[39m.\u001b[39mdisplay \u001b[39m=\u001b[39m _BaseDisplay(display)\n\u001b[1;32m     82\u001b[0m     \u001b[39m# Create the keymap cache\u001b[39;00m\n\u001b[1;32m     83\u001b[0m     \u001b[39mself\u001b[39m\u001b[39m.\u001b[39m_keymap_codes \u001b[39m=\u001b[39m [()] \u001b[39m*\u001b[39m \u001b[39m256\u001b[39m\n",
      "File \u001b[0;32m~/.local/lib/python3.10/site-packages/Xlib/display.py:62\u001b[0m, in \u001b[0;36m_BaseDisplay.__init__\u001b[0;34m(self, *args, **keys)\u001b[0m\n\u001b[1;32m     61\u001b[0m \u001b[39mdef\u001b[39;00m \u001b[39m__init__\u001b[39m(\u001b[39mself\u001b[39m, \u001b[39m*\u001b[39margs, \u001b[39m*\u001b[39m\u001b[39m*\u001b[39mkeys):\n\u001b[0;32m---> 62\u001b[0m     display\u001b[39m.\u001b[39;49mDisplay\u001b[39m.\u001b[39;49m\u001b[39m__init__\u001b[39;49m(\u001b[39m*\u001b[39;49m(\u001b[39mself\u001b[39;49m, ) \u001b[39m+\u001b[39;49m args, \u001b[39m*\u001b[39;49m\u001b[39m*\u001b[39;49mkeys)\n\u001b[1;32m     63\u001b[0m     \u001b[39mself\u001b[39m\u001b[39m.\u001b[39m_atom_cache \u001b[39m=\u001b[39m {}\n",
      "File \u001b[0;32m~/.local/lib/python3.10/site-packages/Xlib/protocol/display.py:60\u001b[0m, in \u001b[0;36mDisplay.__init__\u001b[0;34m(self, display)\u001b[0m\n\u001b[1;32m     56\u001b[0m \u001b[39mself\u001b[39m\u001b[39m.\u001b[39mdefault_screen \u001b[39m=\u001b[39m screenno\n\u001b[1;32m     58\u001b[0m \u001b[39mself\u001b[39m\u001b[39m.\u001b[39msocket \u001b[39m=\u001b[39m connect\u001b[39m.\u001b[39mget_socket(name, host, displayno)\n\u001b[0;32m---> 60\u001b[0m auth_name, auth_data \u001b[39m=\u001b[39m connect\u001b[39m.\u001b[39;49mget_auth(\u001b[39mself\u001b[39;49m\u001b[39m.\u001b[39;49msocket,\n\u001b[1;32m     61\u001b[0m                                         name, host, displayno)\n\u001b[1;32m     63\u001b[0m \u001b[39m# Internal structures for communication, grouped\u001b[39;00m\n\u001b[1;32m     64\u001b[0m \u001b[39m# by their function and locks\u001b[39;00m\n\u001b[1;32m     65\u001b[0m \n\u001b[1;32m     66\u001b[0m \u001b[39m# Socket error indicator, set when the socket is closed\u001b[39;00m\n\u001b[1;32m     67\u001b[0m \u001b[39m# in one way or another\u001b[39;00m\n\u001b[1;32m     68\u001b[0m \u001b[39mself\u001b[39m\u001b[39m.\u001b[39msocket_error_lock \u001b[39m=\u001b[39m lock\u001b[39m.\u001b[39mallocate_lock()\n",
      "File \u001b[0;32m~/.local/lib/python3.10/site-packages/Xlib/support/connect.py:91\u001b[0m, in \u001b[0;36mget_auth\u001b[0;34m(sock, dname, host, dno)\u001b[0m\n\u001b[1;32m     89\u001b[0m modname \u001b[39m=\u001b[39m _auth_mods\u001b[39m.\u001b[39mget(platform, _default_auth_mod)\n\u001b[1;32m     90\u001b[0m mod \u001b[39m=\u001b[39m \u001b[39m__import__\u001b[39m(modname, \u001b[39mglobals\u001b[39m(),level\u001b[39m=\u001b[39m\u001b[39m1\u001b[39m)\n\u001b[0;32m---> 91\u001b[0m \u001b[39mreturn\u001b[39;00m mod\u001b[39m.\u001b[39;49mget_auth(sock, dname, host, dno)\n",
      "File \u001b[0;32m~/.local/lib/python3.10/site-packages/Xlib/support/unix_connect.py:103\u001b[0m, in \u001b[0;36mnew_get_auth\u001b[0;34m(sock, dname, host, dno)\u001b[0m\n\u001b[1;32m    100\u001b[0m     family \u001b[39m=\u001b[39m xauth\u001b[39m.\u001b[39mFamilyLocal\n\u001b[1;32m    101\u001b[0m     addr \u001b[39m=\u001b[39m socket\u001b[39m.\u001b[39mgethostname()\n\u001b[0;32m--> 103\u001b[0m au \u001b[39m=\u001b[39m xauth\u001b[39m.\u001b[39;49mXauthority()\n\u001b[1;32m    104\u001b[0m \u001b[39mwhile\u001b[39;00m \u001b[39m1\u001b[39m:\n\u001b[1;32m    105\u001b[0m     \u001b[39mtry\u001b[39;00m:\n",
      "File \u001b[0;32m~/.local/lib/python3.10/site-packages/Xlib/xauth.py:45\u001b[0m, in \u001b[0;36mXauthority.__init__\u001b[0;34m(self, filename)\u001b[0m\n\u001b[1;32m     43\u001b[0m     raw \u001b[39m=\u001b[39m \u001b[39mopen\u001b[39m(filename, \u001b[39m'\u001b[39m\u001b[39mrb\u001b[39m\u001b[39m'\u001b[39m)\u001b[39m.\u001b[39mread()\n\u001b[1;32m     44\u001b[0m \u001b[39mexcept\u001b[39;00m \u001b[39mOSError\u001b[39;00m \u001b[39mas\u001b[39;00m err:\n\u001b[0;32m---> 45\u001b[0m     \u001b[39mraise\u001b[39;00m error\u001b[39m.\u001b[39mXauthError(\u001b[39m'\u001b[39m\u001b[39m~/.Xauthority: \u001b[39m\u001b[39m%s\u001b[39;00m\u001b[39m'\u001b[39m \u001b[39m%\u001b[39m err)\n\u001b[1;32m     47\u001b[0m \u001b[39mself\u001b[39m\u001b[39m.\u001b[39mentries \u001b[39m=\u001b[39m []\n\u001b[1;32m     49\u001b[0m \u001b[39m# entry format (all shorts in big-endian)\u001b[39;00m\n\u001b[1;32m     50\u001b[0m \u001b[39m#   short family;\u001b[39;00m\n\u001b[1;32m     51\u001b[0m \u001b[39m#   short addrlen;\u001b[39;00m\n\u001b[0;32m   (...)\u001b[0m\n\u001b[1;32m     57\u001b[0m \u001b[39m#   short datalen;\u001b[39;00m\n\u001b[1;32m     58\u001b[0m \u001b[39m#   char data[datalen];\u001b[39;00m\n",
      "\u001b[0;31mXauthError\u001b[0m: ~/.Xauthority: [Errno 2] No such file or directory: '/home/antonio_costa/.Xauthority'"
     ]
    }
   ],
   "source": [
    "import pyautogui as pg\n",
    "from time import sleep"
   ]
  },
  {
   "cell_type": "markdown",
   "metadata": {},
   "source": [
    "### No passo acima importamos a biblioteca *pyautogui* para nosso projeto com o nome de *pg*, ou seja, toda vez que formos utilizar algum método de nosso módulo chamaremos apenas *pg*."
   ]
  },
  {
   "cell_type": "markdown",
   "metadata": {},
   "source": [
    "### Agora que realizamos a instalação de nossa biblioteca, iremos explorar um pouco das funcionalidades na qual a biblioteca oferece."
   ]
  },
  {
   "cell_type": "markdown",
   "metadata": {},
   "source": [
    "## **3.2 Localizando coordenadas do cursor do mouse**"
   ]
  },
  {
   "cell_type": "markdown",
   "metadata": {},
   "source": [
    "### Antes de tudo, vale ressaltar como funcionamos as coordenadas em uma tela de computador"
   ]
  },
  {
   "cell_type": "markdown",
   "metadata": {},
   "source": [
    "<img src=\"../images/Coordenadas.png\" alt=\"Drawing\" style=\"width: 400px;\"/>"
   ]
  },
  {
   "cell_type": "markdown",
   "metadata": {},
   "source": [
    "### Como mostrado acima, a origem do plano cartesiano (0,0) fica no topo do canto esquerdo da tela. O ponto *P* mostrado acima é um exemplo de coordenadas."
   ]
  },
  {
   "cell_type": "markdown",
   "metadata": {},
   "source": [
    "### Agora podemos verificar como coletar esses pontos em nossa tela."
   ]
  },
  {
   "cell_type": "code",
   "execution_count": 9,
   "metadata": {},
   "outputs": [
    {
     "data": {
      "text/plain": [
       "Point(x=518, y=252)"
      ]
     },
     "execution_count": 9,
     "metadata": {},
     "output_type": "execute_result"
    }
   ],
   "source": [
    "pg.position()"
   ]
  },
  {
   "cell_type": "markdown",
   "metadata": {},
   "source": [
    "### Podemos verificar as coordenadas de forma dinamica"
   ]
  },
  {
   "cell_type": "code",
   "execution_count": null,
   "metadata": {},
   "outputs": [],
   "source": [
    "while True:\n",
    "    print(pg.position())\n",
    "    sleep(1)"
   ]
  },
  {
   "cell_type": "markdown",
   "metadata": {},
   "source": [
    "### Ou simplesmente..."
   ]
  },
  {
   "cell_type": "code",
   "execution_count": null,
   "metadata": {},
   "outputs": [],
   "source": [
    "pg.displayMousePosition()"
   ]
  },
  {
   "cell_type": "markdown",
   "metadata": {},
   "source": [
    "## **3.3 Movendo o cursor do mouse**"
   ]
  },
  {
   "cell_type": "markdown",
   "metadata": {},
   "source": [
    "### Para mover o mouse para uma coordenada especifica da tela"
   ]
  },
  {
   "cell_type": "code",
   "execution_count": 18,
   "metadata": {},
   "outputs": [],
   "source": [
    "pg.moveTo(10,10)"
   ]
  },
  {
   "cell_type": "markdown",
   "metadata": {},
   "source": [
    "### Para arrastar o mouse para uma coordenada especifica da tela"
   ]
  },
  {
   "cell_type": "code",
   "execution_count": 22,
   "metadata": {},
   "outputs": [],
   "source": [
    "pg.moveTo(400,300,duration=1)"
   ]
  },
  {
   "cell_type": "markdown",
   "metadata": {},
   "source": [
    "## **3.4 Clicando em uma coordenada especifica da tela**"
   ]
  },
  {
   "cell_type": "markdown",
   "metadata": {},
   "source": [
    "### Podemos clicar em coordenadas especificas ta tela"
   ]
  },
  {
   "cell_type": "markdown",
   "metadata": {},
   "source": [
    "### Click simples com botao esquerdo do mouse"
   ]
  },
  {
   "cell_type": "code",
   "execution_count": 25,
   "metadata": {},
   "outputs": [],
   "source": [
    "pg.click(80,80)"
   ]
  },
  {
   "cell_type": "markdown",
   "metadata": {},
   "source": [
    "### Click duplo com botao esquerdo do mouse"
   ]
  },
  {
   "cell_type": "code",
   "execution_count": 32,
   "metadata": {},
   "outputs": [],
   "source": [
    "pg.doubleClick(80,80,interval=0.2)"
   ]
  },
  {
   "cell_type": "markdown",
   "metadata": {},
   "source": [
    "### Click com botao direito do mouse"
   ]
  },
  {
   "cell_type": "code",
   "execution_count": 34,
   "metadata": {},
   "outputs": [],
   "source": [
    "pg.rightClick(80,80)"
   ]
  },
  {
   "cell_type": "markdown",
   "metadata": {},
   "source": [
    "## **3.5 Pressionando teclas**"
   ]
  },
  {
   "cell_type": "markdown",
   "metadata": {},
   "source": [
    "### Podemos criar um bot que aperta as teclas como um humano normalmente faria."
   ]
  },
  {
   "cell_type": "markdown",
   "metadata": {},
   "source": [
    "### Para pressionar uma tecla simples"
   ]
  },
  {
   "cell_type": "code",
   "execution_count": 3,
   "metadata": {},
   "outputs": [
    {
     "ename": "NameError",
     "evalue": "name 'pg' is not defined",
     "output_type": "error",
     "traceback": [
      "\u001b[0;31m---------------------------------------------------------------------------\u001b[0m",
      "\u001b[0;31mNameError\u001b[0m                                 Traceback (most recent call last)",
      "\u001b[1;32m/home/antonio_costa/Courses/cip/Treinamento-Python/Aula 04 - RPA/main.ipynb Cell 44\u001b[0m in \u001b[0;36m<cell line: 1>\u001b[0;34m()\u001b[0m\n\u001b[0;32m----> <a href='vscode-notebook-cell://wsl%2Barch/home/antonio_costa/Courses/cip/Treinamento-Python/Aula%2004%20-%20RPA/main.ipynb#X61sdnNjb2RlLXJlbW90ZQ%3D%3D?line=0'>1</a>\u001b[0m pg\u001b[39m.\u001b[39mpress(\u001b[39m\"\u001b[39m\u001b[39mwinleft\u001b[39m\u001b[39m\"\u001b[39m)\n",
      "\u001b[0;31mNameError\u001b[0m: name 'pg' is not defined"
     ]
    }
   ],
   "source": [
    "pg.press(\"winleft\")"
   ]
  },
  {
   "cell_type": "markdown",
   "metadata": {},
   "source": [
    "### Para pressionar uma combinação de teclas, o método hotkey pode ser utilizado. "
   ]
  },
  {
   "cell_type": "code",
   "execution_count": 37,
   "metadata": {},
   "outputs": [],
   "source": [
    "pg.hotkey(\"ctrl\",\"s\")"
   ]
  },
  {
   "cell_type": "markdown",
   "metadata": {},
   "source": [
    "### Para verificar todas as possiveis chaves de mapeamento das teclas que podem ser digitalizadas, podemos utilizar o método abaixo."
   ]
  },
  {
   "cell_type": "code",
   "execution_count": null,
   "metadata": {},
   "outputs": [],
   "source": [
    "pg.KEYBOARD_KEYS"
   ]
  },
  {
   "cell_type": "markdown",
   "metadata": {},
   "source": [
    "# **4. Mini projeto 01 - automatizando o bloco de notas** ⚡"
   ]
  },
  {
   "cell_type": "markdown",
   "metadata": {},
   "source": [
    "### Antes de entrarmos com detalhes sobre como construir bots elaborados, que tal criarmos um mini bot que digita uma lista de valores dentro de nosso bloco de notas?"
   ]
  },
  {
   "cell_type": "markdown",
   "metadata": {},
   "source": [
    "### Vamos começar abrindo nosso bloco de notas"
   ]
  },
  {
   "cell_type": "code",
   "execution_count": 39,
   "metadata": {},
   "outputs": [],
   "source": [
    "# Pressiona a tecla windows\n",
    "pg.press('winleft')\n",
    "# Digita o comando para abrir o bloco de notas\n",
    "pg.write('Notepad', interval = 0.1)\n",
    "pg.press('enter')"
   ]
  },
  {
   "cell_type": "markdown",
   "metadata": {},
   "source": [
    "### Agora vamos criar uma função que recebe uma lista como parametro e digitar essa lista em nosso bloco de notas e depois salvar-lo"
   ]
  },
  {
   "cell_type": "code",
   "execution_count": 40,
   "metadata": {},
   "outputs": [],
   "source": [
    "def escrever_nota(nome_arquivo, lista_frutas):\n",
    "    # Pressiona a tecla windows\n",
    "    pg.press('winleft')\n",
    "    # Digita o comando para abrir o bloco de notas\n",
    "    pg.write('Notepad', interval = 0.1)\n",
    "    pg.press('enter')\n",
    "    sleep(1)\n",
    "    for index, fruta in enumerate(lista_frutas, start=1):\n",
    "        pg.typewrite(f\"Fruta numero {index}: {fruta}\", interval=0.1)\n",
    "        pg.press('enter')\n",
    "    pg.hotkey('ctrl', 's')\n",
    "    sleep(2)\n",
    "    pg.typewrite(f\"{nome_arquivo}.txt\", interval=0.1)\n",
    "    pg.press('tab', presses=4, interval=0.1)\n",
    "    pg.press('enter')"
   ]
  },
  {
   "cell_type": "markdown",
   "metadata": {},
   "source": [
    "### Agora vamos realizar a chamada de nossa função"
   ]
  },
  {
   "cell_type": "code",
   "execution_count": 42,
   "metadata": {},
   "outputs": [],
   "source": [
    "lista_frutas = ['Melancia', 'Goiaba', 'Morango', 'Kiwi', 'Pera']\n",
    "nome_arquivo = 'cenourinha'\n",
    "escrever_nota(nome_arquivo, lista_frutas)"
   ]
  },
  {
   "cell_type": "markdown",
   "metadata": {},
   "source": [
    "# **5. Trabalhando com imagens** ⚡"
   ]
  },
  {
   "cell_type": "markdown",
   "metadata": {},
   "source": [
    "<img src=\"https://i.imgur.com/njy9dVV.jpeg\" alt=\"Drawing\" style=\"width: 400px;\"/>"
   ]
  },
  {
   "cell_type": "markdown",
   "metadata": {},
   "source": [
    "### Digamos que voce esta trabalhando em um projeto que consiste em clicar em uma coordenada da tela em especifico, no entanto, seu projeto ira rodar em varias maquinas, e essas maquinas possuem diferentes resoluções em suas telas. Como proceder? "
   ]
  },
  {
   "cell_type": "markdown",
   "metadata": {},
   "source": [
    "## **5.1 Instalando o módulo Open-CV para detecção de imagens**"
   ]
  },
  {
   "cell_type": "markdown",
   "metadata": {},
   "source": [
    "### O módulo PyAutoGUI por si só ja conta com métodos capazes de identificar imagens na tela, como por exemplo o método *locateOnScreen*, que recebe como parametro a imagem na qual se deseja encontrar na tela, no entanto, esse método tambem conta com o parametro opcional *confidence*, parametro responsavel pela porcentagem de certeza que a imagem esta na tela, e apenas com o módulo OpenCV instalado é possivel utilizar este parametro."
   ]
  },
  {
   "cell_type": "code",
   "execution_count": 43,
   "metadata": {},
   "outputs": [
    {
     "name": "stdout",
     "output_type": "stream",
     "text": [
      "^C\n"
     ]
    }
   ],
   "source": [
    "!pip3 install opencv-python"
   ]
  },
  {
   "cell_type": "markdown",
   "metadata": {},
   "source": [
    "## **5.2 Identificando imagens na tela**"
   ]
  },
  {
   "cell_type": "markdown",
   "metadata": {},
   "source": [
    "### PyAutoGUI conta com métodos capazes de reconhecer imagens na tela na qual o usuario esta trabalhando, podendo clicar ou realizar um procedimento especifico após o reconhecimento da imagem na tela.\n",
    "### Vamos começar identificando as coordenadas na qual nossa calculadora se encontra "
   ]
  },
  {
   "cell_type": "code",
   "execution_count": 52,
   "metadata": {},
   "outputs": [
    {
     "data": {
      "text/plain": [
       "Box(left=1025, top=31, width=313, height=525)"
      ]
     },
     "execution_count": 52,
     "metadata": {},
     "output_type": "execute_result"
    }
   ],
   "source": [
    "calculator_location = pg.locateOnScreen(\"../images/calculator_images/calculadora.png\", confidence = 0.8)\n",
    "calculator_location"
   ]
  },
  {
   "cell_type": "markdown",
   "metadata": {},
   "source": [
    "### Podemos identificar tambem as coordenadas de centro de nossa imagem com o método *locateCenterOnScreen*, que retorna uma tuple de coordenadas x, y referente a posição do elemento na tela."
   ]
  },
  {
   "cell_type": "code",
   "execution_count": 57,
   "metadata": {},
   "outputs": [
    {
     "name": "stdout",
     "output_type": "stream",
     "text": [
      "1154 466\n"
     ]
    }
   ],
   "source": [
    "coord_x, coord_y = pg.locateCenterOnScreen(\"../images/calculator_images/calculadora.png\", confidence = 0.8)\n",
    "print(coord_x, coord_y)"
   ]
  },
  {
   "cell_type": "markdown",
   "metadata": {},
   "source": [
    "### Agora que sabemos como identificar imagens na tela, vamos realizar alguns testes em nossa calculadora.\n",
    "\n",
    "### Primeiramente iremos tirar print de algumas teclas e salvar essas imagens"
   ]
  },
  {
   "cell_type": "markdown",
   "metadata": {},
   "source": [
    "### Agora que nossas imagens estao prontas, que tal realizarmos algumas contas? "
   ]
  },
  {
   "cell_type": "markdown",
   "metadata": {},
   "source": [
    "# **6. Mini projeto 02 - Realizando contas na calculadora por detecção de imagens** ⚡"
   ]
  },
  {
   "cell_type": "markdown",
   "metadata": {},
   "source": [
    "### Para este mini projeto com as imagens tiradas no topico anterior iremos fazer contas em nossa calculadora."
   ]
  },
  {
   "cell_type": "markdown",
   "metadata": {},
   "source": [
    "### Vamos importar os módulos necessários para este projeto"
   ]
  },
  {
   "cell_type": "code",
   "execution_count": 58,
   "metadata": {},
   "outputs": [],
   "source": [
    "import pyautogui as pg\n",
    "from time import sleep"
   ]
  },
  {
   "cell_type": "code",
   "execution_count": 71,
   "metadata": {},
   "outputs": [],
   "source": [
    "def fazer_contas_calculadora(num_1, num_2, operacao):\n",
    "\n",
    "    sleep(5)\n",
    "    images_location = \"../images/calculator_images\"\n",
    "    coord_x1, coord_y1 = pg.locateCenterOnScreen(f\"{images_location}/{num_1}.png\", confidence = 0.8)\n",
    "    pg.click(coord_x1, coord_y1)\n",
    "    coord_x_op, coord_y_op = pg.locateCenterOnScreen(f\"{images_location}/{operacao}.png\", confidence = 0.8)\n",
    "    pg.click(coord_x_op, coord_y_op)\n",
    "    sleep(0.5)\n",
    "    coord_x2, coord_y2 = pg.locateCenterOnScreen(f\"{images_location}/{num_2}.png\", confidence = 0.8)\n",
    "    pg.click(coord_x2, coord_y2)\n",
    "    sleep(0.5)\n",
    "    coords_equal_op = pg.locateCenterOnScreen(f\"{images_location}/igual.png\", confidence = 0.8, grayscale=True)\n",
    "    pg.click(coords_equal_op)"
   ]
  },
  {
   "cell_type": "code",
   "execution_count": 72,
   "metadata": {},
   "outputs": [],
   "source": [
    "fazer_contas_calculadora(\"num_7\", \"num_8\", 'plus_operator')"
   ]
  }
 ],
 "metadata": {
  "kernelspec": {
   "display_name": "Python 3.10.4 64-bit ('3.10.4')",
   "language": "python",
   "name": "python3"
  },
  "language_info": {
   "codemirror_mode": {
    "name": "ipython",
    "version": 3
   },
   "file_extension": ".py",
   "mimetype": "text/x-python",
   "name": "python",
   "nbconvert_exporter": "python",
   "pygments_lexer": "ipython3",
   "version": "3.10.4"
  },
  "orig_nbformat": 4,
  "vscode": {
   "interpreter": {
    "hash": "163de5daea318770affe3352762b813e687054193cdb37a7d0690e239a3629d6"
   }
  }
 },
 "nbformat": 4,
 "nbformat_minor": 2
}
