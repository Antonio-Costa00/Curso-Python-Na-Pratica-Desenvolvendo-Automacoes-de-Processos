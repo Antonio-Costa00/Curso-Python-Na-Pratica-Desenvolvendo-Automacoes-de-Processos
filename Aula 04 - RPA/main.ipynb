{
 "cells": [
  {
   "cell_type": "markdown",
   "metadata": {},
   "source": [
    "# 🚀 **Aula 04: Parte 02 - Desenvolvendo e trabalhando com bots - RPA**"
   ]
  },
  {
   "cell_type": "markdown",
   "metadata": {},
   "source": [
    "## Nesta aula iremos estar aprendendo a desenvolver e trabalhar com automações utilizando **RPA**, entendendo como desenvolver e automatizar tarefas repetitivas do dia a dia.\n",
    "---"
   ]
  },
  {
   "cell_type": "markdown",
   "metadata": {},
   "source": [
    "# **1. A Biblioteca PyAutoGUI** ⚡"
   ]
  },
  {
   "cell_type": "markdown",
   "metadata": {},
   "source": [
    "<img src=\"https://i.gifer.com/Btm.gif\" alt=\"Drawing\" style=\"width: 200px;\"/>"
   ]
  },
  {
   "cell_type": "markdown",
   "metadata": {},
   "source": [
    "### “Pyautogui pode fazer qualquer coisa que um usuário humano sentado na frente do computador pode fazer, exceto derramar café no teclado”, palavras do proprio criador da biblioteca. <br>\n",
    "### A biblioteca PyAutoGUI é uma das bibliotecas criadas para desenvolvermos bots com facilidade, com varios módulos pré prontos para agilizar o desenvolvimento de nossas automações. <br>\n",
    "### Com a ajuda dessa biblioteca, podemos criar verdadeiras soluções de  RPA com bastante facilidade e toda flexibilidade da linguagem Python, podendo realizar inumeras combinações possiveis de projetos. O céu é o limite!\n",
    "---"
   ]
  },
  {
   "cell_type": "markdown",
   "metadata": {},
   "source": [
    "# **2. Instalando bibliotecas** ⚡"
   ]
  },
  {
   "cell_type": "markdown",
   "metadata": {},
   "source": [
    "### A biblioteca PyAutoGUI faz parte de um conjunto de módulos externos, por tanto, é necessario realizar a instalação diretamente do repósitório oficial de bibliotecas Python, https://pypi.org <br>\n",
    "### Assim como o NodeJs possui o NPM e yarn para realizar a instalação de novos pacotes, Python conta com o ***pip*** para essa tarefa. <br>\n",
    "### OBS: No ambiente Jupyter as células funcionam como \"*mini terminais*\", e podemos realizar comandos de terminal diretamente pelas células, apenas colocando uma *!* no inicio da instrução."
   ]
  },
  {
   "cell_type": "code",
   "execution_count": null,
   "metadata": {},
   "outputs": [],
   "source": [
    "# Exemplo de código em Bash\n",
    "! echo \"Hello World\"\n",
    "# Verificando usuario logado\n",
    "! whoami"
   ]
  },
  {
   "cell_type": "markdown",
   "metadata": {},
   "source": [
    "### Agora vamos ao que interessa: vamos instalar o pacote PyAutoGUI em nossa maquina."
   ]
  },
  {
   "cell_type": "code",
   "execution_count": null,
   "metadata": {},
   "outputs": [],
   "source": [
    "!pip3 install pyautogui"
   ]
  },
  {
   "cell_type": "markdown",
   "metadata": {},
   "source": [
    "---"
   ]
  },
  {
   "cell_type": "markdown",
   "metadata": {},
   "source": [
    "# **3. Explorando funcionalidades da biblioteca** ⚡"
   ]
  },
  {
   "cell_type": "markdown",
   "metadata": {},
   "source": [
    "## **3.1 Importando nossa biblioteca**"
   ]
  },
  {
   "cell_type": "markdown",
   "metadata": {},
   "source": [
    "### Antes de começarmos, iremos importar as bibliotecas que iremos utilizar para nossos exemplos "
   ]
  },
  {
   "cell_type": "code",
   "execution_count": null,
   "metadata": {},
   "outputs": [],
   "source": [
    "import pyautogui as pg\n",
    "from time import sleep"
   ]
  },
  {
   "cell_type": "markdown",
   "metadata": {},
   "source": [
    "### No passo acima importamos a biblioteca *pyautogui* para nosso projeto com o nome de *pg*, ou seja, toda vez que formos utilizar algum método de nosso módulo chamaremos apenas *pg*."
   ]
  },
  {
   "cell_type": "markdown",
   "metadata": {},
   "source": [
    "### Agora que realizamos a instalação de nossa biblioteca, iremos explorar um pouco das funcionalidades na qual a biblioteca oferece."
   ]
  },
  {
   "cell_type": "markdown",
   "metadata": {},
   "source": [
    "## **3.2 Localizando coordenadas do cursor do mouse**"
   ]
  },
  {
   "cell_type": "markdown",
   "metadata": {},
   "source": [
    "### Antes de tudo, vale ressaltar como funcionamos as coordenadas em uma tela de computador"
   ]
  },
  {
   "cell_type": "markdown",
   "metadata": {},
   "source": [
    "<img src=\"../images/Coordenadas.png\" alt=\"Drawing\" style=\"width: 400px;\"/>"
   ]
  },
  {
   "cell_type": "markdown",
   "metadata": {},
   "source": [
    "### Como mostrado acima, a origem do plano cartesiano (0,0) fica no topo do canto esquerdo da tela. O ponto *P* mostrado acima é um exemplo de coordenadas."
   ]
  },
  {
   "cell_type": "markdown",
   "metadata": {},
   "source": [
    "### Agora podemos verificar como coletar esses pontos em nossa tela."
   ]
  },
  {
   "cell_type": "code",
   "execution_count": null,
   "metadata": {},
   "outputs": [],
   "source": [
    "pg.position()"
   ]
  },
  {
   "cell_type": "markdown",
   "metadata": {},
   "source": [
    "### Podemos verificar as coordenadas de forma dinamica"
   ]
  },
  {
   "cell_type": "code",
   "execution_count": 16,
   "metadata": {},
   "outputs": [
    {
     "name": "stdout",
     "output_type": "stream",
     "text": [
      "Point(x=305, y=383)\n",
      "Point(x=305, y=388)\n",
      "Point(x=305, y=388)\n",
      "Point(x=329, y=274)\n",
      "Point(x=640, y=295)\n",
      "Point(x=640, y=295)\n",
      "Point(x=846, y=547)\n",
      "Point(x=962, y=427)\n",
      "Point(x=332, y=386)\n"
     ]
    },
    {
     "ename": "KeyboardInterrupt",
     "evalue": "",
     "output_type": "error",
     "traceback": [
      "\u001b[1;31m---------------------------------------------------------------------------\u001b[0m",
      "\u001b[1;31mKeyboardInterrupt\u001b[0m                         Traceback (most recent call last)",
      "Cell \u001b[1;32mIn [16], line 3\u001b[0m\n\u001b[0;32m      1\u001b[0m \u001b[39mwhile\u001b[39;00m \u001b[39mTrue\u001b[39;00m:\n\u001b[0;32m      2\u001b[0m     \u001b[39mprint\u001b[39m(pg\u001b[39m.\u001b[39mposition())\n\u001b[1;32m----> 3\u001b[0m     sleep(\u001b[39m1\u001b[39;49m)\n",
      "\u001b[1;31mKeyboardInterrupt\u001b[0m: "
     ]
    }
   ],
   "source": [
    "while True:\n",
    "    print(pg.position())\n",
    "    sleep(1)"
   ]
  },
  {
   "cell_type": "markdown",
   "metadata": {},
   "source": [
    "### Ou simplesmente..."
   ]
  },
  {
   "cell_type": "code",
   "execution_count": null,
   "metadata": {},
   "outputs": [],
   "source": [
    "pg.displayMousePosition()"
   ]
  },
  {
   "cell_type": "markdown",
   "metadata": {},
   "source": [
    "## **3.3 Movendo o cursor do mouse**"
   ]
  },
  {
   "cell_type": "markdown",
   "metadata": {},
   "source": [
    "### Para mover o mouse para uma coordenada especifica da tela"
   ]
  },
  {
   "cell_type": "code",
   "execution_count": 12,
   "metadata": {},
   "outputs": [],
   "source": [
    "pg.moveTo(40,40, duration=3)"
   ]
  },
  {
   "cell_type": "markdown",
   "metadata": {},
   "source": [
    "### Para arrastar o mouse para uma coordenada especifica da tela"
   ]
  },
  {
   "cell_type": "code",
   "execution_count": 20,
   "metadata": {},
   "outputs": [
    {
     "ename": "FailSafeException",
     "evalue": "PyAutoGUI fail-safe triggered from mouse moving to a corner of the screen. To disable this fail-safe, set pyautogui.FAILSAFE to False. DISABLING FAIL-SAFE IS NOT RECOMMENDED.",
     "output_type": "error",
     "traceback": [
      "\u001b[1;31m---------------------------------------------------------------------------\u001b[0m",
      "\u001b[1;31mFailSafeException\u001b[0m                         Traceback (most recent call last)",
      "Cell \u001b[1;32mIn [20], line 9\u001b[0m\n\u001b[0;32m      7\u001b[0m rd_x \u001b[39m=\u001b[39m rd\u001b[39m.\u001b[39mrandint(\u001b[39m1\u001b[39m, \u001b[39m1920\u001b[39m)\n\u001b[0;32m      8\u001b[0m rd_y \u001b[39m=\u001b[39m rd\u001b[39m.\u001b[39mrandint(\u001b[39m1\u001b[39m, \u001b[39m1080\u001b[39m)\n\u001b[1;32m----> 9\u001b[0m pg\u001b[39m.\u001b[39;49mmoveTo(rd_x, rd_y, duration\u001b[39m=\u001b[39;49m\u001b[39m1\u001b[39;49m)\n",
      "File \u001b[1;32mc:\\Users\\antonio.costa\\AppData\\Local\\Programs\\Python\\Python310\\lib\\site-packages\\pyautogui\\__init__.py:598\u001b[0m, in \u001b[0;36m_genericPyAutoGUIChecks.<locals>.wrapper\u001b[1;34m(*args, **kwargs)\u001b[0m\n\u001b[0;32m    595\u001b[0m \u001b[39m@functools\u001b[39m\u001b[39m.\u001b[39mwraps(wrappedFunction)\n\u001b[0;32m    596\u001b[0m \u001b[39mdef\u001b[39;00m \u001b[39mwrapper\u001b[39m(\u001b[39m*\u001b[39margs, \u001b[39m*\u001b[39m\u001b[39m*\u001b[39mkwargs):\n\u001b[0;32m    597\u001b[0m     failSafeCheck()\n\u001b[1;32m--> 598\u001b[0m     returnVal \u001b[39m=\u001b[39m wrappedFunction(\u001b[39m*\u001b[39margs, \u001b[39m*\u001b[39m\u001b[39m*\u001b[39mkwargs)\n\u001b[0;32m    599\u001b[0m     _handlePause(kwargs\u001b[39m.\u001b[39mget(\u001b[39m\"\u001b[39m\u001b[39m_pause\u001b[39m\u001b[39m\"\u001b[39m, \u001b[39mTrue\u001b[39;00m))\n\u001b[0;32m    600\u001b[0m     \u001b[39mreturn\u001b[39;00m returnVal\n",
      "File \u001b[1;32mc:\\Users\\antonio.costa\\AppData\\Local\\Programs\\Python\\Python310\\lib\\site-packages\\pyautogui\\__init__.py:1283\u001b[0m, in \u001b[0;36mmoveTo\u001b[1;34m(x, y, duration, tween, logScreenshot, _pause)\u001b[0m\n\u001b[0;32m   1280\u001b[0m x, y \u001b[39m=\u001b[39m _normalizeXYArgs(x, y)\n\u001b[0;32m   1282\u001b[0m _logScreenshot(logScreenshot, \u001b[39m\"\u001b[39m\u001b[39mmoveTo\u001b[39m\u001b[39m\"\u001b[39m, \u001b[39m\"\u001b[39m\u001b[39m%s\u001b[39;00m\u001b[39m,\u001b[39m\u001b[39m%s\u001b[39;00m\u001b[39m\"\u001b[39m \u001b[39m%\u001b[39m (x, y), folder\u001b[39m=\u001b[39m\u001b[39m\"\u001b[39m\u001b[39m.\u001b[39m\u001b[39m\"\u001b[39m)\n\u001b[1;32m-> 1283\u001b[0m _mouseMoveDrag(\u001b[39m\"\u001b[39;49m\u001b[39mmove\u001b[39;49m\u001b[39m\"\u001b[39;49m, x, y, \u001b[39m0\u001b[39;49m, \u001b[39m0\u001b[39;49m, duration, tween)\n",
      "File \u001b[1;32mc:\\Users\\antonio.costa\\AppData\\Local\\Programs\\Python\\Python310\\lib\\site-packages\\pyautogui\\__init__.py:1499\u001b[0m, in \u001b[0;36m_mouseMoveDrag\u001b[1;34m(moveOrDrag, x, y, xOffset, yOffset, duration, tween, button)\u001b[0m\n\u001b[0;32m   1495\u001b[0m \u001b[39m# Do a fail-safe check to see if the user moved the mouse to a fail-safe position, but not if the mouse cursor\u001b[39;00m\n\u001b[0;32m   1496\u001b[0m \u001b[39m# moved there as a result of this function. (Just because tweenX and tweenY aren't in a fail-safe position\u001b[39;00m\n\u001b[0;32m   1497\u001b[0m \u001b[39m# doesn't mean the user couldn't have moved the mouse cursor to a fail-safe position.)\u001b[39;00m\n\u001b[0;32m   1498\u001b[0m \u001b[39mif\u001b[39;00m (tweenX, tweenY) \u001b[39mnot\u001b[39;00m \u001b[39min\u001b[39;00m FAILSAFE_POINTS:\n\u001b[1;32m-> 1499\u001b[0m     failSafeCheck()\n\u001b[0;32m   1501\u001b[0m \u001b[39mif\u001b[39;00m moveOrDrag \u001b[39m==\u001b[39m \u001b[39m\"\u001b[39m\u001b[39mmove\u001b[39m\u001b[39m\"\u001b[39m:\n\u001b[0;32m   1502\u001b[0m     platformModule\u001b[39m.\u001b[39m_moveTo(tweenX, tweenY)\n",
      "File \u001b[1;32mc:\\Users\\antonio.costa\\AppData\\Local\\Programs\\Python\\Python310\\lib\\site-packages\\pyautogui\\__init__.py:1722\u001b[0m, in \u001b[0;36mfailSafeCheck\u001b[1;34m()\u001b[0m\n\u001b[0;32m   1720\u001b[0m \u001b[39mdef\u001b[39;00m \u001b[39mfailSafeCheck\u001b[39m():\n\u001b[0;32m   1721\u001b[0m     \u001b[39mif\u001b[39;00m FAILSAFE \u001b[39mand\u001b[39;00m \u001b[39mtuple\u001b[39m(position()) \u001b[39min\u001b[39;00m FAILSAFE_POINTS:\n\u001b[1;32m-> 1722\u001b[0m         \u001b[39mraise\u001b[39;00m FailSafeException(\n\u001b[0;32m   1723\u001b[0m             \u001b[39m\"\u001b[39m\u001b[39mPyAutoGUI fail-safe triggered from mouse moving to a corner of the screen. To disable this fail-safe, set pyautogui.FAILSAFE to False. DISABLING FAIL-SAFE IS NOT RECOMMENDED.\u001b[39m\u001b[39m\"\u001b[39m\n\u001b[0;32m   1724\u001b[0m         )\n",
      "\u001b[1;31mFailSafeException\u001b[0m: PyAutoGUI fail-safe triggered from mouse moving to a corner of the screen. To disable this fail-safe, set pyautogui.FAILSAFE to False. DISABLING FAIL-SAFE IS NOT RECOMMENDED."
     ]
    }
   ],
   "source": [
    "import random as rd\n",
    "\n",
    "while True:\n",
    "    \n",
    "    # Mova o ponteiro da posição atual para uma posição aleatória\n",
    "    \n",
    "    rd_x = rd.randint(1, 1920)\n",
    "    rd_y = rd.randint(1, 1080)\n",
    "    pg.moveTo(rd_x, rd_y, duration=1)\n",
    "    "
   ]
  },
  {
   "cell_type": "markdown",
   "metadata": {},
   "source": [
    "## **3.4 Clicando em uma coordenada especifica da tela**"
   ]
  },
  {
   "cell_type": "markdown",
   "metadata": {},
   "source": [
    "### Podemos clicar em coordenadas especificas ta tela"
   ]
  },
  {
   "cell_type": "markdown",
   "metadata": {},
   "source": [
    "### Click simples com botao esquerdo do mouse"
   ]
  },
  {
   "cell_type": "code",
   "execution_count": 23,
   "metadata": {},
   "outputs": [],
   "source": [
    "pg.click(80,80)"
   ]
  },
  {
   "cell_type": "markdown",
   "metadata": {},
   "source": [
    "### Click duplo com botao esquerdo do mouse"
   ]
  },
  {
   "cell_type": "code",
   "execution_count": 24,
   "metadata": {},
   "outputs": [],
   "source": [
    "pg.doubleClick(80,80,interval=0.2)"
   ]
  },
  {
   "cell_type": "markdown",
   "metadata": {},
   "source": [
    "### Click com botao direito do mouse"
   ]
  },
  {
   "cell_type": "code",
   "execution_count": 25,
   "metadata": {},
   "outputs": [],
   "source": [
    "pg.rightClick(80,80)"
   ]
  },
  {
   "cell_type": "markdown",
   "metadata": {},
   "source": [
    "## **3.5 Pressionando teclas**"
   ]
  },
  {
   "cell_type": "markdown",
   "metadata": {},
   "source": [
    "### Podemos criar um bot que aperta as teclas como um humano normalmente faria."
   ]
  },
  {
   "cell_type": "markdown",
   "metadata": {},
   "source": [
    "### Para pressionar uma tecla simples"
   ]
  },
  {
   "cell_type": "code",
   "execution_count": 26,
   "metadata": {},
   "outputs": [],
   "source": [
    "pg.press(\"winleft\")"
   ]
  },
  {
   "cell_type": "markdown",
   "metadata": {},
   "source": [
    "### Para pressionar uma combinação de teclas, o método hotkey pode ser utilizado. "
   ]
  },
  {
   "cell_type": "code",
   "execution_count": 27,
   "metadata": {},
   "outputs": [],
   "source": [
    "pg.hotkey(\"ctrl\",\"s\")"
   ]
  },
  {
   "cell_type": "markdown",
   "metadata": {},
   "source": [
    "### Para verificar todas as possiveis chaves de mapeamento das teclas que podem ser digitalizadas, podemos utilizar o método abaixo."
   ]
  },
  {
   "cell_type": "code",
   "execution_count": 28,
   "metadata": {},
   "outputs": [
    {
     "data": {
      "text/plain": [
       "['\\t',\n",
       " '\\n',\n",
       " '\\r',\n",
       " ' ',\n",
       " '!',\n",
       " '\"',\n",
       " '#',\n",
       " '$',\n",
       " '%',\n",
       " '&',\n",
       " \"'\",\n",
       " '(',\n",
       " ')',\n",
       " '*',\n",
       " '+',\n",
       " ',',\n",
       " '-',\n",
       " '.',\n",
       " '/',\n",
       " '0',\n",
       " '1',\n",
       " '2',\n",
       " '3',\n",
       " '4',\n",
       " '5',\n",
       " '6',\n",
       " '7',\n",
       " '8',\n",
       " '9',\n",
       " ':',\n",
       " ';',\n",
       " '<',\n",
       " '=',\n",
       " '>',\n",
       " '?',\n",
       " '@',\n",
       " '[',\n",
       " '\\\\',\n",
       " ']',\n",
       " '^',\n",
       " '_',\n",
       " '`',\n",
       " 'a',\n",
       " 'b',\n",
       " 'c',\n",
       " 'd',\n",
       " 'e',\n",
       " 'f',\n",
       " 'g',\n",
       " 'h',\n",
       " 'i',\n",
       " 'j',\n",
       " 'k',\n",
       " 'l',\n",
       " 'm',\n",
       " 'n',\n",
       " 'o',\n",
       " 'p',\n",
       " 'q',\n",
       " 'r',\n",
       " 's',\n",
       " 't',\n",
       " 'u',\n",
       " 'v',\n",
       " 'w',\n",
       " 'x',\n",
       " 'y',\n",
       " 'z',\n",
       " '{',\n",
       " '|',\n",
       " '}',\n",
       " '~',\n",
       " 'accept',\n",
       " 'add',\n",
       " 'alt',\n",
       " 'altleft',\n",
       " 'altright',\n",
       " 'apps',\n",
       " 'backspace',\n",
       " 'browserback',\n",
       " 'browserfavorites',\n",
       " 'browserforward',\n",
       " 'browserhome',\n",
       " 'browserrefresh',\n",
       " 'browsersearch',\n",
       " 'browserstop',\n",
       " 'capslock',\n",
       " 'clear',\n",
       " 'convert',\n",
       " 'ctrl',\n",
       " 'ctrlleft',\n",
       " 'ctrlright',\n",
       " 'decimal',\n",
       " 'del',\n",
       " 'delete',\n",
       " 'divide',\n",
       " 'down',\n",
       " 'end',\n",
       " 'enter',\n",
       " 'esc',\n",
       " 'escape',\n",
       " 'execute',\n",
       " 'f1',\n",
       " 'f10',\n",
       " 'f11',\n",
       " 'f12',\n",
       " 'f13',\n",
       " 'f14',\n",
       " 'f15',\n",
       " 'f16',\n",
       " 'f17',\n",
       " 'f18',\n",
       " 'f19',\n",
       " 'f2',\n",
       " 'f20',\n",
       " 'f21',\n",
       " 'f22',\n",
       " 'f23',\n",
       " 'f24',\n",
       " 'f3',\n",
       " 'f4',\n",
       " 'f5',\n",
       " 'f6',\n",
       " 'f7',\n",
       " 'f8',\n",
       " 'f9',\n",
       " 'final',\n",
       " 'fn',\n",
       " 'hanguel',\n",
       " 'hangul',\n",
       " 'hanja',\n",
       " 'help',\n",
       " 'home',\n",
       " 'insert',\n",
       " 'junja',\n",
       " 'kana',\n",
       " 'kanji',\n",
       " 'launchapp1',\n",
       " 'launchapp2',\n",
       " 'launchmail',\n",
       " 'launchmediaselect',\n",
       " 'left',\n",
       " 'modechange',\n",
       " 'multiply',\n",
       " 'nexttrack',\n",
       " 'nonconvert',\n",
       " 'num0',\n",
       " 'num1',\n",
       " 'num2',\n",
       " 'num3',\n",
       " 'num4',\n",
       " 'num5',\n",
       " 'num6',\n",
       " 'num7',\n",
       " 'num8',\n",
       " 'num9',\n",
       " 'numlock',\n",
       " 'pagedown',\n",
       " 'pageup',\n",
       " 'pause',\n",
       " 'pgdn',\n",
       " 'pgup',\n",
       " 'playpause',\n",
       " 'prevtrack',\n",
       " 'print',\n",
       " 'printscreen',\n",
       " 'prntscrn',\n",
       " 'prtsc',\n",
       " 'prtscr',\n",
       " 'return',\n",
       " 'right',\n",
       " 'scrolllock',\n",
       " 'select',\n",
       " 'separator',\n",
       " 'shift',\n",
       " 'shiftleft',\n",
       " 'shiftright',\n",
       " 'sleep',\n",
       " 'space',\n",
       " 'stop',\n",
       " 'subtract',\n",
       " 'tab',\n",
       " 'up',\n",
       " 'volumedown',\n",
       " 'volumemute',\n",
       " 'volumeup',\n",
       " 'win',\n",
       " 'winleft',\n",
       " 'winright',\n",
       " 'yen',\n",
       " 'command',\n",
       " 'option',\n",
       " 'optionleft',\n",
       " 'optionright']"
      ]
     },
     "execution_count": 28,
     "metadata": {},
     "output_type": "execute_result"
    }
   ],
   "source": [
    "pg.KEYBOARD_KEYS"
   ]
  },
  {
   "cell_type": "markdown",
   "metadata": {},
   "source": [
    "# **4. Mini projeto 01 - automatizando o bloco de notas** ⚡"
   ]
  },
  {
   "cell_type": "markdown",
   "metadata": {},
   "source": [
    "### Antes de entrarmos com detalhes sobre como construir bots elaborados, que tal criarmos um mini bot que digita uma lista de valores dentro de nosso bloco de notas?"
   ]
  },
  {
   "cell_type": "markdown",
   "metadata": {},
   "source": [
    "### Vamos começar abrindo nosso bloco de notas"
   ]
  },
  {
   "cell_type": "code",
   "execution_count": null,
   "metadata": {},
   "outputs": [],
   "source": [
    "# Pressiona a tecla windows\n",
    "pg.press('winleft')\n",
    "# Digita o comando para abrir o bloco de notas\n",
    "pg.write('Notepad', interval = 0.1)\n",
    "pg.press('enter')"
   ]
  },
  {
   "cell_type": "markdown",
   "metadata": {},
   "source": [
    "## **4.1 Desafio**\n",
    "\n",
    "### O desafio é desenvolver uma automação simples que abre o bloco de notas, escreva palavra por palavra de uma lista, seguida de uma quebra de linha.\n",
    "### Após os passos descritos acima, o programa deve salvar o arquivo gerado com um nome personalizado. "
   ]
  },
  {
   "cell_type": "markdown",
   "metadata": {},
   "source": [
    "# **5. Trabalhando com imagens** ⚡"
   ]
  },
  {
   "cell_type": "markdown",
   "metadata": {},
   "source": [
    "<img src=\"https://i.imgur.com/njy9dVV.jpeg\" alt=\"Drawing\" style=\"width: 400px;\"/>"
   ]
  },
  {
   "cell_type": "markdown",
   "metadata": {},
   "source": [
    "### Digamos que voce esta trabalhando em um projeto que consiste em clicar em uma coordenada da tela em especifico, no entanto, seu projeto ira rodar em varias maquinas, e essas maquinas possuem diferentes resoluções em suas telas. Como proceder? "
   ]
  },
  {
   "cell_type": "markdown",
   "metadata": {},
   "source": [
    "## **5.1 Instalando o módulo Open-CV para detecção de imagens**"
   ]
  },
  {
   "cell_type": "markdown",
   "metadata": {},
   "source": [
    "### O módulo PyAutoGUI por si só ja conta com métodos capazes de identificar imagens na tela, como por exemplo o método *locateOnScreen*, que recebe como parametro a imagem na qual se deseja encontrar na tela, no entanto, esse método tambem conta com o parametro opcional *confidence*, parametro responsavel pela porcentagem de certeza que a imagem esta na tela, e apenas com o módulo OpenCV instalado é possivel utilizar este parametro."
   ]
  },
  {
   "cell_type": "code",
   "execution_count": null,
   "metadata": {},
   "outputs": [],
   "source": [
    "!pip3 install opencv-python\n",
    "!pip3 install Pillow\n",
    "!pip3 install Pillow --upgrade"
   ]
  },
  {
   "cell_type": "markdown",
   "metadata": {},
   "source": [
    "## **5.2 Identificando imagens na tela**"
   ]
  },
  {
   "cell_type": "markdown",
   "metadata": {},
   "source": [
    "### PyAutoGUI conta com métodos capazes de reconhecer imagens na tela na qual o usuario esta trabalhando, podendo clicar ou realizar um procedimento especifico após o reconhecimento da imagem na tela.\n",
    "### Vamos começar identificando as coordenadas na qual nossa calculadora se encontra "
   ]
  },
  {
   "cell_type": "code",
   "execution_count": null,
   "metadata": {},
   "outputs": [],
   "source": [
    "calculator_location = pg.locateOnScreen(\"../images/calculator_images/calculadora.png\", confidence = 0.8)\n",
    "calculator_location"
   ]
  },
  {
   "cell_type": "markdown",
   "metadata": {},
   "source": [
    "### Podemos identificar tambem as coordenadas de centro de nossa imagem com o método *locateCenterOnScreen*, que retorna uma tuple de coordenadas x, y referente a posição do elemento na tela."
   ]
  },
  {
   "cell_type": "code",
   "execution_count": null,
   "metadata": {},
   "outputs": [],
   "source": [
    "coord_x, coord_y = pg.locateCenterOnScreen(\"../images/calculator_images/calculadora.png\", confidence = 0.8)\n",
    "print(coord_x, coord_y)"
   ]
  },
  {
   "cell_type": "markdown",
   "metadata": {},
   "source": [
    "### Agora que sabemos como identificar imagens na tela, vamos realizar alguns testes em nossa calculadora.\n",
    "\n",
    "### Primeiramente iremos tirar print de algumas teclas e salvar essas imagens"
   ]
  },
  {
   "cell_type": "markdown",
   "metadata": {},
   "source": [
    "### Agora que nossas imagens estao prontas, que tal realizarmos algumas contas? "
   ]
  },
  {
   "cell_type": "markdown",
   "metadata": {},
   "source": [
    "# **6. Mini projeto 02 - Realizando contas na calculadora por detecção de imagens** ⚡"
   ]
  },
  {
   "cell_type": "markdown",
   "metadata": {},
   "source": [
    "### Para este mini projeto com as imagens tiradas no topico anterior iremos fazer contas em nossa calculadora."
   ]
  },
  {
   "cell_type": "markdown",
   "metadata": {},
   "source": [
    "### Vamos importar os módulos necessários para este projeto"
   ]
  },
  {
   "cell_type": "code",
   "execution_count": null,
   "metadata": {},
   "outputs": [],
   "source": [
    "import pyautogui as pg\n",
    "from time import sleep"
   ]
  },
  {
   "cell_type": "code",
   "execution_count": null,
   "metadata": {},
   "outputs": [],
   "source": [
    "def fazer_contas_calculadora(num_1, num_2, operacao):\n",
    "\n",
    "    sleep(5)\n",
    "    images_location = \"../images/calculator_images\"\n",
    "    coord_x1, coord_y1 = pg.locateCenterOnScreen(f\"{images_location}/{num_1}.png\", confidence = 0.8)\n",
    "    pg.click(coord_x1, coord_y1)\n",
    "    coord_x_op, coord_y_op = pg.locateCenterOnScreen(f\"{images_location}/{operacao}.png\", confidence = 0.8)\n",
    "    pg.click(coord_x_op, coord_y_op)\n",
    "    sleep(0.5)\n",
    "    coord_x2, coord_y2 = pg.locateCenterOnScreen(f\"{images_location}/{num_2}.png\", confidence = 0.8)\n",
    "    pg.click(coord_x2, coord_y2)\n",
    "    sleep(0.5)\n",
    "    coords_equal_op = pg.locateCenterOnScreen(f\"{images_location}/igual.png\", confidence = 0.8, grayscale=True)\n",
    "    pg.click(coords_equal_op)"
   ]
  },
  {
   "cell_type": "code",
   "execution_count": null,
   "metadata": {},
   "outputs": [],
   "source": [
    "fazer_contas_calculadora(\"num_7\", \"num_8\", 'plus_operator')"
   ]
  }
 ],
 "metadata": {
  "kernelspec": {
   "display_name": "Python 3.10.6 64-bit",
   "language": "python",
   "name": "python3"
  },
  "language_info": {
   "codemirror_mode": {
    "name": "ipython",
    "version": 3
   },
   "file_extension": ".py",
   "mimetype": "text/x-python",
   "name": "python",
   "nbconvert_exporter": "python",
   "pygments_lexer": "ipython3",
   "version": "3.10.6"
  },
  "orig_nbformat": 4,
  "vscode": {
   "interpreter": {
    "hash": "c9d432971bd129ee71eb1fca121b62dbd92dc54bba4e3c215bc15497eb670e9a"
   }
  }
 },
 "nbformat": 4,
 "nbformat_minor": 2
}
