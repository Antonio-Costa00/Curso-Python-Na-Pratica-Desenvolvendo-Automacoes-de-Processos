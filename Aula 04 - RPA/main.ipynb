{
 "cells": [
  {
   "cell_type": "markdown",
   "metadata": {},
   "source": [
    "# 🚀 **Aula 04: Parte 02 - Desenvolvendo e trabalhando com bots - RPA**"
   ]
  },
  {
   "cell_type": "markdown",
   "metadata": {},
   "source": [
    "## Nesta aula iremos estar aprendendo a desenvolver e trabalhar com automações utilizando **RPA**, entendendo como desenvolver e automatizar tarefas repetitivas do dia a dia.\n",
    "---"
   ]
  },
  {
   "cell_type": "markdown",
   "metadata": {},
   "source": [
    "# **1. A Biblioteca PyAutoGUI** ⚡"
   ]
  },
  {
   "cell_type": "markdown",
   "metadata": {},
   "source": [
    "<img src=\"https://i.gifer.com/Btm.gif\" alt=\"Drawing\" style=\"width: 200px;\"/>"
   ]
  },
  {
   "cell_type": "markdown",
   "metadata": {},
   "source": [
    "### “Pyautogui pode fazer qualquer coisa que um usuário humano sentado na frente do computador pode fazer, exceto derramar café no teclado”, palavras do proprio criador da biblioteca. <br>\n",
    "### A biblioteca PyAutoGUI é uma das bibliotecas criadas para desenvolvermos bots com facilidade, com varios módulos pré prontos para agilizar o desenvolvimento de nossas automações. <br>\n",
    "### Com a ajuda dessa biblioteca, podemos criar verdadeiras soluções de  RPA com bastante facilidade e toda flexibilidade da linguagem Python, podendo realizar inumeras combinações possiveis de projetos. O céu é o limite!\n",
    "---"
   ]
  },
  {
   "cell_type": "markdown",
   "metadata": {},
   "source": [
    "# **2. Instalando bibliotecas** ⚡"
   ]
  },
  {
   "cell_type": "markdown",
   "metadata": {},
   "source": [
    "### A biblioteca PyAutoGUI faz parte de um conjunto de módulos externos, por tanto, é necessario realizar a instalação diretamente do repósitório oficial de bibliotecas Python, https://pypi.org <br>\n",
    "### Assim como o NodeJs possui o NPM e yarn para realizar a instalação de novos pacotes, Python conta com o ***pip*** para essa tarefa. <br>\n",
    "### OBS: No ambiente Jupyter as células funcionam como \"*mini terminais*\", e podemos realizar comandos de terminal diretamente pelas células, apenas colocando uma *!* no inicio da instrução."
   ]
  },
  {
   "cell_type": "code",
   "execution_count": null,
   "metadata": {},
   "outputs": [],
   "source": [
    "# Exemplo de código em Bash\n",
    "! echo \"Hello World\"\n",
    "# Verificando usuario logado\n",
    "! whoami"
   ]
  },
  {
   "cell_type": "markdown",
   "metadata": {},
   "source": [
    "### Agora vamos ao que interessa: vamos instalar o pacote PyAutoGUI em nossa maquina."
   ]
  },
  {
   "cell_type": "code",
   "execution_count": null,
   "metadata": {},
   "outputs": [],
   "source": [
    "!python -m pip install --upgrade pip\n",
    "!pip3 install pyautogui"
   ]
  },
  {
   "cell_type": "markdown",
   "metadata": {},
   "source": [
    "---"
   ]
  },
  {
   "cell_type": "markdown",
   "metadata": {},
   "source": [
    "# **3. Explorando funcionalidades da biblioteca** ⚡"
   ]
  },
  {
   "cell_type": "markdown",
   "metadata": {},
   "source": [
    "## **3.1 Importando nossa biblioteca**"
   ]
  },
  {
   "cell_type": "markdown",
   "metadata": {},
   "source": [
    "### Antes de começarmos, iremos importar as bibliotecas que iremos utilizar para nossos exemplos "
   ]
  },
  {
   "cell_type": "code",
   "execution_count": null,
   "metadata": {},
   "outputs": [],
   "source": [
    "import pyautogui as pg\n",
    "from time import sleep"
   ]
  },
  {
   "cell_type": "markdown",
   "metadata": {},
   "source": [
    "### No passo acima importamos a biblioteca *pyautogui* para nosso projeto com o nome de *pg*, ou seja, toda vez que formos utilizar algum método de nosso módulo chamaremos apenas *pg*."
   ]
  },
  {
   "cell_type": "markdown",
   "metadata": {},
   "source": [
    "### Agora que realizamos a instalação de nossa biblioteca, iremos explorar um pouco das funcionalidades na qual a biblioteca oferece."
   ]
  },
  {
   "cell_type": "markdown",
   "metadata": {},
   "source": [
    "## **3.2 Localizando coordenadas do cursor do mouse**"
   ]
  },
  {
   "cell_type": "markdown",
   "metadata": {},
   "source": [
    "### Antes de tudo, vale ressaltar como funcionamos as coordenadas em uma tela de computador"
   ]
  },
  {
   "cell_type": "markdown",
   "metadata": {},
   "source": [
    "<img src=\"../images/Coordenadas.png\" alt=\"Drawing\" style=\"width: 400px;\"/>"
   ]
  },
  {
   "cell_type": "markdown",
   "metadata": {},
   "source": [
    "### Como mostrado acima, a origem do plano cartesiano (0,0) fica no topo do canto esquerdo da tela. O ponto *P* mostrado acima é um exemplo de coordenadas."
   ]
  },
  {
   "cell_type": "markdown",
   "metadata": {},
   "source": [
    "### Agora podemos verificar como coletar esses pontos em nossa tela."
   ]
  },
  {
   "cell_type": "code",
   "execution_count": null,
   "metadata": {},
   "outputs": [],
   "source": [
    "pg.position()"
   ]
  },
  {
   "cell_type": "markdown",
   "metadata": {},
   "source": [
    "### Podemos verificar as coordenadas de forma dinamica"
   ]
  },
  {
   "cell_type": "code",
   "execution_count": null,
   "metadata": {},
   "outputs": [],
   "source": [
    "while True:\n",
    "    print(pg.position())\n",
    "    sleep(1)"
   ]
  },
  {
   "cell_type": "markdown",
   "metadata": {},
   "source": [
    "### Ou simplesmente..."
   ]
  },
  {
   "cell_type": "code",
   "execution_count": null,
   "metadata": {},
   "outputs": [],
   "source": [
    "pg.displayMousePosition()"
   ]
  },
  {
   "cell_type": "markdown",
   "metadata": {},
   "source": [
    "## **3.3 Movendo o cursor do mouse**"
   ]
  },
  {
   "cell_type": "markdown",
   "metadata": {},
   "source": [
    "### Para mover o mouse para uma coordenada especifica da tela"
   ]
  },
  {
   "cell_type": "code",
   "execution_count": null,
   "metadata": {},
   "outputs": [],
   "source": [
    "pg.moveTo(40,40, duration=3)"
   ]
  },
  {
   "cell_type": "markdown",
   "metadata": {},
   "source": [
    "### Para arrastar o mouse para uma coordenada especifica da tela"
   ]
  },
  {
   "cell_type": "code",
   "execution_count": null,
   "metadata": {},
   "outputs": [],
   "source": [
    "import random as rd\n",
    "\n",
    "while True:\n",
    "    \n",
    "    # Mova o ponteiro da posição atual para uma posição aleatória\n",
    "    \n",
    "    rd_x = rd.randint(1, 1920)\n",
    "    rd_y = rd.randint(1, 1080)\n",
    "    pg.moveTo(rd_x, rd_y, duration=1)\n",
    "    "
   ]
  },
  {
   "cell_type": "markdown",
   "metadata": {},
   "source": [
    "## **3.4 Clicando em uma coordenada especifica da tela**"
   ]
  },
  {
   "cell_type": "markdown",
   "metadata": {},
   "source": [
    "### Podemos clicar em coordenadas especificas ta tela"
   ]
  },
  {
   "cell_type": "markdown",
   "metadata": {},
   "source": [
    "### Click simples com botao esquerdo do mouse"
   ]
  },
  {
   "cell_type": "code",
   "execution_count": null,
   "metadata": {},
   "outputs": [],
   "source": [
    "pg.click(80,80)"
   ]
  },
  {
   "cell_type": "markdown",
   "metadata": {},
   "source": [
    "### Click duplo com botao esquerdo do mouse"
   ]
  },
  {
   "cell_type": "code",
   "execution_count": null,
   "metadata": {},
   "outputs": [],
   "source": [
    "pg.doubleClick(80,80,interval=0.2)"
   ]
  },
  {
   "cell_type": "markdown",
   "metadata": {},
   "source": [
    "### Click com botao direito do mouse"
   ]
  },
  {
   "cell_type": "code",
   "execution_count": null,
   "metadata": {},
   "outputs": [],
   "source": [
    "pg.rightClick(80,80)"
   ]
  },
  {
   "cell_type": "markdown",
   "metadata": {},
   "source": [
    "## **3.5 Pressionando teclas**"
   ]
  },
  {
   "cell_type": "markdown",
   "metadata": {},
   "source": [
    "### Podemos criar um bot que aperta as teclas como um humano normalmente faria."
   ]
  },
  {
   "cell_type": "markdown",
   "metadata": {},
   "source": [
    "### Para pressionar uma tecla simples"
   ]
  },
  {
   "cell_type": "code",
   "execution_count": null,
   "metadata": {},
   "outputs": [],
   "source": [
    "pg.press(\"winleft\")"
   ]
  },
  {
   "cell_type": "markdown",
   "metadata": {},
   "source": [
    "### Para pressionar uma combinação de teclas, o método hotkey pode ser utilizado. "
   ]
  },
  {
   "cell_type": "code",
   "execution_count": null,
   "metadata": {},
   "outputs": [],
   "source": [
    "pg.hotkey(\"ctrl\",\"s\")"
   ]
  },
  {
   "cell_type": "markdown",
   "metadata": {},
   "source": [
    "### Para verificar todas as possiveis chaves de mapeamento das teclas que podem ser digitalizadas, podemos utilizar o método abaixo."
   ]
  },
  {
   "cell_type": "code",
   "execution_count": null,
   "metadata": {},
   "outputs": [],
   "source": [
    "pg.KEYBOARD_KEYS"
   ]
  },
  {
   "cell_type": "markdown",
   "metadata": {},
   "source": [
    "# **4. Mini projeto 01 - automatizando o bloco de notas** ⚡"
   ]
  },
  {
   "cell_type": "markdown",
   "metadata": {},
   "source": [
    "### Antes de entrarmos com detalhes sobre como construir bots elaborados, que tal criarmos um mini bot que digita uma lista de valores dentro de nosso bloco de notas?"
   ]
  },
  {
   "cell_type": "markdown",
   "metadata": {},
   "source": [
    "### Vamos começar abrindo nosso bloco de notas"
   ]
  },
  {
   "cell_type": "code",
   "execution_count": null,
   "metadata": {},
   "outputs": [],
   "source": [
    "# Pressiona a tecla windows\n",
    "pg.press('winleft')\n",
    "# Digita o comando para abrir o bloco de notas\n",
    "pg.write('Notepad', interval = 0.1)\n",
    "pg.press('enter')"
   ]
  },
  {
   "cell_type": "markdown",
   "metadata": {},
   "source": [
    "## **4.1 Desafio**\n",
    "\n",
    "### O desafio é desenvolver uma automação simples que abre o bloco de notas, escreva palavra por palavra de uma lista, seguida de uma quebra de linha.\n",
    "### Após os passos descritos acima, o programa deve salvar o arquivo gerado com um nome personalizado. "
   ]
  },
  {
   "cell_type": "markdown",
   "metadata": {},
   "source": [
    "# **5. Trabalhando com imagens** ⚡"
   ]
  },
  {
   "cell_type": "markdown",
   "metadata": {},
   "source": [
    "<img src=\"https://i.imgur.com/njy9dVV.jpeg\" alt=\"Drawing\" style=\"width: 400px;\"/>"
   ]
  },
  {
   "cell_type": "markdown",
   "metadata": {},
   "source": [
    "### Digamos que voce esta trabalhando em um projeto que consiste em clicar em uma coordenada da tela em especifico, no entanto, seu projeto ira rodar em varias maquinas, e essas maquinas possuem diferentes resoluções em suas telas. Como proceder? "
   ]
  },
  {
   "cell_type": "markdown",
   "metadata": {},
   "source": [
    "## **5.1 Instalando o módulo Open-CV para detecção de imagens**"
   ]
  },
  {
   "cell_type": "markdown",
   "metadata": {},
   "source": [
    "### O módulo PyAutoGUI por si só ja conta com métodos capazes de identificar imagens na tela, como por exemplo o método *locateOnScreen*, que recebe como parametro a imagem na qual se deseja encontrar na tela, no entanto, esse método tambem conta com o parametro opcional *confidence*, parametro responsavel pela porcentagem de certeza que a imagem esta na tela, e apenas com o módulo OpenCV instalado é possivel utilizar este parametro."
   ]
  },
  {
   "cell_type": "code",
   "execution_count": null,
   "metadata": {},
   "outputs": [],
   "source": [
    "!pip3 install opencv-python\n",
    "!pip3 install Pillow\n",
    "!pip3 install Pillow --upgrade"
   ]
  },
  {
   "cell_type": "markdown",
   "metadata": {},
   "source": [
    "## **5.2 Identificando imagens na tela**"
   ]
  },
  {
   "cell_type": "markdown",
   "metadata": {},
   "source": [
    "### PyAutoGUI conta com métodos capazes de reconhecer imagens na tela na qual o usuario esta trabalhando, podendo clicar ou realizar um procedimento especifico após o reconhecimento da imagem na tela.\n",
    "### Vamos começar identificando as coordenadas na qual nossa calculadora se encontra "
   ]
  },
  {
   "cell_type": "code",
   "execution_count": null,
   "metadata": {},
   "outputs": [],
   "source": [
    "sleep(3)\n",
    "calculator_location = pg.locateOnScreen(\"./calculator_images/calculadora.png\", confidence = 0.8)\n",
    "calculator_location"
   ]
  },
  {
   "cell_type": "markdown",
   "metadata": {},
   "source": [
    "### Podemos identificar tambem as coordenadas de centro de nossa imagem com o método *locateCenterOnScreen*, que retorna uma tuple de coordenadas x, y referente a posição do elemento na tela."
   ]
  },
  {
   "cell_type": "code",
   "execution_count": null,
   "metadata": {},
   "outputs": [],
   "source": [
    "sleep(3)\n",
    "coord_x, coord_y = pg.locateCenterOnScreen(\"./calculator_images/calculadora.png\", confidence = 0.8)\n",
    "print(coord_x, coord_y)"
   ]
  },
  {
   "cell_type": "markdown",
   "metadata": {},
   "source": [
    "### Agora que sabemos como identificar imagens na tela, vamos realizar alguns testes em nossa calculadora.\n",
    "\n",
    "### Primeiramente iremos tirar print de algumas teclas e salvar essas imagens"
   ]
  },
  {
   "cell_type": "markdown",
   "metadata": {},
   "source": [
    "### Agora que nossas imagens estao prontas, que tal realizarmos algumas contas? "
   ]
  },
  {
   "cell_type": "markdown",
   "metadata": {},
   "source": [
    "# **6. Mini projeto 02 - Realizando contas na calculadora por detecção de imagens** ⚡"
   ]
  },
  {
   "cell_type": "markdown",
   "metadata": {},
   "source": [
    "### Para este mini projeto com as imagens tiradas no topico anterior iremos fazer contas em nossa calculadora."
   ]
  },
  {
   "cell_type": "markdown",
   "metadata": {},
   "source": [
    "### Vamos importar os módulos necessários para este projeto"
   ]
  },
  {
   "cell_type": "code",
   "execution_count": null,
   "metadata": {},
   "outputs": [],
   "source": [
    "import pyautogui as pg\n",
    "from time import sleep"
   ]
  }
 ],
 "metadata": {
  "kernelspec": {
   "display_name": "Python 3.10.6 64-bit",
   "language": "python",
   "name": "python3"
  },
  "language_info": {
   "codemirror_mode": {
    "name": "ipython",
    "version": 3
   },
   "file_extension": ".py",
   "mimetype": "text/x-python",
   "name": "python",
   "nbconvert_exporter": "python",
   "pygments_lexer": "ipython3",
   "version": "3.10.6"
  },
  "orig_nbformat": 4,
  "vscode": {
   "interpreter": {
    "hash": "c9d432971bd129ee71eb1fca121b62dbd92dc54bba4e3c215bc15497eb670e9a"
   }
  }
 },
 "nbformat": 4,
 "nbformat_minor": 2
}
