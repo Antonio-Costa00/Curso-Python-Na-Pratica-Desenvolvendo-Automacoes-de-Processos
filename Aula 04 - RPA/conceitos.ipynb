{
 "cells": [
  {
   "cell_type": "markdown",
   "metadata": {},
   "source": [
    "# 🚀 **Aula 04: Parte 01 - Conceitos sobre RPA - Robotic Process Automation**"
   ]
  },
  {
   "cell_type": "markdown",
   "metadata": {},
   "source": [
    "## Nesta aula iremos estar aprendendo sobre os conceitos por traz do procedimento de **RPA**\n",
    "---"
   ]
  },
  {
   "cell_type": "markdown",
   "metadata": {},
   "source": [
    "# **1. O que é RPA?**  ⚡"
   ]
  },
  {
   "cell_type": "markdown",
   "metadata": {},
   "source": [
    "<img src=\"../images/not_a_robot.png\" alt=\"Drawing\" style=\"width: 600px;\"/>"
   ]
  },
  {
   "cell_type": "markdown",
   "metadata": {},
   "source": [
    "### Traduzido do ingles, automação de processos robóticos -> RPA, ou Robotic Process Automation, é uma aplicação tecnológica de automação de processos que utiliza softwares “robôs”. <br>\n",
    "### Sua finalidade é substituir tarefas muito repetitivas, de baixa importância ou operacionais do dia a dia ou até mesmo de uma empresa.<br>\n",
    "### O RPA “imita” a atuação de um ser humano executando atividades em um computador.<br>\n",
    "---"
   ]
  },
  {
   "cell_type": "markdown",
   "metadata": {},
   "source": [
    "# **2. O que é GUI?**  ⚡"
   ]
  },
  {
   "cell_type": "markdown",
   "metadata": {},
   "source": [
    "<img src=\"../images/interface.jpg\" alt=\"Drawing\" style=\"width: 400px;\"/>"
   ]
  },
  {
   "cell_type": "markdown",
   "metadata": {},
   "source": [
    "### GUI - Graphical user interface (Interface gráfica do utilizador) <br> \n",
    "### Em computação, interface gráfica do utilizador ou usuário é um tipo de interface do utilizador que permite a interação com dispositivos digitais por meio de elementos gráficos como ícones e outros indicadores visuais, em contraste a interface de linha.\n",
    "----"
   ]
  },
  {
   "cell_type": "markdown",
   "metadata": {},
   "source": [
    "# **3. Usos e vantagens do software de RPA** ⚡"
   ]
  },
  {
   "cell_type": "markdown",
   "metadata": {},
   "source": [
    "<img src=\"http://sounddesignlive.com/wp-content/uploads/2013/08/sound-design-live-automate_all_the_things.jpeg\" alt=\"Drawing\" style=\"width: 400px;\"/>"
   ]
  },
  {
   "cell_type": "markdown",
   "metadata": {},
   "source": [
    "### A expressão \"automação robótica de processos\" pode dar a sensação de que estamos falando de algo como a mecanização do trabalho em uma fábrica, mas ela trata do uso de robôs digitais (bots).<br>\n",
    "### A RPA automatiza tarefas repetitivas que antes exigiriam ações humanas, incluindo trabalhos simples, como inserir entradas em um formulário, e mais complexos, como atendimento a clientes e solução de problemas.<br>\n",
    "### Um caso de uso comum da RPA é automatizar interações de transferência de dados entre aplicações em silos. \n",
    "### O robô trabalha na mesma interface de usuário que as pessoas e simula ações, como clicar, copiar e colar.\n",
    "---"
   ]
  },
  {
   "cell_type": "markdown",
   "metadata": {},
   "source": [
    "# **4. Mão na massa!** ⚡"
   ]
  },
  {
   "cell_type": "markdown",
   "metadata": {},
   "source": [
    "<img src=\"../images/mao-na-massa.jpg\" alt=\"Drawing\" style=\"width: 400px;\"/>"
   ]
  },
  {
   "cell_type": "markdown",
   "metadata": {},
   "source": [
    "# **Referências** "
   ]
  },
  {
   "cell_type": "markdown",
   "metadata": {},
   "source": [
    "## [O que é automação robótica de processos (RPA)?](https://www.redhat.com/pt-br/topics/automation/what-is-robotic-process-automation)"
   ]
  },
  {
   "cell_type": "markdown",
   "metadata": {},
   "source": [
    "---"
   ]
  }
 ],
 "metadata": {
  "kernelspec": {
   "display_name": "Python 3.10.8 64-bit",
   "language": "python",
   "name": "python3"
  },
  "language_info": {
   "codemirror_mode": {
    "name": "ipython",
    "version": 3
   },
   "file_extension": ".py",
   "mimetype": "text/x-python",
   "name": "python",
   "nbconvert_exporter": "python",
   "pygments_lexer": "ipython3",
   "version": "3.10.8"
  },
  "orig_nbformat": 4,
  "vscode": {
   "interpreter": {
    "hash": "e7370f93d1d0cde622a1f8e1c04877d8463912d04d973331ad4851f04de6915a"
   }
  }
 },
 "nbformat": 4,
 "nbformat_minor": 2
}
