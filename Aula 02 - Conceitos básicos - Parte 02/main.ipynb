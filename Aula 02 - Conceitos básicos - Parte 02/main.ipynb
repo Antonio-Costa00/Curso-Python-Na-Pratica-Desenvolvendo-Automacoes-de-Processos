{
 "cells": [
  {
   "cell_type": "markdown",
   "metadata": {},
   "source": [
    "# 🚀 **Aula 02 - Conceitos básicos - Parte 02**"
   ]
  },
  {
   "cell_type": "markdown",
   "metadata": {},
   "source": [
    "## Continuação - Nesta aula iremos estar aprendendo o básico de Python, como **Estruturas de Repetição, Funções e Import de Funções**"
   ]
  },
  {
   "cell_type": "markdown",
   "metadata": {},
   "source": [
    "***"
   ]
  },
  {
   "cell_type": "markdown",
   "metadata": {},
   "source": [
    "# **1. Estruturas de Repetição** ⚡"
   ]
  },
  {
   "cell_type": "markdown",
   "metadata": {},
   "source": [
    "<img src=\"../images/taxa_de_cambio.jpeg\" alt=\"Drawing\" style=\"width: 400px;\"/> "
   ]
  },
  {
   "cell_type": "markdown",
   "metadata": {},
   "source": [
    "### Iterar é a ação de repetir algo. <br> \n",
    "### Na programação, iteração significa a repetição de um conjunto de instruções por uma quantidade finita de vezes ou então, enquanto uma condição seja aceita. <br>\n",
    "### Ao desenvolvermos uma aplicação é comum haver a necessidade de executarmos uma mesma instrução por várias vezes. <br><br> Na linguagem python temos duas estruturas de repeticao, que são elas: <br>\n",
    "- ### <font color='red'> **for:** </font> O laço **for** geralmente é utilizado quando <font color='red'> **se sabe o número de iterações** </font> de antemão.\n",
    "- ### <font color='red'> **while:** </font> O laço **while** geralmente é utilizado quando <font color='red'> **se tem uma idéia** </font> sobre a faixa de valores em que se deseja realizar a iteração mas não se sabe ao certo o número exato de iterações que ocorrem."
   ]
  },
  {
   "cell_type": "markdown",
   "metadata": {},
   "source": [
    "## **1.1 estrutura de repetição: for**"
   ]
  },
  {
   "cell_type": "markdown",
   "metadata": {},
   "source": [
    "### A estrutura de repetição <font color='red'> **for** </font> permite executar um bloco de códigos repetidas vezes até uma determinada condicao de parada. <br> \n",
    "### Na linguagem Python, ela é utilizada para percorrer elementos em sequência, como uma string, uma lista, uma tupla ou objetos iteráveis."
   ]
  },
  {
   "cell_type": "markdown",
   "metadata": {},
   "source": [
    "### Iterando valores dentro de um intervalo"
   ]
  },
  {
   "cell_type": "code",
   "execution_count": null,
   "metadata": {},
   "outputs": [],
   "source": [
    "estados = [\"SP\", \"RJ\", \"MG\", \"MS\", \"RN\"]\n",
    "# comeca em 0, 1, 2 e nao atinge o 3 \n",
    "for i in range(3):\n",
    "    print(i, estados[i])"
   ]
  },
  {
   "cell_type": "markdown",
   "metadata": {},
   "source": [
    "### Percorrendo uma lista"
   ]
  },
  {
   "cell_type": "markdown",
   "metadata": {},
   "source": [
    "### Neste exemplo, foi utiliado uma lista simples"
   ]
  },
  {
   "cell_type": "code",
   "execution_count": null,
   "metadata": {},
   "outputs": [],
   "source": [
    "frutas = ['Abacaxi', 'Morango', 'Uva']\n",
    "for fruta in frutas:\n",
    "    print(fruta)"
   ]
  },
  {
   "cell_type": "markdown",
   "metadata": {},
   "source": [
    "### Percorrendo uma tupla"
   ]
  },
  {
   "cell_type": "code",
   "execution_count": null,
   "metadata": {},
   "outputs": [],
   "source": [
    "veiculos = ('moto', 'carro', 'onibus', 'lancha')\n",
    "for veiculo in veiculos:\n",
    "    print(veiculo)"
   ]
  },
  {
   "cell_type": "markdown",
   "metadata": {},
   "source": [
    "### Percorrendo um dicionário"
   ]
  },
  {
   "cell_type": "code",
   "execution_count": null,
   "metadata": {},
   "outputs": [],
   "source": [
    "contatos = {\n",
    "    'Mateus': '1234-5678', \n",
    "    'Lucas': '9999-9999',\n",
    "    'Ana': '8765-4321', \n",
    "    'João': '8887-7778'\n",
    "}\n",
    "\n",
    "for chave, valor in contatos.items():\n",
    "    print(f\"{chave}: {valor}\")"
   ]
  },
  {
   "cell_type": "markdown",
   "metadata": {},
   "source": [
    "### Percorrendo uma string"
   ]
  },
  {
   "cell_type": "code",
   "execution_count": null,
   "metadata": {},
   "outputs": [],
   "source": [
    "palavra = \"tecnologia\"\n",
    "for letra in palavra:\n",
    "    print(letra)"
   ]
  },
  {
   "cell_type": "markdown",
   "metadata": {},
   "source": [
    "### Para parar um loop antes da hora podemos utilizar a instrucao <font color=\"red\"> **break** </font>"
   ]
  },
  {
   "cell_type": "code",
   "execution_count": null,
   "metadata": {},
   "outputs": [],
   "source": [
    "numeros = [3,5,6,7,1,100,1000,10000]\n",
    "for numero in numeros:\n",
    "    if numero >= 3:\n",
    "        print(numero)\n",
    "    else:\n",
    "        break"
   ]
  },
  {
   "cell_type": "markdown",
   "metadata": {},
   "source": [
    "### Para pular uma iteracao podemos utilizar a instrucao <font color = 'red'> **continue** </font>"
   ]
  },
  {
   "cell_type": "markdown",
   "metadata": {},
   "source": [
    "### Considere a situação em que você precisa escrever um programa que imprime o número de 1 a 10 mas não 6. <br>\n",
    "### É especificado que você deve fazer isso realizando uma iteracao sobre o objeto e apenas um loop pode ser usado. Aí vem o uso da instrução continue. <br> \n",
    "### O que podemos fazer aqui é executar um loop de 1 a 10 e sempre que temos que comparar o valor do iterador com 6. Se for igual a 6 usaremos a instrução **continue** para continuar para a próxima iteração sem imprimir qualquer coisa, caso contrário, imprimiremos o valor."
   ]
  },
  {
   "cell_type": "code",
   "execution_count": null,
   "metadata": {},
   "outputs": [],
   "source": [
    "for idx in range(1, 11):\n",
    "    if idx == 6:\n",
    "        continue\n",
    "    print(idx, end=\" \")"
   ]
  },
  {
   "cell_type": "markdown",
   "metadata": {},
   "source": [
    "## **1.2 Estruturas de repeticao: while**"
   ]
  },
  {
   "cell_type": "markdown",
   "metadata": {},
   "source": [
    "### A estrutura de repeticao while faz com que um conjunto de instruções seja executado enquanto uma condição é atendida. <br> \n",
    "### Quando o resultado dessa condição passa a ser falso, a execução do loop é interrompida"
   ]
  },
  {
   "cell_type": "code",
   "execution_count": null,
   "metadata": {},
   "outputs": [],
   "source": [
    "contador = 0\n",
    "while (contador < 5):\n",
    "       print(contador)\n",
    "       contador = contador + 1"
   ]
  },
  {
   "cell_type": "markdown",
   "metadata": {},
   "source": [
    "### imprimindo todas as letras da string, exceto *m* e *p*"
   ]
  },
  {
   "cell_type": "code",
   "execution_count": null,
   "metadata": {},
   "outputs": [],
   "source": [
    "palavra = 'computador'\n",
    "\n",
    "for letra in palavra:\n",
    "    if letra in ['m', 'p']:\n",
    "        continue\n",
    "    print('Letra atual :', letra)"
   ]
  },
  {
   "cell_type": "markdown",
   "metadata": {},
   "source": [
    "### Mesmo exemplo com break"
   ]
  },
  {
   "cell_type": "code",
   "execution_count": null,
   "metadata": {},
   "outputs": [],
   "source": [
    "palavra = 'computador'\n",
    "\n",
    "for letra in palavra:\n",
    "    if letra in ['m', 'p']:\n",
    "        break\n",
    "    print('Letra atual :', letra)"
   ]
  },
  {
   "cell_type": "markdown",
   "metadata": {},
   "source": [
    "### loops infinitos"
   ]
  },
  {
   "cell_type": "code",
   "execution_count": null,
   "metadata": {},
   "outputs": [],
   "source": [
    "import time\n",
    "valor = True\n",
    "while valor == True:\n",
    "    print(\"Voce não pode me parar! 😅\")\n",
    "    time.sleep(0.5)"
   ]
  },
  {
   "cell_type": "markdown",
   "metadata": {},
   "source": [
    "### O loop é infinito pois a variavel *valor* sempre sera True\n",
    "### Para quebrar o loop poderiamos trocar o valor da variavel **valor** para False"
   ]
  },
  {
   "cell_type": "code",
   "execution_count": null,
   "metadata": {},
   "outputs": [],
   "source": [
    "valor = True\n",
    "while valor == True:\n",
    "    print(\"Voce não pode me parar! 😅\")\n",
    "    valor = False\n",
    "print(\"Voce me parou 😒\")"
   ]
  },
  {
   "cell_type": "markdown",
   "metadata": {},
   "source": [
    "## **1.3 list comprehensions (compreensão de listas)**"
   ]
  },
  {
   "cell_type": "markdown",
   "metadata": {},
   "source": [
    "### Assim como para estruturas condicionais temos a Expressão condicional para realizar comparacoes em uma linha temos tambem o que é chamado de <font color='red'> **compreensão de listas** </font>, para construirmos listas com apenas uma linha."
   ]
  },
  {
   "cell_type": "markdown",
   "metadata": {},
   "source": [
    "### Exemplo: <br>\n",
    "### Dado o seguinte código, que transforma os itens da lista em maiúsculos:"
   ]
  },
  {
   "cell_type": "code",
   "execution_count": null,
   "metadata": {},
   "outputs": [],
   "source": [
    "lista_palavras = ['batata', 'mouse', 'celular' ,'unipinhal', 'treinamento']\n",
    "palavras_maiusculo = []\n",
    "\n",
    "for palavra in lista_palavras:\n",
    "  palavras_maiusculo.append(palavra.upper())\n",
    "print(palavras_maiusculo)"
   ]
  },
  {
   "cell_type": "markdown",
   "metadata": {},
   "source": [
    "### Pode ser executado da mesma forma utilizando list comprehensions:"
   ]
  },
  {
   "cell_type": "code",
   "execution_count": null,
   "metadata": {},
   "outputs": [],
   "source": [
    "lista_palavras = ['batata', 'mouse', 'celular' ,'unipinhal', 'treinamento']\n",
    "palavras_maiusculo = [palavra.upper() for palavra in lista_palavras]\n",
    "\n",
    "print(palavras_maiusculo)"
   ]
  },
  {
   "cell_type": "markdown",
   "metadata": {},
   "source": [
    "### Podemos incluir condicoes em nossos programas\n",
    "### Suponhamos que tenhamos uma lista de marcas de telefone e desejamos construir uma nova lista apenas com as marcas que possuem mais de 6 letras"
   ]
  },
  {
   "cell_type": "code",
   "execution_count": null,
   "metadata": {},
   "outputs": [],
   "source": [
    "marcas = ['Samsung', 'Apple', 'Xiaomi', 'Huawei', 'Motorola']\n",
    "nomes_extensos = [marca for marca in marcas if len(marca) > 6]\n",
    "\n",
    "print(nomes_extensos)"
   ]
  },
  {
   "cell_type": "markdown",
   "metadata": {},
   "source": [
    "### Retornando lista de numeros pares no intervalo de 0 a 50"
   ]
  },
  {
   "cell_type": "code",
   "execution_count": null,
   "metadata": {},
   "outputs": [],
   "source": [
    "[numero for numero in range(51) if numero % 2 == 0]"
   ]
  },
  {
   "cell_type": "markdown",
   "metadata": {},
   "source": [
    "## **1.4 Single statement while block (Declaração única while em um bloco)**"
   ]
  },
  {
   "cell_type": "markdown",
   "metadata": {},
   "source": [
    "### Da mesma forma que temos uma forma de realizar as iteracoes usando a estrutura for temos tambem uma maneira de fazer o mesmo com a estrutura de repeticao while"
   ]
  },
  {
   "cell_type": "code",
   "execution_count": null,
   "metadata": {},
   "outputs": [],
   "source": [
    "contagem = 0\n",
    "while (contagem < 6): contagem += 1; print(\"while em uma linha\")"
   ]
  },
  {
   "cell_type": "markdown",
   "metadata": {},
   "source": [
    "---"
   ]
  },
  {
   "cell_type": "markdown",
   "metadata": {},
   "source": [
    "# **2. Funções**  ⚡"
   ]
  },
  {
   "cell_type": "markdown",
   "metadata": {},
   "source": [
    "<img src=\"../images/funcao.jpg\" alt=\"Drawing\" style=\"width: 400px;\"/>"
   ]
  },
  {
   "cell_type": "markdown",
   "metadata": {},
   "source": [
    "### Na programação, funções são blocos de código que realizam determinadas tarefas que normalmente precisam ser executadas diversas vezes dentro de uma aplicação. <br> \n",
    "### Quando surge essa necessidade, para que várias instruções não precisem ser repetidas, elas são agrupadas em uma função, à qual é dado um nome e que poderá ser chamada/executada em diferentes partes do programa."
   ]
  },
  {
   "cell_type": "markdown",
   "metadata": {},
   "source": [
    "## **2.1 Criando funções**"
   ]
  },
  {
   "cell_type": "markdown",
   "metadata": {},
   "source": [
    "### A sintaxe de uma função é definida por três partes: \n",
    " - ### <font color='red'> **nome, parâmetros (opcionais) e corpo** </font>, o qual agrupa uma sequência de linhas que representa algum comportamento."
   ]
  },
  {
   "cell_type": "markdown",
   "metadata": {},
   "source": [
    "### Exemplo:"
   ]
  },
  {
   "cell_type": "code",
   "execution_count": null,
   "metadata": {},
   "outputs": [],
   "source": [
    "def nome_pessoa(nome):\n",
    "    print(\"Meu nome é:\", nome)"
   ]
  },
  {
   "cell_type": "markdown",
   "metadata": {},
   "source": [
    "### Para executar a função, de forma semelhante ao que ocorre em outras linguagens, devemos simplesmente chamar seu nome e passar os parâmetros esperados entre parênteses, conforme o código a seguir."
   ]
  },
  {
   "cell_type": "code",
   "execution_count": null,
   "metadata": {},
   "outputs": [],
   "source": [
    "nome_pessoa(\"Leticia\")"
   ]
  },
  {
   "cell_type": "markdown",
   "metadata": {},
   "source": [
    "- ### A função de nome **nome_pessoa**, tem como objetivo imprimir o nome que lhe é passado por <font color='red'> **parâmetro** </font> (também - chamado de <font color='red'> **argumento** </font>). <br>\n",
    "- ### A palavra reservada <font color='red'> **def,** </font> na primeira linha, explicita a definição da função naquele ponto. <br>\n",
    "- ### Em seguida, entre parênteses, temos o <font color='red'> **parâmetro nome** </font>. <br>\n",
    "- ### Ainda na mesma linha, observe a utilização dos dois pontos (:), que indicam que o código identado nas linhas abaixo faz parte da função que está sendo criada."
   ]
  },
  {
   "cell_type": "markdown",
   "metadata": {},
   "source": [
    "### Caso seja necessário, também é possível definir funções com nenhum ou vários argumentos"
   ]
  },
  {
   "cell_type": "code",
   "execution_count": null,
   "metadata": {},
   "outputs": [],
   "source": [
    "def pessoa(nome, ano_nascimento, ano_atual, trabalho):\n",
    "   idade = ano_atual - ano_nascimento\n",
    "   print ('Olá, meu nome é ' + str(nome.capitalize()) + \" \" + 'tenho' + \" \" +  str(idade) + \" \" + 'anos e trabalho como' + \" \" + str(trabalho))"
   ]
  },
  {
   "cell_type": "markdown",
   "metadata": {},
   "source": [
    "### No código acima pudemos perceber que a funcao foi declarada mas nao ocorreu nada, isso se da porque para executar uma funcao precisamos chamar-lá após sua declaracao."
   ]
  },
  {
   "cell_type": "markdown",
   "metadata": {},
   "source": [
    "### Mais abaixo iremos utilizar uma maneira muito mais pythonica de retornar um conjunto de strings utilizando <font color='red'> **f-strings formatting**</font>"
   ]
  },
  {
   "cell_type": "code",
   "execution_count": null,
   "metadata": {},
   "outputs": [],
   "source": [
    "pessoa(\"maria\", 1998, 2021, \"Desenvolvedora analista de sistemas\")"
   ]
  },
  {
   "cell_type": "markdown",
   "metadata": {},
   "source": [
    "## **2.2 Retorno de funções**"
   ]
  },
  {
   "cell_type": "markdown",
   "metadata": {},
   "source": [
    "### Assim como podem receber valores de entrada, as funções também podem produzir valores de saída, provenientes de determinadas operações. <br>\n",
    "### Nos exemplos anteriores, apenas imprimimos um valor com a função print, sem retornar explicitamente um resultado. <br>\n",
    "### Já no exemplo a seguir, temos uma função que faz o cálculo do salário e retorna o valor a ser pago conforme o número de horas trabalhadas. <br>"
   ]
  },
  {
   "cell_type": "code",
   "execution_count": null,
   "metadata": {},
   "outputs": [],
   "source": [
    "def calcular_pagamento(qtd_horas: float, valor_hora: float):\n",
    "  \n",
    "    if qtd_horas <= 40:\n",
    "        salario = qtd_horas * valor_hora\n",
    "    else:\n",
    "        hora_excd = qtd_horas - 40\n",
    "        salario = 40 * valor_hora + (hora_excd * (1.5 * valor_hora))\n",
    "    return salario\n",
    "\n",
    "horas_trab= float(input('Digite a quantidade de horas trabalhadas na semana: '))\n",
    "taxa= float(input('Digite o valor da hora trabalhada '))\n",
    "total_salario = calcular_pagamento(horas_trab, taxa)\n",
    "print('O valor de seu salário semanal foi de: R$',total_salario)"
   ]
  },
  {
   "cell_type": "markdown",
   "metadata": {},
   "source": [
    "- ### Na linha 1, a função **calcular_pagamento()** recebe dois parâmetros, *qtd_horas* e *valor_hora*, que representam, respectivamente, a quantidade de horas a serem calculadas e o valor da hora. <br>\n",
    "- ### Na terceira linha, verificamos se a quantidade de horas trabalhadas é menor ou igual a 40 horas.<br>\n",
    "- ### Caso seja verdadeiro, na linha 4 calculamos o valor do salário apenas multiplicando a quantidade de horas pelo valor de cada hora trabalhada. <br>\n",
    "- ### Se a quantidade for maior que 40 (linha 5), adicionamos ao salário um valor adicional de 50% pelas horas extras trabalhadas. \n",
    "- ### Por fim, na linha 8 retornamos o resultado do cálculo (contido na variável salario) com a instrução *return*. <br>\n"
   ]
  },
  {
   "cell_type": "markdown",
   "metadata": {},
   "source": [
    "## **2.3 Parâmetros nomeados**"
   ]
  },
  {
   "cell_type": "markdown",
   "metadata": {},
   "source": [
    "### As funções em Python tem suporte a parâmetros nomeados. <br> \n",
    "### O exemplo a seguir mostra um caso onde podemos usar nomes nos parâmetros da função."
   ]
  },
  {
   "cell_type": "code",
   "execution_count": null,
   "metadata": {},
   "outputs": [],
   "source": [
    "def salario_receber(sal_bruto, plano_saude, outros_descontos=0):\n",
    "    desc_inss = sal_bruto * 0.11\n",
    "    return sal_bruto - (desc_inss + plano_saude + outros_descontos)\n",
    "\n",
    "salario_empregado = salario_receber(plano_saude = 200, sal_bruto = 7000)\n",
    "print(f'O valor a ser recebido é: R$ {round(salario_empregado, 2)}')"
   ]
  },
  {
   "cell_type": "markdown",
   "metadata": {},
   "source": [
    "### Como mostrado no exemplo anterior, quando nomeamos os parametros da funcao não precisamos necessariamente declarar os valores na ordem em que os parametros foram criados. \n",
    "### No exemplo anterior, declaramos *sal_bruto* antes de *plano_saude*, no entanto, quando passamos os nomes declaramos na ordem inversa."
   ]
  },
  {
   "cell_type": "markdown",
   "metadata": {},
   "source": [
    "# **3. Importando funções** ⚡"
   ]
  },
  {
   "cell_type": "markdown",
   "metadata": {},
   "source": [
    "<img src=\"../images/functions_everywhere.jpeg\" alt=\"Drawing\" style=\"width: 400px;\"/>"
   ]
  },
  {
   "cell_type": "markdown",
   "metadata": {},
   "source": [
    "### Em grandes projetos é comum criar funções/classes em um arquivo e utilizar o objeto criado em outro arquivo, tudo isso para manter um código mais organizado e seguir as métricas de um bom código. Abaixo, veremos maneiras diferentes de estar trabalhando importando nossas funções."
   ]
  },
  {
   "cell_type": "markdown",
   "metadata": {},
   "source": [
    "## **3.1 Funções builtin**\n",
    "### A biblioteca do Python contém vários componentes embutidos, que podem ser utilizados em qualquer parte do código sem a necessidade de um import.\n",
    "### Um exemplo disso é a função *max()*, que retorna o maior elemento de uma lista que lhe é passada por parâmetro."
   ]
  },
  {
   "cell_type": "code",
   "execution_count": null,
   "metadata": {},
   "outputs": [],
   "source": [
    "maior_numero = max(1, 2, 3)\n",
    "print(maior_numero)"
   ]
  },
  {
   "cell_type": "markdown",
   "metadata": {},
   "source": [
    "### Outro exemplo é a função *all()*, que passado um conjunto de itens retorna *True* se todos elementos do conjunto forem *True*."
   ]
  },
  {
   "cell_type": "code",
   "execution_count": null,
   "metadata": {},
   "outputs": [],
   "source": [
    "lista1 = [True,True,True]\n",
    "print(all(lista1))\n",
    "lista2 = [True,False,True]\n",
    "print(all(lista2))"
   ]
  },
  {
   "cell_type": "markdown",
   "metadata": {},
   "source": [
    "## **3.2 importando novos módulos**\n",
    "### Para importarmos novos módulos utilizamos <br>\n",
    "### import (nome do pacote)"
   ]
  },
  {
   "cell_type": "code",
   "execution_count": null,
   "metadata": {},
   "outputs": [],
   "source": [
    "import math\n",
    "print(math.sqrt(25))"
   ]
  },
  {
   "cell_type": "markdown",
   "metadata": {},
   "source": [
    "\n",
    "### O código acima importará todos os módulos da biblioteca math,<br>\n",
    "### Para importar apenas o necessário utilizamos *from*\n",
    "### from (nome do pacote) import (nome do item)\n",
    "### O código abaixo importará o módulo sqrt do pacote math."
   ]
  },
  {
   "cell_type": "code",
   "execution_count": null,
   "metadata": {},
   "outputs": [],
   "source": [
    "from math import sqrt\n",
    "print(sqrt(25))"
   ]
  },
  {
   "cell_type": "markdown",
   "metadata": {},
   "source": [
    "### Observe que ao utilizar from (nome do pacote) import (nome do item), o item pode ser um subpacote, submódulo, classe, função ou variável.\n",
    "---"
   ]
  }
 ],
 "metadata": {
  "kernelspec": {
   "display_name": "Python 3.10.8 64-bit",
   "language": "python",
   "name": "python3"
  },
  "language_info": {
   "codemirror_mode": {
    "name": "ipython",
    "version": 3
   },
   "file_extension": ".py",
   "mimetype": "text/x-python",
   "name": "python",
   "nbconvert_exporter": "python",
   "pygments_lexer": "ipython3",
   "version": "3.10.8"
  },
  "vscode": {
   "interpreter": {
    "hash": "e7370f93d1d0cde622a1f8e1c04877d8463912d04d973331ad4851f04de6915a"
   }
  }
 },
 "nbformat": 4,
 "nbformat_minor": 4
}
